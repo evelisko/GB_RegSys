{
  "cells": [
    {
      "cell_type": "markdown",
      "metadata": {
        "id": "nMBdGcvjC4Ji"
      },
      "source": [
        "# Вебинар 6. Двухуровневые модели рекомендаций\n"
      ]
    },
    {
      "cell_type": "markdown",
      "metadata": {
        "id": "3Jgaacz0C4Jl"
      },
      "source": [
        "Код для src, utils, metrics вы можете скачать из [этого](https://github.com/geangohn/recsys-tutorial) github репозитория"
      ]
    },
    {
      "cell_type": "code",
      "execution_count": 1,
      "metadata": {
        "colab": {
          "base_uri": "https://localhost:8080/"
        },
        "id": "B5pEd3Wo7_nM",
        "outputId": "6940876b-81a4-44dd-8dad-165147e56f51"
      },
      "outputs": [],
      "source": [
        "# !pip install implicit"
      ]
    },
    {
      "cell_type": "code",
      "execution_count": 2,
      "metadata": {
        "id": "5Aur99NsC4Jm"
      },
      "outputs": [],
      "source": [
        "import pandas as pd\n",
        "import numpy as np\n",
        "import matplotlib.pyplot as plt\n",
        "%matplotlib inline\n",
        "\n",
        "# Для работы с матрицами\n",
        "from scipy.sparse import csr_matrix\n",
        "\n",
        "# Матричная факторизация\n",
        "from implicit import als\n",
        "\n",
        "# Модель второго уровня\n",
        "from lightgbm import LGBMClassifier\n",
        "\n",
        "import os, sys\n",
        "module_path = os.path.abspath(os.path.join(os.pardir))\n",
        "if module_path not in sys.path:\n",
        "    sys.path.append(module_path)\n",
        "\n",
        "# Написанные нами функции\n",
        "from src.metrics import precision_at_k, recall_at_k\n",
        "from src.utils import prefilter_items\n",
        "from src.recommenders import MainRecommender\n",
        "from tqdm import tqdm\n",
        "\n",
        "tqdm.pandas()"
      ]
    },
    {
      "cell_type": "code",
      "execution_count": 3,
      "metadata": {
        "colab": {
          "base_uri": "https://localhost:8080/",
          "height": 442
        },
        "id": "vso_erSdC4Jo",
        "outputId": "81cbc675-678b-4650-d076-de2e5e1eb4ad"
      },
      "outputs": [],
      "source": [
        "data = pd.read_csv('../raw_data/retail_train.csv')\n",
        "item_features = pd.read_csv('../raw_data/product.csv')\n",
        "user_features = pd.read_csv('../raw_data/hh_demographic.csv')\n",
        "\n",
        "# column processing\n",
        "item_features.columns = [col.lower() for col in item_features.columns]\n",
        "user_features.columns = [col.lower() for col in user_features.columns]\n",
        "\n",
        "item_features.rename(columns={'product_id': 'item_id'}, inplace=True)\n",
        "user_features.rename(columns={'household_key': 'user_id'}, inplace=True)\n"
      ]
    },
    {
      "cell_type": "markdown",
      "metadata": {},
      "source": [
        "Добавим номера дней недели."
      ]
    },
    {
      "cell_type": "code",
      "execution_count": 4,
      "metadata": {},
      "outputs": [],
      "source": [
        "week_day = {'week_day': []}\n",
        "# считаем номер недели. поле чего вычисляем записи с номеро дня. \n",
        "# определяем номер дня соответствуующий номеру последнему дню недели и после этого начинаем вычетать из него.\n",
        "# номера номера дней. \n",
        "max_week_no = data['week_no'].max()\n",
        "min_week_no = data['week_no'].min()\n",
        "\n",
        "week_days=[]\n",
        "for week_no in range(min_week_no,max_week_no + 1):\n",
        "    max_day_in_week = data.loc[(data['week_no']==week_no),'day'].max()\n",
        "    days = data.loc[(data['week_no']==week_no),'day']\n",
        "    for day in days:\n",
        "        week_days.append(day-max_day_in_week+7)\n",
        "\n",
        "data['week_day'] = week_days"
      ]
    },
    {
      "cell_type": "markdown",
      "metadata": {},
      "source": [
        "Заменим категориальные фитчи 'income_desc' и 'age_desc' на числовые."
      ]
    },
    {
      "cell_type": "code",
      "execution_count": 5,
      "metadata": {},
      "outputs": [],
      "source": [
        "# user_features['income_desc'].unique()\n",
        "income_desc = {'35-49K':42, '50-74K':62, '25-34K':30, '75-99K':87, 'Under 15K':15, '100-124K':112,\n",
        "       '15-24K':20, '125-149K':137, '150-174K':162, '250K+':250, '175-199K':187, '200-249K':225}\n",
        "user_features['income_desc'] = user_features['income_desc'].apply(lambda x: income_desc[x]) \n",
        "# user_features['age_desc'].unique()\n",
        "age_desc = {'65+':65, '45-54':50, '25-34':30, '35-44':40, '19-24':21, '55-64':60}\t\n",
        "user_features['age_desc'] = user_features['age_desc'].apply(lambda x: age_desc[x])\n"
      ]
    },
    {
      "cell_type": "code",
      "execution_count": 6,
      "metadata": {},
      "outputs": [
        {
          "data": {
            "text/html": [
              "<div>\n",
              "<style scoped>\n",
              "    .dataframe tbody tr th:only-of-type {\n",
              "        vertical-align: middle;\n",
              "    }\n",
              "\n",
              "    .dataframe tbody tr th {\n",
              "        vertical-align: top;\n",
              "    }\n",
              "\n",
              "    .dataframe thead th {\n",
              "        text-align: right;\n",
              "    }\n",
              "</style>\n",
              "<table border=\"1\" class=\"dataframe\">\n",
              "  <thead>\n",
              "    <tr style=\"text-align: right;\">\n",
              "      <th></th>\n",
              "      <th>user_id</th>\n",
              "      <th>basket_id</th>\n",
              "      <th>day</th>\n",
              "      <th>item_id</th>\n",
              "      <th>quantity</th>\n",
              "      <th>sales_value</th>\n",
              "      <th>store_id</th>\n",
              "      <th>retail_disc</th>\n",
              "      <th>trans_time</th>\n",
              "      <th>week_no</th>\n",
              "      <th>coupon_disc</th>\n",
              "      <th>coupon_match_disc</th>\n",
              "      <th>week_day</th>\n",
              "    </tr>\n",
              "  </thead>\n",
              "  <tbody>\n",
              "    <tr>\n",
              "      <th>0</th>\n",
              "      <td>2375</td>\n",
              "      <td>26984851472</td>\n",
              "      <td>1</td>\n",
              "      <td>1004906</td>\n",
              "      <td>1</td>\n",
              "      <td>1.39</td>\n",
              "      <td>364</td>\n",
              "      <td>-0.6</td>\n",
              "      <td>1631</td>\n",
              "      <td>1</td>\n",
              "      <td>0.0</td>\n",
              "      <td>0.0</td>\n",
              "      <td>3</td>\n",
              "    </tr>\n",
              "    <tr>\n",
              "      <th>1</th>\n",
              "      <td>2375</td>\n",
              "      <td>26984851472</td>\n",
              "      <td>1</td>\n",
              "      <td>1033142</td>\n",
              "      <td>1</td>\n",
              "      <td>0.82</td>\n",
              "      <td>364</td>\n",
              "      <td>0.0</td>\n",
              "      <td>1631</td>\n",
              "      <td>1</td>\n",
              "      <td>0.0</td>\n",
              "      <td>0.0</td>\n",
              "      <td>3</td>\n",
              "    </tr>\n",
              "  </tbody>\n",
              "</table>\n",
              "</div>"
            ],
            "text/plain": [
              "   user_id    basket_id  day  item_id  quantity  sales_value  store_id  \\\n",
              "0     2375  26984851472    1  1004906         1         1.39       364   \n",
              "1     2375  26984851472    1  1033142         1         0.82       364   \n",
              "\n",
              "   retail_disc  trans_time  week_no  coupon_disc  coupon_match_disc  week_day  \n",
              "0         -0.6        1631        1          0.0                0.0         3  \n",
              "1          0.0        1631        1          0.0                0.0         3  "
            ]
          },
          "execution_count": 6,
          "metadata": {},
          "output_type": "execute_result"
        }
      ],
      "source": [
        "# Если я не ошибаюсь, предобработку данных на датасете \n",
        "# лучше выполнять до разделения, выборки. \n",
        "# data = prefilter_items(data, item_features=item_features, take_n_popular=5000)\n",
        "\n",
        "\n",
        "# Важна схема обучения и валидации!\n",
        "# -- давние покупки -- | -- 6 недель -- | -- 3 недель -- \n",
        "# подобрать размер 2-ого датасета (6 недель) --> learning curve (зависимость метрики recall@k от размера датасета)\n",
        "val_lvl_1_size_weeks = 6\n",
        "val_lvl_2_size_weeks = 3\n",
        "\n",
        "data_train_lvl_1 = data[data['week_no'] < data['week_no'].max() - (val_lvl_1_size_weeks + val_lvl_2_size_weeks)]\n",
        "data_val_lvl_1 = data[(data['week_no'] >= data['week_no'].max() - (val_lvl_1_size_weeks + val_lvl_2_size_weeks)) &\n",
        "                      (data['week_no'] < data['week_no'].max() - (val_lvl_2_size_weeks))]\n",
        "\n",
        "data_train_lvl_2 = data_val_lvl_1.copy()  # Для наглядности. Далее мы добавим изменения, и они будут отличаться\n",
        "data_val_lvl_2 = data[data['week_no'] >= data['week_no'].max() - val_lvl_2_size_weeks]\n",
        "\n",
        "data_train_lvl_1.head(2)"
      ]
    },
    {
      "cell_type": "code",
      "execution_count": 7,
      "metadata": {
        "id": "zcnV3l4XC4Jp",
        "outputId": "d58f889c-0671-4bb9-b2b6-2dc2e8c24fce"
      },
      "outputs": [
        {
          "name": "stdout",
          "output_type": "stream",
          "text": [
            "Decreased # items from 83685 to 5001\n"
          ]
        }
      ],
      "source": [
        "n_items_before = data_train_lvl_1['item_id'].nunique()\n",
        "\n",
        "data_train_lvl_1 = prefilter_items(data_train_lvl_1, item_features=item_features, take_n_popular=5000)\n",
        "\n",
        "n_items_after = data_train_lvl_1['item_id'].nunique()\n",
        "print('Decreased # items from {} to {}'.format(n_items_before, n_items_after))"
      ]
    },
    {
      "cell_type": "code",
      "execution_count": 8,
      "metadata": {
        "colab": {
          "referenced_widgets": [
            "729d4287bb794971802d9da5e141f10a",
            "32375ef613474af6a0fcadb9255eb835"
          ]
        },
        "id": "zgYXRQ0lC4Jq",
        "outputId": "d9ea41ae-3b4d-41b4-fc46-90868ebb9894"
      },
      "outputs": [
        {
          "name": "stderr",
          "output_type": "stream",
          "text": [
            "WARNING:root:OpenBLAS detected. Its highly recommend to set the environment variable 'export OPENBLAS_NUM_THREADS=1' to disable its internal multithreading\n",
            "100%|██████████| 15/15 [00:16<00:00,  1.12s/it]\n",
            "100%|██████████| 5001/5001 [00:00<00:00, 25336.87it/s]\n"
          ]
        }
      ],
      "source": [
        "recommender = MainRecommender(data_train_lvl_1)"
      ]
    },
    {
      "cell_type": "code",
      "execution_count": 9,
      "metadata": {
        "id": "xB9JX5swC4Jr",
        "outputId": "af05502b-1fb9-42b6-919c-b915ac3a0106"
      },
      "outputs": [
        {
          "data": {
            "text/plain": [
              "[899624, 1037863, 951590, 1044078, 991546]"
            ]
          },
          "execution_count": 9,
          "metadata": {},
          "output_type": "execute_result"
        }
      ],
      "source": [
        "recommender.get_als_recommendations(2375, N=5)"
      ]
    },
    {
      "cell_type": "code",
      "execution_count": 10,
      "metadata": {
        "id": "PNVa6jWLC4Jr",
        "outputId": "c69395e4-8171-41f1-c0c4-067b582f26e0"
      },
      "outputs": [
        {
          "data": {
            "text/plain": [
              "[1068562, 1005935, 907099, 1112627, 1036501]"
            ]
          },
          "execution_count": 10,
          "metadata": {},
          "output_type": "execute_result"
        }
      ],
      "source": [
        "recommender.get_own_recommendations(2375, N=5)"
      ]
    },
    {
      "cell_type": "code",
      "execution_count": 11,
      "metadata": {},
      "outputs": [
        {
          "data": {
            "text/plain": [
              "[1068562, 1005935, 907099, 1112627, 1036501]"
            ]
          },
          "execution_count": 11,
          "metadata": {},
          "output_type": "execute_result"
        }
      ],
      "source": [
        "is_extend_with_top_popular=True\n",
        "recommender.get_own_recommendations(user=2375, N=5, extend_with_top_popular=is_extend_with_top_popular)"
      ]
    },
    {
      "cell_type": "code",
      "execution_count": 12,
      "metadata": {
        "id": "0NoB_lSJC4Js",
        "outputId": "9f91a42c-08bf-4037-fca1-54db5a5cafee"
      },
      "outputs": [
        {
          "data": {
            "text/plain": [
              "[889731, 1044078, 999207, 1062966, 9677366]"
            ]
          },
          "execution_count": 12,
          "metadata": {},
          "output_type": "execute_result"
        }
      ],
      "source": [
        "recommender.get_similar_items_recommendation(2375, N=5)"
      ]
    },
    {
      "cell_type": "code",
      "execution_count": 13,
      "metadata": {
        "id": "GdQO5CWKC4Js",
        "outputId": "08936fbf-715f-412a-9fbe-065816bb6a90"
      },
      "outputs": [
        {
          "data": {
            "text/plain": [
              "[1052155, 831125, 854133, 7147317, 911162]"
            ]
          },
          "execution_count": 13,
          "metadata": {},
          "output_type": "execute_result"
        }
      ],
      "source": [
        "recommender.get_similar_users_recommendation(2375, N=5)"
      ]
    },
    {
      "cell_type": "markdown",
      "metadata": {
        "id": "Bqs9Sw_YC4Jt"
      },
      "source": [
        "### Задание 1\n",
        "\n",
        "A) Попробуйте различные варианты генерации кандидатов. Какие из них дают наибольший recall@k ?\n",
        "- Пока пробуем отобрать 50 кандидатов (k=50)\n",
        "- Качество измеряем на data_val_lvl_1: следующие 6 недель после трейна\n",
        "\n",
        "Дают ли own recommendtions + top-popular лучший recall?  \n",
        "\n",
        "B)* Как зависит recall@k от k? Постройте для одной схемы генерации кандидатов эту зависимость для k = {20, 50, 100, 200, 500}  \n",
        "C)* Исходя из прошлого вопроса, как вы думаете, какое значение k является наиболее разумным?\n"
      ]
    },
    {
      "cell_type": "code",
      "execution_count": 14,
      "metadata": {},
      "outputs": [
        {
          "data": {
            "text/html": [
              "<div>\n",
              "<style scoped>\n",
              "    .dataframe tbody tr th:only-of-type {\n",
              "        vertical-align: middle;\n",
              "    }\n",
              "\n",
              "    .dataframe tbody tr th {\n",
              "        vertical-align: top;\n",
              "    }\n",
              "\n",
              "    .dataframe thead th {\n",
              "        text-align: right;\n",
              "    }\n",
              "</style>\n",
              "<table border=\"1\" class=\"dataframe\">\n",
              "  <thead>\n",
              "    <tr style=\"text-align: right;\">\n",
              "      <th></th>\n",
              "      <th>user_id</th>\n",
              "      <th>basket_id</th>\n",
              "      <th>day</th>\n",
              "      <th>item_id</th>\n",
              "      <th>quantity</th>\n",
              "      <th>sales_value</th>\n",
              "      <th>store_id</th>\n",
              "      <th>retail_disc</th>\n",
              "      <th>trans_time</th>\n",
              "      <th>week_no</th>\n",
              "      <th>coupon_disc</th>\n",
              "      <th>coupon_match_disc</th>\n",
              "      <th>week_day</th>\n",
              "    </tr>\n",
              "  </thead>\n",
              "  <tbody>\n",
              "    <tr>\n",
              "      <th>1748540</th>\n",
              "      <td>1602</td>\n",
              "      <td>34748855121</td>\n",
              "      <td>503</td>\n",
              "      <td>999999</td>\n",
              "      <td>2</td>\n",
              "      <td>3.98</td>\n",
              "      <td>334</td>\n",
              "      <td>0.0</td>\n",
              "      <td>843</td>\n",
              "      <td>73</td>\n",
              "      <td>0.0</td>\n",
              "      <td>0.0</td>\n",
              "      <td>2</td>\n",
              "    </tr>\n",
              "    <tr>\n",
              "      <th>1748542</th>\n",
              "      <td>1375</td>\n",
              "      <td>34748856592</td>\n",
              "      <td>503</td>\n",
              "      <td>849003</td>\n",
              "      <td>1</td>\n",
              "      <td>3.18</td>\n",
              "      <td>334</td>\n",
              "      <td>0.0</td>\n",
              "      <td>1708</td>\n",
              "      <td>73</td>\n",
              "      <td>0.0</td>\n",
              "      <td>0.0</td>\n",
              "      <td>7</td>\n",
              "    </tr>\n",
              "  </tbody>\n",
              "</table>\n",
              "</div>"
            ],
            "text/plain": [
              "         user_id    basket_id  day  item_id  quantity  sales_value  store_id  \\\n",
              "1748540     1602  34748855121  503   999999         2         3.98       334   \n",
              "1748542     1375  34748856592  503   849003         1         3.18       334   \n",
              "\n",
              "         retail_disc  trans_time  week_no  coupon_disc  coupon_match_disc  \\\n",
              "1748540          0.0         843       73          0.0                0.0   \n",
              "1748542          0.0        1708       73          0.0                0.0   \n",
              "\n",
              "         week_day  \n",
              "1748540         2  \n",
              "1748542         7  "
            ]
          },
          "execution_count": 14,
          "metadata": {},
          "output_type": "execute_result"
        }
      ],
      "source": [
        "data_train_lvl_2 = data_val_lvl_1.copy()  # Для наглядности. Далее мы добавим изменения, и они будут отличаться\n",
        "data_val_lvl_2 = data[data['week_no'] >= data['week_no'].max() - val_lvl_2_size_weeks]\n",
        "\n",
        "data_train_lvl_1.head(2)"
      ]
    },
    {
      "cell_type": "code",
      "execution_count": 15,
      "metadata": {
        "id": "frt2RzDWC4Jt",
        "outputId": "7c594abf-4a34-406b-9897-8bfbddf69a93"
      },
      "outputs": [
        {
          "data": {
            "text/html": [
              "<div>\n",
              "<style scoped>\n",
              "    .dataframe tbody tr th:only-of-type {\n",
              "        vertical-align: middle;\n",
              "    }\n",
              "\n",
              "    .dataframe tbody tr th {\n",
              "        vertical-align: top;\n",
              "    }\n",
              "\n",
              "    .dataframe thead th {\n",
              "        text-align: right;\n",
              "    }\n",
              "</style>\n",
              "<table border=\"1\" class=\"dataframe\">\n",
              "  <thead>\n",
              "    <tr style=\"text-align: right;\">\n",
              "      <th></th>\n",
              "      <th>user_id</th>\n",
              "      <th>actual</th>\n",
              "    </tr>\n",
              "  </thead>\n",
              "  <tbody>\n",
              "    <tr>\n",
              "      <th>0</th>\n",
              "      <td>1</td>\n",
              "      <td>[853529, 865456, 867607, 872137, 874905, 87524...</td>\n",
              "    </tr>\n",
              "    <tr>\n",
              "      <th>1</th>\n",
              "      <td>2</td>\n",
              "      <td>[15830248, 838136, 839656, 861272, 866211, 870...</td>\n",
              "    </tr>\n",
              "  </tbody>\n",
              "</table>\n",
              "</div>"
            ],
            "text/plain": [
              "   user_id                                             actual\n",
              "0        1  [853529, 865456, 867607, 872137, 874905, 87524...\n",
              "1        2  [15830248, 838136, 839656, 861272, 866211, 870..."
            ]
          },
          "execution_count": 15,
          "metadata": {},
          "output_type": "execute_result"
        }
      ],
      "source": [
        "result_lvl_1 = data_val_lvl_1.groupby('user_id')['item_id'].unique().reset_index()\n",
        "result_lvl_1.columns=['user_id', 'actual']\n",
        "\n",
        "result_lvl_1.head(2)"
      ]
    },
    {
      "cell_type": "code",
      "execution_count": 16,
      "metadata": {},
      "outputs": [
        {
          "data": {
            "text/plain": [
              "2084"
            ]
          },
          "execution_count": 16,
          "metadata": {},
          "output_type": "execute_result"
        }
      ],
      "source": [
        "# Убирем из тестовой выборки пользоватлей, которые отсутствуют в обучащей. \n",
        "# Определяем уникальных пользователей которые есть в тестовом датасете. \n",
        "\n",
        "result_lvl_1 = result_lvl_1[result_lvl_1['user_id'].isin(data_train_lvl_1['user_id'].unique())]\n",
        "result_lvl_1['user_id'].count()"
      ]
    },
    {
      "cell_type": "code",
      "execution_count": 17,
      "metadata": {},
      "outputs": [],
      "source": [
        "N=50\n",
        "result_lvl_1['similar_items_recomender'] = result_lvl_1['user_id'].apply(lambda x: recommender.get_similar_items_recommendation(x, N=N))\n",
        "\n",
        "result_lvl_1['als_recmender'] = result_lvl_1['user_id'].apply(lambda x: recommender.get_als_recommendations(x, N=N))\n",
        "\n",
        "result_lvl_1['own_recomender'] = result_lvl_1['user_id'].apply(lambda x: recommender.get_own_recommendations(x, N=N))\n",
        "\n",
        "# Дополняем недостающие товары популярными.\n",
        "is_extend_with_top_popular=True\n",
        "result_lvl_1['own_recomender_extend'] = result_lvl_1['user_id'].apply(lambda x:\n",
        " recommender.get_own_recommendations(x, N=N, extend_with_top_popular=is_extend_with_top_popular))"
      ]
    },
    {
      "cell_type": "code",
      "execution_count": 18,
      "metadata": {},
      "outputs": [
        {
          "data": {
            "text/html": [
              "<div>\n",
              "<style scoped>\n",
              "    .dataframe tbody tr th:only-of-type {\n",
              "        vertical-align: middle;\n",
              "    }\n",
              "\n",
              "    .dataframe tbody tr th {\n",
              "        vertical-align: top;\n",
              "    }\n",
              "\n",
              "    .dataframe thead th {\n",
              "        text-align: right;\n",
              "    }\n",
              "</style>\n",
              "<table border=\"1\" class=\"dataframe\">\n",
              "  <thead>\n",
              "    <tr style=\"text-align: right;\">\n",
              "      <th></th>\n",
              "      <th>method</th>\n",
              "      <th>precission</th>\n",
              "    </tr>\n",
              "  </thead>\n",
              "  <tbody>\n",
              "    <tr>\n",
              "      <th>0</th>\n",
              "      <td>similar_items_recomender</td>\n",
              "      <td>0.057342</td>\n",
              "    </tr>\n",
              "    <tr>\n",
              "      <th>1</th>\n",
              "      <td>als_recmender</td>\n",
              "      <td>0.080163</td>\n",
              "    </tr>\n",
              "    <tr>\n",
              "      <th>2</th>\n",
              "      <td>own_recomender</td>\n",
              "      <td>0.118695</td>\n",
              "    </tr>\n",
              "    <tr>\n",
              "      <th>3</th>\n",
              "      <td>own_recomender_extend</td>\n",
              "      <td>0.118695</td>\n",
              "    </tr>\n",
              "  </tbody>\n",
              "</table>\n",
              "</div>"
            ],
            "text/plain": [
              "                     method  precission\n",
              "0  similar_items_recomender    0.057342\n",
              "1             als_recmender    0.080163\n",
              "2            own_recomender    0.118695\n",
              "3     own_recomender_extend    0.118695"
            ]
          },
          "execution_count": 18,
          "metadata": {},
          "output_type": "execute_result"
        }
      ],
      "source": [
        "N=50\n",
        "precision_dic = {'method':[], 'precission':[] }\n",
        "\n",
        "column_names = ['similar_items_recomender',\n",
        "                'als_recmender',\n",
        "                'own_recomender',\n",
        "                'own_recomender_extend'\n",
        "]\n",
        "for column_name in column_names:\n",
        "    precision_dic['method'].append(column_name)\n",
        "    precision_dic['precission'].append(result_lvl_1.apply(lambda x: precision_at_k(x[column_name], x['actual'],  N), axis=1).mean()) \n",
        "\n",
        "pd.DataFrame(precision_dic)"
      ]
    },
    {
      "cell_type": "code",
      "execution_count": 19,
      "metadata": {},
      "outputs": [
        {
          "data": {
            "text/html": [
              "<div>\n",
              "<style scoped>\n",
              "    .dataframe tbody tr th:only-of-type {\n",
              "        vertical-align: middle;\n",
              "    }\n",
              "\n",
              "    .dataframe tbody tr th {\n",
              "        vertical-align: top;\n",
              "    }\n",
              "\n",
              "    .dataframe thead th {\n",
              "        text-align: right;\n",
              "    }\n",
              "</style>\n",
              "<table border=\"1\" class=\"dataframe\">\n",
              "  <thead>\n",
              "    <tr style=\"text-align: right;\">\n",
              "      <th></th>\n",
              "      <th>method</th>\n",
              "      <th>recall</th>\n",
              "    </tr>\n",
              "  </thead>\n",
              "  <tbody>\n",
              "    <tr>\n",
              "      <th>0</th>\n",
              "      <td>similar_items_recomender</td>\n",
              "      <td>0.061504</td>\n",
              "    </tr>\n",
              "    <tr>\n",
              "      <th>1</th>\n",
              "      <td>als_recmender</td>\n",
              "      <td>0.064782</td>\n",
              "    </tr>\n",
              "    <tr>\n",
              "      <th>2</th>\n",
              "      <td>own_recomender</td>\n",
              "      <td>0.113664</td>\n",
              "    </tr>\n",
              "    <tr>\n",
              "      <th>3</th>\n",
              "      <td>own_recomender_extend</td>\n",
              "      <td>0.113664</td>\n",
              "    </tr>\n",
              "  </tbody>\n",
              "</table>\n",
              "</div>"
            ],
            "text/plain": [
              "                     method    recall\n",
              "0  similar_items_recomender  0.061504\n",
              "1             als_recmender  0.064782\n",
              "2            own_recomender  0.113664\n",
              "3     own_recomender_extend  0.113664"
            ]
          },
          "execution_count": 19,
          "metadata": {},
          "output_type": "execute_result"
        }
      ],
      "source": [
        "N=50\n",
        "precision_dic = {'method':[], 'recall':[] }\n",
        "\n",
        "column_names = ['similar_items_recomender',\n",
        "                'als_recmender',\n",
        "                'own_recomender',\n",
        "                'own_recomender_extend'\n",
        "]\n",
        "for column_name in column_names:\n",
        "    precision_dic['method'].append(column_name)\n",
        "    precision_dic['recall'].append(result_lvl_1.apply(lambda x: recall_at_k(x[column_name], x['actual'],  N), axis=1).mean()) \n",
        "\n",
        "pd.DataFrame(precision_dic)"
      ]
    },
    {
      "cell_type": "markdown",
      "metadata": {},
      "source": [
        "**B)**\\* Как зависит recall@k от k? Постройте для одной схемы генерации кандидатов эту зависимость для k = {20, 50, 100, 200, 500}  "
      ]
    },
    {
      "cell_type": "code",
      "execution_count": 20,
      "metadata": {},
      "outputs": [],
      "source": [
        "def get_metrics(metric,values):\n",
        "    metric_values = []\n",
        "    is_extend_with_top_popular=True\n",
        "    for k in tqdm(values):\n",
        "        result_lvl_1[f'own_recomender_{k}'] = result_lvl_1['user_id'].apply(lambda x: recommender. \\\n",
        "        get_own_recommendations(x, N=k,extend_with_top_popular=is_extend_with_top_popular))\n",
        "        metric_values.append(result_lvl_1.apply(lambda x: metric(x[f'own_recomender_{k}'],\n",
        "        x['actual'],  k), axis=1).mean()) \n",
        "    return metric_values"
      ]
    },
    {
      "cell_type": "code",
      "execution_count": 21,
      "metadata": {},
      "outputs": [
        {
          "name": "stderr",
          "output_type": "stream",
          "text": [
            "100%|██████████| 7/7 [01:34<00:00, 13.46s/it]\n"
          ]
        }
      ],
      "source": [
        "values = [5, 10, 20, 50, 100, 200, 500]\n",
        "\n",
        "recall = get_metrics(recall_at_k, values)"
      ]
    },
    {
      "cell_type": "code",
      "execution_count": 22,
      "metadata": {},
      "outputs": [
        {
          "data": {
            "image/png": "[encoded data removed]",
            "text/plain": [
              "<Figure size 432x288 with 1 Axes>"
            ]
          },
          "metadata": {
            "needs_background": "light"
          },
          "output_type": "display_data"
        }
      ],
      "source": [
        "plt.plot(values, recall)\n",
        "plt.ylabel('recall')\n",
        "plt.xlabel('k')\n",
        "plt.show()"
      ]
    },
    {
      "cell_type": "markdown",
      "metadata": {},
      "source": [
        "**C)*** Исходя из прошлого вопроса, как вы думаете, какое значение k является наиболее разумным?"
      ]
    },
    {
      "cell_type": "markdown",
      "metadata": {},
      "source": [
        "Для того чтобы ответить на этот вопрос, построим, дополнительно, график precision_at_k."
      ]
    },
    {
      "cell_type": "code",
      "execution_count": 23,
      "metadata": {},
      "outputs": [
        {
          "name": "stderr",
          "output_type": "stream",
          "text": [
            "100%|██████████| 7/7 [01:25<00:00, 12.20s/it]\n"
          ]
        }
      ],
      "source": [
        "precision = get_metrics(precision_at_k, values)"
      ]
    },
    {
      "cell_type": "code",
      "execution_count": 24,
      "metadata": {},
      "outputs": [
        {
          "data": {
            "image/png": "[encoded data removed]",
            "text/plain": [
              "<Figure size 432x288 with 1 Axes>"
            ]
          },
          "metadata": {
            "needs_background": "light"
          },
          "output_type": "display_data"
        }
      ],
      "source": [
        "plt.plot(values, recall, label='recall')\n",
        "plt.xlabel('k')\n",
        "plt.plot(values, precision, label='precision')\n",
        "plt.legend()\n",
        "plt.show()"
      ]
    },
    {
      "cell_type": "markdown",
      "metadata": {},
      "source": [
        "Видно, что с увеличением к-ва элементов recall  ростет, а precision уменьшается. Выбор значения k во монгом зависит от задачи, все завист от того какой параметр мы хотим максимизировать. \n",
        "Но, в общем случаем оптимальне значение k находится в месте пересечения графиков precision и recall, т.е. ~ 50."
      ]
    },
    {
      "cell_type": "markdown",
      "metadata": {
        "id": "bAHJu3Z5C4Ju"
      },
      "source": [
        "### Задание 2.\n",
        "\n",
        "Обучите модель 2-ого уровня, при этом:  \n",
        "    - Добавьте минимум по 2 фичи для юзера, товара и пары юзер-товар  \n",
        "    - Измерьте отдельно precision@5 модели 1-ого уровня и двухуровневой модели на data_val_lvl_2  \n",
        "    - Вырос ли precision@5 при использовании двухуровневой модели?  "
      ]
    },
    {
      "cell_type": "code",
      "execution_count": 25,
      "metadata": {},
      "outputs": [],
      "source": [
        "# data = data_train_lvl_2.copy()"
      ]
    },
    {
      "cell_type": "code",
      "execution_count": 26,
      "metadata": {},
      "outputs": [],
      "source": [
        "# # data\n",
        "# # day in week\n",
        "# week_day = {'week_day': []}\n",
        "# # считаем номер недели. поле чего вычисляем записи с номеро дня. \n",
        "# # определяем номер дня соответствуующий номеру последнему дню недели и после этого начинаем вычетать из него.\n",
        "# # номера номера дней. \n",
        "# max_week_no = data['week_no'].max()\n",
        "# min_week_no = data['week_no'].min()\n",
        "\n",
        "# week_days=[]\n",
        "# for week_no in range(min_week_no,max_week_no + 1):\n",
        "#     max_day_in_week = data.loc[(data['week_no']==week_no),'day'].max()\n",
        "#     days = data.loc[(data['week_no']==week_no),'day']\n",
        "#     for day in days:\n",
        "#         week_days.append(day-max_day_in_week+7)\n",
        "\n",
        "# data['week_day'] = week_days"
      ]
    },
    {
      "cell_type": "code",
      "execution_count": 27,
      "metadata": {},
      "outputs": [
        {
          "data": {
            "text/html": [
              "<div>\n",
              "<style scoped>\n",
              "    .dataframe tbody tr th:only-of-type {\n",
              "        vertical-align: middle;\n",
              "    }\n",
              "\n",
              "    .dataframe tbody tr th {\n",
              "        vertical-align: top;\n",
              "    }\n",
              "\n",
              "    .dataframe thead th {\n",
              "        text-align: right;\n",
              "    }\n",
              "</style>\n",
              "<table border=\"1\" class=\"dataframe\">\n",
              "  <thead>\n",
              "    <tr style=\"text-align: right;\">\n",
              "      <th></th>\n",
              "      <th>user_id</th>\n",
              "      <th>basket_id</th>\n",
              "      <th>day</th>\n",
              "      <th>item_id</th>\n",
              "      <th>quantity</th>\n",
              "      <th>sales_value</th>\n",
              "      <th>store_id</th>\n",
              "      <th>retail_disc</th>\n",
              "      <th>trans_time</th>\n",
              "      <th>week_no</th>\n",
              "      <th>coupon_disc</th>\n",
              "      <th>coupon_match_disc</th>\n",
              "      <th>week_day</th>\n",
              "    </tr>\n",
              "  </thead>\n",
              "  <tbody>\n",
              "    <tr>\n",
              "      <th>0</th>\n",
              "      <td>2375</td>\n",
              "      <td>26984851472</td>\n",
              "      <td>1</td>\n",
              "      <td>1004906</td>\n",
              "      <td>1</td>\n",
              "      <td>1.39</td>\n",
              "      <td>364</td>\n",
              "      <td>-0.60</td>\n",
              "      <td>1631</td>\n",
              "      <td>1</td>\n",
              "      <td>0.0</td>\n",
              "      <td>0.0</td>\n",
              "      <td>3</td>\n",
              "    </tr>\n",
              "    <tr>\n",
              "      <th>1</th>\n",
              "      <td>2375</td>\n",
              "      <td>26984851472</td>\n",
              "      <td>1</td>\n",
              "      <td>1033142</td>\n",
              "      <td>1</td>\n",
              "      <td>0.82</td>\n",
              "      <td>364</td>\n",
              "      <td>0.00</td>\n",
              "      <td>1631</td>\n",
              "      <td>1</td>\n",
              "      <td>0.0</td>\n",
              "      <td>0.0</td>\n",
              "      <td>3</td>\n",
              "    </tr>\n",
              "    <tr>\n",
              "      <th>2</th>\n",
              "      <td>2375</td>\n",
              "      <td>26984851472</td>\n",
              "      <td>1</td>\n",
              "      <td>1036325</td>\n",
              "      <td>1</td>\n",
              "      <td>0.99</td>\n",
              "      <td>364</td>\n",
              "      <td>-0.30</td>\n",
              "      <td>1631</td>\n",
              "      <td>1</td>\n",
              "      <td>0.0</td>\n",
              "      <td>0.0</td>\n",
              "      <td>3</td>\n",
              "    </tr>\n",
              "    <tr>\n",
              "      <th>3</th>\n",
              "      <td>2375</td>\n",
              "      <td>26984851472</td>\n",
              "      <td>1</td>\n",
              "      <td>1082185</td>\n",
              "      <td>1</td>\n",
              "      <td>1.21</td>\n",
              "      <td>364</td>\n",
              "      <td>0.00</td>\n",
              "      <td>1631</td>\n",
              "      <td>1</td>\n",
              "      <td>0.0</td>\n",
              "      <td>0.0</td>\n",
              "      <td>3</td>\n",
              "    </tr>\n",
              "    <tr>\n",
              "      <th>4</th>\n",
              "      <td>2375</td>\n",
              "      <td>26984851472</td>\n",
              "      <td>1</td>\n",
              "      <td>8160430</td>\n",
              "      <td>1</td>\n",
              "      <td>1.50</td>\n",
              "      <td>364</td>\n",
              "      <td>-0.39</td>\n",
              "      <td>1631</td>\n",
              "      <td>1</td>\n",
              "      <td>0.0</td>\n",
              "      <td>0.0</td>\n",
              "      <td>3</td>\n",
              "    </tr>\n",
              "    <tr>\n",
              "      <th>...</th>\n",
              "      <td>...</td>\n",
              "      <td>...</td>\n",
              "      <td>...</td>\n",
              "      <td>...</td>\n",
              "      <td>...</td>\n",
              "      <td>...</td>\n",
              "      <td>...</td>\n",
              "      <td>...</td>\n",
              "      <td>...</td>\n",
              "      <td>...</td>\n",
              "      <td>...</td>\n",
              "      <td>...</td>\n",
              "      <td>...</td>\n",
              "    </tr>\n",
              "    <tr>\n",
              "      <th>2396799</th>\n",
              "      <td>1613</td>\n",
              "      <td>41655820646</td>\n",
              "      <td>663</td>\n",
              "      <td>16102849</td>\n",
              "      <td>1</td>\n",
              "      <td>2.00</td>\n",
              "      <td>3262</td>\n",
              "      <td>-1.15</td>\n",
              "      <td>1231</td>\n",
              "      <td>95</td>\n",
              "      <td>0.0</td>\n",
              "      <td>0.0</td>\n",
              "      <td>7</td>\n",
              "    </tr>\n",
              "    <tr>\n",
              "      <th>2396800</th>\n",
              "      <td>1001</td>\n",
              "      <td>41655829421</td>\n",
              "      <td>663</td>\n",
              "      <td>13217063</td>\n",
              "      <td>1</td>\n",
              "      <td>1.69</td>\n",
              "      <td>3131</td>\n",
              "      <td>0.00</td>\n",
              "      <td>2231</td>\n",
              "      <td>95</td>\n",
              "      <td>0.0</td>\n",
              "      <td>0.0</td>\n",
              "      <td>7</td>\n",
              "    </tr>\n",
              "    <tr>\n",
              "      <th>2396801</th>\n",
              "      <td>1001</td>\n",
              "      <td>41655829421</td>\n",
              "      <td>663</td>\n",
              "      <td>13217800</td>\n",
              "      <td>1</td>\n",
              "      <td>1.69</td>\n",
              "      <td>3131</td>\n",
              "      <td>0.00</td>\n",
              "      <td>2231</td>\n",
              "      <td>95</td>\n",
              "      <td>0.0</td>\n",
              "      <td>0.0</td>\n",
              "      <td>7</td>\n",
              "    </tr>\n",
              "    <tr>\n",
              "      <th>2396802</th>\n",
              "      <td>1167</td>\n",
              "      <td>41656790510</td>\n",
              "      <td>663</td>\n",
              "      <td>6410462</td>\n",
              "      <td>22451</td>\n",
              "      <td>43.98</td>\n",
              "      <td>3385</td>\n",
              "      <td>-0.65</td>\n",
              "      <td>1059</td>\n",
              "      <td>95</td>\n",
              "      <td>0.0</td>\n",
              "      <td>0.0</td>\n",
              "      <td>7</td>\n",
              "    </tr>\n",
              "    <tr>\n",
              "      <th>2396803</th>\n",
              "      <td>1167</td>\n",
              "      <td>41656790510</td>\n",
              "      <td>663</td>\n",
              "      <td>6430664</td>\n",
              "      <td>1</td>\n",
              "      <td>8.00</td>\n",
              "      <td>3385</td>\n",
              "      <td>0.00</td>\n",
              "      <td>1059</td>\n",
              "      <td>95</td>\n",
              "      <td>0.0</td>\n",
              "      <td>0.0</td>\n",
              "      <td>7</td>\n",
              "    </tr>\n",
              "  </tbody>\n",
              "</table>\n",
              "<p>2396804 rows × 13 columns</p>\n",
              "</div>"
            ],
            "text/plain": [
              "         user_id    basket_id  day   item_id  quantity  sales_value  store_id  \\\n",
              "0           2375  26984851472    1   1004906         1         1.39       364   \n",
              "1           2375  26984851472    1   1033142         1         0.82       364   \n",
              "2           2375  26984851472    1   1036325         1         0.99       364   \n",
              "3           2375  26984851472    1   1082185         1         1.21       364   \n",
              "4           2375  26984851472    1   8160430         1         1.50       364   \n",
              "...          ...          ...  ...       ...       ...          ...       ...   \n",
              "2396799     1613  41655820646  663  16102849         1         2.00      3262   \n",
              "2396800     1001  41655829421  663  13217063         1         1.69      3131   \n",
              "2396801     1001  41655829421  663  13217800         1         1.69      3131   \n",
              "2396802     1167  41656790510  663   6410462     22451        43.98      3385   \n",
              "2396803     1167  41656790510  663   6430664         1         8.00      3385   \n",
              "\n",
              "         retail_disc  trans_time  week_no  coupon_disc  coupon_match_disc  \\\n",
              "0              -0.60        1631        1          0.0                0.0   \n",
              "1               0.00        1631        1          0.0                0.0   \n",
              "2              -0.30        1631        1          0.0                0.0   \n",
              "3               0.00        1631        1          0.0                0.0   \n",
              "4              -0.39        1631        1          0.0                0.0   \n",
              "...              ...         ...      ...          ...                ...   \n",
              "2396799        -1.15        1231       95          0.0                0.0   \n",
              "2396800         0.00        2231       95          0.0                0.0   \n",
              "2396801         0.00        2231       95          0.0                0.0   \n",
              "2396802        -0.65        1059       95          0.0                0.0   \n",
              "2396803         0.00        1059       95          0.0                0.0   \n",
              "\n",
              "         week_day  \n",
              "0               3  \n",
              "1               3  \n",
              "2               3  \n",
              "3               3  \n",
              "4               3  \n",
              "...           ...  \n",
              "2396799         7  \n",
              "2396800         7  \n",
              "2396801         7  \n",
              "2396802         7  \n",
              "2396803         7  \n",
              "\n",
              "[2396804 rows x 13 columns]"
            ]
          },
          "execution_count": 27,
          "metadata": {},
          "output_type": "execute_result"
        }
      ],
      "source": [
        "data"
      ]
    },
    {
      "cell_type": "code",
      "execution_count": 28,
      "metadata": {},
      "outputs": [],
      "source": [
        "# data['week_day'].unique()"
      ]
    },
    {
      "cell_type": "code",
      "execution_count": 29,
      "metadata": {},
      "outputs": [],
      "source": [
        "# data_gr = data.groupby('basket_id').sum()"
      ]
    },
    {
      "cell_type": "code",
      "execution_count": 30,
      "metadata": {},
      "outputs": [],
      "source": [
        "# for i in [1,2,3,4,5,6,7]:\n",
        "#     data_gr[f\"day_{i}\"] = np.where((data_gr[f\"day_{i}\"] > 0),1,0)"
      ]
    },
    {
      "cell_type": "code",
      "execution_count": 31,
      "metadata": {},
      "outputs": [],
      "source": [
        "def user_features_pprepare(data, user_features):\n",
        "    pass"
      ]
    },
    {
      "cell_type": "code",
      "execution_count": 32,
      "metadata": {},
      "outputs": [],
      "source": [
        "data_gr = data.groupby('basket_id').mean()"
      ]
    },
    {
      "cell_type": "code",
      "execution_count": 33,
      "metadata": {},
      "outputs": [],
      "source": [
        "# data_gr['user_id'] = data_gr['user_id'].apply(lambda x: int(x))"
      ]
    },
    {
      "cell_type": "code",
      "execution_count": 34,
      "metadata": {},
      "outputs": [],
      "source": [
        "# data_gr.loc[(data_gr['user_id']==2494)]"
      ]
    },
    {
      "cell_type": "code",
      "execution_count": 35,
      "metadata": {},
      "outputs": [],
      "source": [
        "user_features['median_quantity'] = user_features['user_id'].apply(lambda x: \n",
        "                                data_gr.loc[(data_gr['user_id']==x),'quantity'].median())\n",
        "user_features['mean_sales_value'] = user_features['user_id'].apply(lambda x: \n",
        "                                data_gr.loc[(data_gr['user_id']==x),'sales_value'].mean())"
      ]
    },
    {
      "cell_type": "code",
      "execution_count": 36,
      "metadata": {},
      "outputs": [],
      "source": [
        "for i in [1,2,3,4,5,6,7]:\n",
        "    data_gr[f\"day_{i}\"] = np.where((data_gr['week_day'] == i),1,0)"
      ]
    },
    {
      "cell_type": "code",
      "execution_count": 37,
      "metadata": {},
      "outputs": [],
      "source": [
        "# for i in [1,2,3,4,5,6,7]:\n",
        "#     data_gr[f\"day_{i}\"] = np.where((data_gr[f\"day_{i}\"] > 0),1,0)"
      ]
    },
    {
      "cell_type": "code",
      "execution_count": 38,
      "metadata": {},
      "outputs": [],
      "source": [
        "week_count = data['week_no'].max()\n",
        "\n",
        "def mean_quantity_in_week(user_id):\n",
        "    days = 0\n",
        "    for i in [1,2,3,4,5,6,7]:\n",
        "       days += data_gr.loc[(data_gr['user_id']==user_id),f'day_{i}'].sum()\n",
        "    days /=week_count\n",
        "    return int(np.round(days))"
      ]
    },
    {
      "cell_type": "code",
      "execution_count": 39,
      "metadata": {},
      "outputs": [],
      "source": [
        "user_features['mean_quantity_in_week'] = user_features['user_id'].apply(lambda x: mean_quantity_in_week(x))"
      ]
    },
    {
      "cell_type": "code",
      "execution_count": 40,
      "metadata": {},
      "outputs": [
        {
          "data": {
            "text/html": [
              "<div>\n",
              "<style scoped>\n",
              "    .dataframe tbody tr th:only-of-type {\n",
              "        vertical-align: middle;\n",
              "    }\n",
              "\n",
              "    .dataframe tbody tr th {\n",
              "        vertical-align: top;\n",
              "    }\n",
              "\n",
              "    .dataframe thead th {\n",
              "        text-align: right;\n",
              "    }\n",
              "</style>\n",
              "<table border=\"1\" class=\"dataframe\">\n",
              "  <thead>\n",
              "    <tr style=\"text-align: right;\">\n",
              "      <th></th>\n",
              "      <th>age_desc</th>\n",
              "      <th>marital_status_code</th>\n",
              "      <th>income_desc</th>\n",
              "      <th>homeowner_desc</th>\n",
              "      <th>hh_comp_desc</th>\n",
              "      <th>household_size_desc</th>\n",
              "      <th>kid_category_desc</th>\n",
              "      <th>user_id</th>\n",
              "      <th>median_quantity</th>\n",
              "      <th>mean_sales_value</th>\n",
              "      <th>mean_quantity_in_week</th>\n",
              "    </tr>\n",
              "  </thead>\n",
              "  <tbody>\n",
              "    <tr>\n",
              "      <th>0</th>\n",
              "      <td>65</td>\n",
              "      <td>A</td>\n",
              "      <td>42</td>\n",
              "      <td>Homeowner</td>\n",
              "      <td>2 Adults No Kids</td>\n",
              "      <td>2</td>\n",
              "      <td>None/Unknown</td>\n",
              "      <td>1</td>\n",
              "      <td>1.100000</td>\n",
              "      <td>2.726818</td>\n",
              "      <td>1</td>\n",
              "    </tr>\n",
              "    <tr>\n",
              "      <th>1</th>\n",
              "      <td>50</td>\n",
              "      <td>A</td>\n",
              "      <td>62</td>\n",
              "      <td>Homeowner</td>\n",
              "      <td>2 Adults No Kids</td>\n",
              "      <td>2</td>\n",
              "      <td>None/Unknown</td>\n",
              "      <td>7</td>\n",
              "      <td>1.181818</td>\n",
              "      <td>2.989986</td>\n",
              "      <td>1</td>\n",
              "    </tr>\n",
              "    <tr>\n",
              "      <th>2</th>\n",
              "      <td>30</td>\n",
              "      <td>U</td>\n",
              "      <td>30</td>\n",
              "      <td>Unknown</td>\n",
              "      <td>2 Adults Kids</td>\n",
              "      <td>3</td>\n",
              "      <td>1</td>\n",
              "      <td>8</td>\n",
              "      <td>1.172222</td>\n",
              "      <td>4.734543</td>\n",
              "      <td>1</td>\n",
              "    </tr>\n",
              "    <tr>\n",
              "      <th>3</th>\n",
              "      <td>30</td>\n",
              "      <td>U</td>\n",
              "      <td>87</td>\n",
              "      <td>Homeowner</td>\n",
              "      <td>2 Adults Kids</td>\n",
              "      <td>4</td>\n",
              "      <td>2</td>\n",
              "      <td>13</td>\n",
              "      <td>1.666667</td>\n",
              "      <td>19.434575</td>\n",
              "      <td>3</td>\n",
              "    </tr>\n",
              "    <tr>\n",
              "      <th>4</th>\n",
              "      <td>50</td>\n",
              "      <td>B</td>\n",
              "      <td>62</td>\n",
              "      <td>Homeowner</td>\n",
              "      <td>Single Female</td>\n",
              "      <td>1</td>\n",
              "      <td>None/Unknown</td>\n",
              "      <td>16</td>\n",
              "      <td>1.000000</td>\n",
              "      <td>4.401541</td>\n",
              "      <td>1</td>\n",
              "    </tr>\n",
              "    <tr>\n",
              "      <th>...</th>\n",
              "      <td>...</td>\n",
              "      <td>...</td>\n",
              "      <td>...</td>\n",
              "      <td>...</td>\n",
              "      <td>...</td>\n",
              "      <td>...</td>\n",
              "      <td>...</td>\n",
              "      <td>...</td>\n",
              "      <td>...</td>\n",
              "      <td>...</td>\n",
              "      <td>...</td>\n",
              "    </tr>\n",
              "    <tr>\n",
              "      <th>796</th>\n",
              "      <td>40</td>\n",
              "      <td>U</td>\n",
              "      <td>62</td>\n",
              "      <td>Homeowner</td>\n",
              "      <td>2 Adults No Kids</td>\n",
              "      <td>2</td>\n",
              "      <td>None/Unknown</td>\n",
              "      <td>2494</td>\n",
              "      <td>1.320513</td>\n",
              "      <td>5.740227</td>\n",
              "      <td>0</td>\n",
              "    </tr>\n",
              "    <tr>\n",
              "      <th>797</th>\n",
              "      <td>50</td>\n",
              "      <td>A</td>\n",
              "      <td>87</td>\n",
              "      <td>Homeowner</td>\n",
              "      <td>Unknown</td>\n",
              "      <td>3</td>\n",
              "      <td>1</td>\n",
              "      <td>2496</td>\n",
              "      <td>1.307304</td>\n",
              "      <td>7.811230</td>\n",
              "      <td>1</td>\n",
              "    </tr>\n",
              "    <tr>\n",
              "      <th>798</th>\n",
              "      <td>50</td>\n",
              "      <td>U</td>\n",
              "      <td>42</td>\n",
              "      <td>Unknown</td>\n",
              "      <td>Single Male</td>\n",
              "      <td>1</td>\n",
              "      <td>None/Unknown</td>\n",
              "      <td>2497</td>\n",
              "      <td>1.333333</td>\n",
              "      <td>3.981373</td>\n",
              "      <td>2</td>\n",
              "    </tr>\n",
              "    <tr>\n",
              "      <th>799</th>\n",
              "      <td>30</td>\n",
              "      <td>U</td>\n",
              "      <td>62</td>\n",
              "      <td>Homeowner</td>\n",
              "      <td>2 Adults No Kids</td>\n",
              "      <td>2</td>\n",
              "      <td>None/Unknown</td>\n",
              "      <td>2498</td>\n",
              "      <td>1.000000</td>\n",
              "      <td>3.855324</td>\n",
              "      <td>2</td>\n",
              "    </tr>\n",
              "    <tr>\n",
              "      <th>800</th>\n",
              "      <td>30</td>\n",
              "      <td>U</td>\n",
              "      <td>15</td>\n",
              "      <td>Unknown</td>\n",
              "      <td>2 Adults Kids</td>\n",
              "      <td>3</td>\n",
              "      <td>1</td>\n",
              "      <td>2499</td>\n",
              "      <td>1.100000</td>\n",
              "      <td>7.028010</td>\n",
              "      <td>1</td>\n",
              "    </tr>\n",
              "  </tbody>\n",
              "</table>\n",
              "<p>801 rows × 11 columns</p>\n",
              "</div>"
            ],
            "text/plain": [
              "     age_desc marital_status_code  income_desc homeowner_desc  \\\n",
              "0          65                   A           42      Homeowner   \n",
              "1          50                   A           62      Homeowner   \n",
              "2          30                   U           30        Unknown   \n",
              "3          30                   U           87      Homeowner   \n",
              "4          50                   B           62      Homeowner   \n",
              "..        ...                 ...          ...            ...   \n",
              "796        40                   U           62      Homeowner   \n",
              "797        50                   A           87      Homeowner   \n",
              "798        50                   U           42        Unknown   \n",
              "799        30                   U           62      Homeowner   \n",
              "800        30                   U           15        Unknown   \n",
              "\n",
              "         hh_comp_desc household_size_desc kid_category_desc  user_id  \\\n",
              "0    2 Adults No Kids                   2      None/Unknown        1   \n",
              "1    2 Adults No Kids                   2      None/Unknown        7   \n",
              "2       2 Adults Kids                   3                 1        8   \n",
              "3       2 Adults Kids                   4                 2       13   \n",
              "4       Single Female                   1      None/Unknown       16   \n",
              "..                ...                 ...               ...      ...   \n",
              "796  2 Adults No Kids                   2      None/Unknown     2494   \n",
              "797           Unknown                   3                 1     2496   \n",
              "798       Single Male                   1      None/Unknown     2497   \n",
              "799  2 Adults No Kids                   2      None/Unknown     2498   \n",
              "800     2 Adults Kids                   3                 1     2499   \n",
              "\n",
              "     median_quantity  mean_sales_value  mean_quantity_in_week  \n",
              "0           1.100000          2.726818                      1  \n",
              "1           1.181818          2.989986                      1  \n",
              "2           1.172222          4.734543                      1  \n",
              "3           1.666667         19.434575                      3  \n",
              "4           1.000000          4.401541                      1  \n",
              "..               ...               ...                    ...  \n",
              "796         1.320513          5.740227                      0  \n",
              "797         1.307304          7.811230                      1  \n",
              "798         1.333333          3.981373                      2  \n",
              "799         1.000000          3.855324                      2  \n",
              "800         1.100000          7.028010                      1  \n",
              "\n",
              "[801 rows x 11 columns]"
            ]
          },
          "execution_count": 40,
          "metadata": {},
          "output_type": "execute_result"
        }
      ],
      "source": [
        "user_features"
      ]
    },
    {
      "cell_type": "code",
      "execution_count": 31,
      "metadata": {},
      "outputs": [
        {
          "data": {
            "text/html": [
              "<div>\n",
              "<style scoped>\n",
              "    .dataframe tbody tr th:only-of-type {\n",
              "        vertical-align: middle;\n",
              "    }\n",
              "\n",
              "    .dataframe tbody tr th {\n",
              "        vertical-align: top;\n",
              "    }\n",
              "\n",
              "    .dataframe thead th {\n",
              "        text-align: right;\n",
              "    }\n",
              "</style>\n",
              "<table border=\"1\" class=\"dataframe\">\n",
              "  <thead>\n",
              "    <tr style=\"text-align: right;\">\n",
              "      <th></th>\n",
              "      <th>item_id</th>\n",
              "      <th>manufacturer</th>\n",
              "      <th>department</th>\n",
              "      <th>brand</th>\n",
              "      <th>commodity_desc</th>\n",
              "      <th>sub_commodity_desc</th>\n",
              "      <th>curr_size_of_product</th>\n",
              "    </tr>\n",
              "  </thead>\n",
              "  <tbody>\n",
              "    <tr>\n",
              "      <th>0</th>\n",
              "      <td>25671</td>\n",
              "      <td>2</td>\n",
              "      <td>GROCERY</td>\n",
              "      <td>National</td>\n",
              "      <td>FRZN ICE</td>\n",
              "      <td>ICE - CRUSHED/CUBED</td>\n",
              "      <td>22 LB</td>\n",
              "    </tr>\n",
              "    <tr>\n",
              "      <th>1</th>\n",
              "      <td>26081</td>\n",
              "      <td>2</td>\n",
              "      <td>MISC. TRANS.</td>\n",
              "      <td>National</td>\n",
              "      <td>NO COMMODITY DESCRIPTION</td>\n",
              "      <td>NO SUBCOMMODITY DESCRIPTION</td>\n",
              "      <td></td>\n",
              "    </tr>\n",
              "    <tr>\n",
              "      <th>2</th>\n",
              "      <td>26093</td>\n",
              "      <td>69</td>\n",
              "      <td>PASTRY</td>\n",
              "      <td>Private</td>\n",
              "      <td>BREAD</td>\n",
              "      <td>BREAD:ITALIAN/FRENCH</td>\n",
              "      <td></td>\n",
              "    </tr>\n",
              "    <tr>\n",
              "      <th>3</th>\n",
              "      <td>26190</td>\n",
              "      <td>69</td>\n",
              "      <td>GROCERY</td>\n",
              "      <td>Private</td>\n",
              "      <td>FRUIT - SHELF STABLE</td>\n",
              "      <td>APPLE SAUCE</td>\n",
              "      <td>50 OZ</td>\n",
              "    </tr>\n",
              "    <tr>\n",
              "      <th>4</th>\n",
              "      <td>26355</td>\n",
              "      <td>69</td>\n",
              "      <td>GROCERY</td>\n",
              "      <td>Private</td>\n",
              "      <td>COOKIES/CONES</td>\n",
              "      <td>SPECIALTY COOKIES</td>\n",
              "      <td>14 OZ</td>\n",
              "    </tr>\n",
              "    <tr>\n",
              "      <th>...</th>\n",
              "      <td>...</td>\n",
              "      <td>...</td>\n",
              "      <td>...</td>\n",
              "      <td>...</td>\n",
              "      <td>...</td>\n",
              "      <td>...</td>\n",
              "      <td>...</td>\n",
              "    </tr>\n",
              "    <tr>\n",
              "      <th>92348</th>\n",
              "      <td>18293142</td>\n",
              "      <td>6384</td>\n",
              "      <td>DRUG GM</td>\n",
              "      <td>National</td>\n",
              "      <td>BOOKSTORE</td>\n",
              "      <td>PAPERBACK BOOKS</td>\n",
              "      <td></td>\n",
              "    </tr>\n",
              "    <tr>\n",
              "      <th>92349</th>\n",
              "      <td>18293439</td>\n",
              "      <td>6393</td>\n",
              "      <td>DRUG GM</td>\n",
              "      <td>National</td>\n",
              "      <td>BOOKSTORE</td>\n",
              "      <td>CHILDRENS LOW END</td>\n",
              "      <td></td>\n",
              "    </tr>\n",
              "    <tr>\n",
              "      <th>92350</th>\n",
              "      <td>18293696</td>\n",
              "      <td>6406</td>\n",
              "      <td>DRUG GM</td>\n",
              "      <td>National</td>\n",
              "      <td>BOOKSTORE</td>\n",
              "      <td>PAPERBACK BEST SELLER</td>\n",
              "      <td></td>\n",
              "    </tr>\n",
              "    <tr>\n",
              "      <th>92351</th>\n",
              "      <td>18294080</td>\n",
              "      <td>6442</td>\n",
              "      <td>DRUG GM</td>\n",
              "      <td>National</td>\n",
              "      <td>BOOKSTORE</td>\n",
              "      <td>PAPERBACK BOOKS</td>\n",
              "      <td></td>\n",
              "    </tr>\n",
              "    <tr>\n",
              "      <th>92352</th>\n",
              "      <td>18316298</td>\n",
              "      <td>764</td>\n",
              "      <td>GROCERY</td>\n",
              "      <td>National</td>\n",
              "      <td>PAPER TOWELS</td>\n",
              "      <td>PAPER TOWELS &amp; HOLDERS</td>\n",
              "      <td></td>\n",
              "    </tr>\n",
              "  </tbody>\n",
              "</table>\n",
              "<p>92353 rows × 7 columns</p>\n",
              "</div>"
            ],
            "text/plain": [
              "        item_id  manufacturer    department     brand  \\\n",
              "0         25671             2       GROCERY  National   \n",
              "1         26081             2  MISC. TRANS.  National   \n",
              "2         26093            69        PASTRY   Private   \n",
              "3         26190            69       GROCERY   Private   \n",
              "4         26355            69       GROCERY   Private   \n",
              "...         ...           ...           ...       ...   \n",
              "92348  18293142          6384       DRUG GM  National   \n",
              "92349  18293439          6393       DRUG GM  National   \n",
              "92350  18293696          6406       DRUG GM  National   \n",
              "92351  18294080          6442       DRUG GM  National   \n",
              "92352  18316298           764       GROCERY  National   \n",
              "\n",
              "                 commodity_desc           sub_commodity_desc  \\\n",
              "0                      FRZN ICE          ICE - CRUSHED/CUBED   \n",
              "1      NO COMMODITY DESCRIPTION  NO SUBCOMMODITY DESCRIPTION   \n",
              "2                         BREAD         BREAD:ITALIAN/FRENCH   \n",
              "3          FRUIT - SHELF STABLE                  APPLE SAUCE   \n",
              "4                 COOKIES/CONES            SPECIALTY COOKIES   \n",
              "...                         ...                          ...   \n",
              "92348                 BOOKSTORE              PAPERBACK BOOKS   \n",
              "92349                 BOOKSTORE            CHILDRENS LOW END   \n",
              "92350                 BOOKSTORE        PAPERBACK BEST SELLER   \n",
              "92351                 BOOKSTORE              PAPERBACK BOOKS   \n",
              "92352              PAPER TOWELS       PAPER TOWELS & HOLDERS   \n",
              "\n",
              "      curr_size_of_product  \n",
              "0                    22 LB  \n",
              "1                           \n",
              "2                           \n",
              "3                    50 OZ  \n",
              "4                    14 OZ  \n",
              "...                    ...  \n",
              "92348                       \n",
              "92349                       \n",
              "92350                       \n",
              "92351                       \n",
              "92352                       \n",
              "\n",
              "[92353 rows x 7 columns]"
            ]
          },
          "execution_count": 31,
          "metadata": {},
          "output_type": "execute_result"
        }
      ],
      "source": [
        "item_features"
      ]
    },
    {
      "cell_type": "code",
      "execution_count": 35,
      "metadata": {},
      "outputs": [],
      "source": [
        "item_features_temp = item_features.merge(data, on='item_id', how='left')"
      ]
    },
    {
      "cell_type": "code",
      "execution_count": 48,
      "metadata": {},
      "outputs": [],
      "source": [
        "# Средняя стоимость товара в категории.\n",
        "\n",
        "item_price = item_features_temp.groupby(['item_id','commodity_desc'])['sales_value'].mean().reset_index()\n",
        "item_price.columns= ['item_id','commodity_desc','sales_value']\n",
        "commoditys_desc = item_price['commodity_desc'].unique()\n",
        "\n",
        "item_price['commodity_desc_mean_sale']=np.NaN\n",
        "\n",
        "for commodity_desc in commoditys_desc:\n",
        "    mean_value = item_price.loc[(item_price['commodity_desc']==commodity_desc),'sales_value'].mean()\n",
        "    item_price.loc[(item_price['commodity_desc']==commodity_desc),'commodity_desc_mean_sale'] = mean_value\n",
        "# item_features_temp.loc[(item_features_temp['commodity_desc']=='NO COMMODITY DESCRIPTION'),'sales_value']\n",
        "item_price.loc[(item_price['commodity_desc']=='NO COMMODITY DESCRIPTION'),'sales_value']\n",
        "# item_price\n",
        "item_features = item_features.merge(item_price[['item_id','commodity_desc_mean_sale']], on='item_id',how='left')"
      ]
    },
    {
      "cell_type": "code",
      "execution_count": 66,
      "metadata": {},
      "outputs": [],
      "source": [
        "# К-во покупок в неделю.\n",
        "\n",
        "quantity_count = item_features_temp.groupby(['item_id'])['quantity'].sum().reset_index()\n",
        "\n",
        "quantity_count.columns = ['item_id','quantity']\n",
        "# data.loc[(data['item_id']==25671)]\n",
        "# quantity_count\n",
        "quantity_in_week = item_features_temp.groupby(['item_id'])['week_no'].unique().reset_index()\n",
        "\n",
        "quantity_in_week.columns = ['item_id','weeks']\n",
        "# quantity_in_week\n",
        "quantity_in_week['weeks_count'] = quantity_in_week['weeks'].apply(lambda x: len(x))\n",
        "# item_feature_temp = item_feature_temp.merge(if_week, on='item_id', how='left')\n",
        "quantity_in_week['sale_in_week'] = quantity_count['quantity']/quantity_in_week['weeks_count']  \n",
        "# quantity_in_week\n",
        "item_features = item_features.merge(quantity_in_week[['item_id','sale_in_week']], on='item_id',how='left')"
      ]
    },
    {
      "cell_type": "code",
      "execution_count": null,
      "metadata": {},
      "outputs": [],
      "source": [
        "# Для нас нет необходимости добавлять все фитчи users и items."
      ]
    },
    {
      "cell_type": "code",
      "execution_count": 85,
      "metadata": {
        "id": "XZQcrch7C4Ju"
      },
      "outputs": [],
      "source": [
        "def perpare_lvl2(data,N=50):\n",
        "    users_lvl_2 = pd.DataFrame(data['user_id'].unique()) # Добавим туда еще фитчи user-ов и item-ов.\n",
        "    users_lvl_2.columns = ['user_id']\n",
        "\n",
        "    # Пока только warm start\n",
        "    users_lvl_2 = users_lvl_2[users_lvl_2['user_id'].isin(data_train_lvl_1['user_id'].unique())]\n",
        "\n",
        "    # Заполняем кандидатов, на основе предсказания модели 1-го уровня.\n",
        "    users_lvl_2['candidates'] = users_lvl_2['user_id'].apply(lambda x: recommender.get_own_recommendations(x, N=N))\n",
        "    # test_users = data\n",
        "    s = users_lvl_2.apply(lambda x: pd.Series(x['candidates']), axis=1).stack().reset_index(level=1, drop=True)\n",
        "    s.name = 'item_id'\n",
        "\n",
        "    # Это кандидаты. (т.е. предпологаемые покупки совершенные на основе предсказаний.)\n",
        "    users_lvl_2 = users_lvl_2.drop('candidates', axis=1).join(s)\n",
        "    users_lvl_2['drop'] = 1  # фиктивная переменная\n",
        "\n",
        "    # Создадим таблицу с реальными покупками user-ов. \n",
        "    targets_lvl_2 = data[['user_id', 'item_id']].copy()\n",
        "    targets_lvl_2['target'] = 1  # тут только покупки \n",
        "\n",
        "    # Объединим предпологаемые покупки с реальными, совершенными user-ами.\n",
        "    targets_lvl_2 = users_lvl_2.merge(targets_lvl_2, on=['user_id', 'item_id'], how='left')\n",
        "\n",
        "    # В результате, напротив товаров, в редсказании которых мы ошиблись, \n",
        "    # будет стоять Nan. Заполним их  нулями.  \n",
        "    targets_lvl_2['target'].fillna(0, inplace= True)\n",
        "    targets_lvl_2.drop('drop', axis=1, inplace=True)\n",
        "    targets_lvl_2['target'].mean() #Угадали примерно 17% покупок.\n",
        "\n",
        "    # Добавим к нашему датасету фичи user-ов и item-ов.\n",
        "    targets_lvl_2 = targets_lvl_2.merge(item_features, on='item_id', how='left')\n",
        "    targets_lvl_2 = targets_lvl_2.merge(user_features, on='user_id', how='left')\n",
        "\n",
        "    X_ = targets_lvl_2.drop('target', axis=1)\n",
        "    y_ = targets_lvl_2[['target']]\n",
        "    return X_, y_ "
      ]
    },
    {
      "cell_type": "code",
      "execution_count": 86,
      "metadata": {},
      "outputs": [],
      "source": [
        "X_train, y_train = perpare_lvl2(data_train_lvl_2)"
      ]
    },
    {
      "cell_type": "code",
      "execution_count": 87,
      "metadata": {},
      "outputs": [],
      "source": [
        "X_test, y_test = perpare_lvl2(data_val_lvl_2)"
      ]
    },
    {
      "cell_type": "code",
      "execution_count": 88,
      "metadata": {},
      "outputs": [
        {
          "data": {
            "text/html": [
              "<div>\n",
              "<style scoped>\n",
              "    .dataframe tbody tr th:only-of-type {\n",
              "        vertical-align: middle;\n",
              "    }\n",
              "\n",
              "    .dataframe tbody tr th {\n",
              "        vertical-align: top;\n",
              "    }\n",
              "\n",
              "    .dataframe thead th {\n",
              "        text-align: right;\n",
              "    }\n",
              "</style>\n",
              "<table border=\"1\" class=\"dataframe\">\n",
              "  <thead>\n",
              "    <tr style=\"text-align: right;\">\n",
              "      <th></th>\n",
              "      <th>user_id</th>\n",
              "      <th>item_id</th>\n",
              "      <th>manufacturer</th>\n",
              "      <th>department</th>\n",
              "      <th>brand</th>\n",
              "      <th>commodity_desc</th>\n",
              "      <th>sub_commodity_desc</th>\n",
              "      <th>curr_size_of_product</th>\n",
              "      <th>commodity_desc_mean_sale</th>\n",
              "      <th>age_desc</th>\n",
              "      <th>marital_status_code</th>\n",
              "      <th>income_desc</th>\n",
              "      <th>homeowner_desc</th>\n",
              "      <th>hh_comp_desc</th>\n",
              "      <th>household_size_desc</th>\n",
              "      <th>kid_category_desc</th>\n",
              "    </tr>\n",
              "  </thead>\n",
              "  <tbody>\n",
              "    <tr>\n",
              "      <th>0</th>\n",
              "      <td>2070</td>\n",
              "      <td>834103</td>\n",
              "      <td>2224</td>\n",
              "      <td>GROCERY</td>\n",
              "      <td>National</td>\n",
              "      <td>SOFT DRINKS</td>\n",
              "      <td>SFT DRNK SNGL SRV BTL CARB (EX</td>\n",
              "      <td>20 OZ</td>\n",
              "      <td>2.705525</td>\n",
              "      <td>50.0</td>\n",
              "      <td>U</td>\n",
              "      <td>62.0</td>\n",
              "      <td>Unknown</td>\n",
              "      <td>Unknown</td>\n",
              "      <td>1</td>\n",
              "      <td>None/Unknown</td>\n",
              "    </tr>\n",
              "    <tr>\n",
              "      <th>1</th>\n",
              "      <td>2070</td>\n",
              "      <td>834103</td>\n",
              "      <td>2224</td>\n",
              "      <td>GROCERY</td>\n",
              "      <td>National</td>\n",
              "      <td>SOFT DRINKS</td>\n",
              "      <td>SFT DRNK SNGL SRV BTL CARB (EX</td>\n",
              "      <td>20 OZ</td>\n",
              "      <td>2.705525</td>\n",
              "      <td>50.0</td>\n",
              "      <td>U</td>\n",
              "      <td>62.0</td>\n",
              "      <td>Unknown</td>\n",
              "      <td>Unknown</td>\n",
              "      <td>1</td>\n",
              "      <td>None/Unknown</td>\n",
              "    </tr>\n",
              "  </tbody>\n",
              "</table>\n",
              "</div>"
            ],
            "text/plain": [
              "   user_id  item_id  manufacturer department     brand commodity_desc  \\\n",
              "0     2070   834103          2224    GROCERY  National    SOFT DRINKS   \n",
              "1     2070   834103          2224    GROCERY  National    SOFT DRINKS   \n",
              "\n",
              "               sub_commodity_desc curr_size_of_product  \\\n",
              "0  SFT DRNK SNGL SRV BTL CARB (EX                20 OZ   \n",
              "1  SFT DRNK SNGL SRV BTL CARB (EX                20 OZ   \n",
              "\n",
              "   commodity_desc_mean_sale  age_desc marital_status_code  income_desc  \\\n",
              "0                  2.705525      50.0                   U         62.0   \n",
              "1                  2.705525      50.0                   U         62.0   \n",
              "\n",
              "  homeowner_desc hh_comp_desc household_size_desc kid_category_desc  \n",
              "0        Unknown      Unknown                   1      None/Unknown  \n",
              "1        Unknown      Unknown                   1      None/Unknown  "
            ]
          },
          "execution_count": 88,
          "metadata": {},
          "output_type": "execute_result"
        }
      ],
      "source": [
        "X_train.head(2)"
      ]
    },
    {
      "cell_type": "code",
      "execution_count": 89,
      "metadata": {},
      "outputs": [
        {
          "data": {
            "text/plain": [
              "['manufacturer',\n",
              " 'department',\n",
              " 'brand',\n",
              " 'commodity_desc',\n",
              " 'sub_commodity_desc',\n",
              " 'curr_size_of_product',\n",
              " 'commodity_desc_mean_sale',\n",
              " 'age_desc',\n",
              " 'marital_status_code',\n",
              " 'income_desc',\n",
              " 'homeowner_desc',\n",
              " 'hh_comp_desc',\n",
              " 'household_size_desc',\n",
              " 'kid_category_desc']"
            ]
          },
          "execution_count": 89,
          "metadata": {},
          "output_type": "execute_result"
        }
      ],
      "source": [
        "cat_feats = X_train.columns[2:].tolist()\n",
        "\n",
        "X_train[cat_feats] = X_train[cat_feats].astype('category')\n",
        "\n",
        "X_test[cat_feats] = X_test[cat_feats].astype('category')\n",
        "\n",
        "cat_feats"
      ]
    },
    {
      "cell_type": "code",
      "execution_count": 90,
      "metadata": {},
      "outputs": [
        {
          "data": {
            "text/plain": [
              "target    0.178224\n",
              "dtype: float64"
            ]
          },
          "execution_count": 90,
          "metadata": {},
          "output_type": "execute_result"
        }
      ],
      "source": [
        "y_train.mean()"
      ]
    },
    {
      "cell_type": "code",
      "execution_count": 156,
      "metadata": {},
      "outputs": [
        {
          "name": "stderr",
          "output_type": "stream",
          "text": [
            "C:\\Users\\eveli\\AppData\\Local\\Programs\\Python\\Python38\\lib\\site-packages\\sklearn\\preprocessing\\_label.py:98: DataConversionWarning: A column-vector y was passed when a 1d array was expected. Please change the shape of y to (n_samples, ), for example using ravel().\n",
            "  y = column_or_1d(y, warn=True)\n",
            "C:\\Users\\eveli\\AppData\\Local\\Programs\\Python\\Python38\\lib\\site-packages\\sklearn\\preprocessing\\_label.py:133: DataConversionWarning: A column-vector y was passed when a 1d array was expected. Please change the shape of y to (n_samples, ), for example using ravel().\n",
            "  y = column_or_1d(y, warn=True)\n",
            "C:\\Users\\eveli\\AppData\\Local\\Programs\\Python\\Python38\\lib\\site-packages\\lightgbm\\basic.py:1513: UserWarning: categorical_column in param dict is overridden.\n",
            "  _log_warning(f'{cat_alias} in param dict is overridden.')\n"
          ]
        }
      ],
      "source": [
        "lgb = LGBMClassifier(objective='binary',\n",
        "                     max_depth=7,\n",
        "                     categorical_column=cat_feats\n",
        "                     )\n",
        "                     \n",
        "lgb.fit(X_train, y_train)\n",
        "\n",
        "train_preds = lgb.predict_proba(X_train)[:,1]"
      ]
    },
    {
      "cell_type": "code",
      "execution_count": 157,
      "metadata": {},
      "outputs": [
        {
          "data": {
            "text/plain": [
              "array([9.99966042e-01, 9.99966042e-01, 9.99966042e-01, ...,\n",
              "       8.01075740e-06, 8.01075740e-06, 8.01075740e-06])"
            ]
          },
          "execution_count": 157,
          "metadata": {},
          "output_type": "execute_result"
        }
      ],
      "source": [
        "train_preds"
      ]
    },
    {
      "cell_type": "code",
      "execution_count": 158,
      "metadata": {},
      "outputs": [
        {
          "data": {
            "text/plain": [
              "array([1., 1., 1., ..., 0., 0., 0.])"
            ]
          },
          "execution_count": 158,
          "metadata": {},
          "output_type": "execute_result"
        }
      ],
      "source": [
        "y_train['target'].values"
      ]
    },
    {
      "cell_type": "code",
      "execution_count": 159,
      "metadata": {},
      "outputs": [],
      "source": [
        "x_train_t = X_train.copy()\n",
        "x_train_t['predict'] = train_preds\n",
        "x_train_t['true'] = y_train['target'].values\n",
        "result = x_train_t.sort_values('predict', ascending=False).groupby('user_id')['item_id'].unique().reset_index()"
      ]
    },
    {
      "cell_type": "code",
      "execution_count": 160,
      "metadata": {},
      "outputs": [],
      "source": [
        "overall_top_purchases = x_train_t.groupby('item_id')['item_id'].count()\n",
        "overall_top_purchases = overall_top_purchases.sort_values(ascending=False).index.values"
      ]
    },
    {
      "cell_type": "code",
      "execution_count": 161,
      "metadata": {},
      "outputs": [],
      "source": [
        "def extend_with_top_popular(recommendations, N=5):\n",
        "    \"\"\"Если кол-во рекоммендаций < N, то дополняем их топ-популярными\"\"\"\n",
        "\n",
        "    if len(recommendations) < N:\n",
        "        recommendations.extend(overall_top_purchases[:N])\n",
        "        recommendations = recommendations[:N]\n",
        "\n",
        "    return recommendations"
      ]
    },
    {
      "cell_type": "code",
      "execution_count": null,
      "metadata": {},
      "outputs": [],
      "source": [
        "def get_items(x_data, data, user_id, item_name,is_extend=True):\n",
        "    items_list = []\n",
        "    items = data.loc[(data['user_id']==user_id),'item_id'].values[0]\n",
        "\n",
        "    for item in items:\n",
        "        flag = x_data.loc[((x_data['user_id']==user_id) & (x_data['item_id']==item)),item_name].mean()\n",
        "        if np.round(flag):\n",
        "            items_list.append(item)\n",
        "    if is_extend:\n",
        "        items_list = extend_with_top_popular(items_list, N=5)\n",
        "    return items_list"
      ]
    },
    {
      "cell_type": "code",
      "execution_count": 145,
      "metadata": {},
      "outputs": [],
      "source": [
        "# def get_items_1(x_data, items, user_id, item_name, is_extend=True):\n",
        "#     items_list = []\n",
        "\n",
        "#     for item in items:\n",
        "#         flag = (x_data.loc[((x_data['user_id']==user_id) & (x_train_t['item_id']==item)),item_name].mean())\n",
        "        \n",
        "#         if np.round(flag): # Округляем прдсказанную вероятность до целого.\n",
        "#             items_list.append(item)\n",
        "#     if is_extend:\n",
        "#         items_list = extend_with_top_popular(items_list, N=5)\n",
        "#     return items_list"
      ]
    },
    {
      "cell_type": "code",
      "execution_count": 140,
      "metadata": {},
      "outputs": [
        {
          "name": "stderr",
          "output_type": "stream",
          "text": [
            "2084it [02:42, 12.83it/s]\n"
          ]
        }
      ],
      "source": [
        "# precisions=[]\n",
        "# for res in tqdm(result.iterrows()):\n",
        "#     user_id = res[1]['user_id']\n",
        "#     item_ids = res[1]['item_id']\n",
        "#     predict = get_items_1(x_train_t, item_ids, user_id, 'predict', is_extend=True)\n",
        "#     true = get_items_1(x_train_t,item_ids, user_id, 'true', is_extend=False)\n",
        "#     precisions.append(precision_at_k(predict,true,5)) \n",
        "    \n",
        "# np.mean(precisions)"
      ]
    },
    {
      "cell_type": "code",
      "execution_count": 162,
      "metadata": {},
      "outputs": [
        {
          "name": "stderr",
          "output_type": "stream",
          "text": [
            "100%|██████████| 2084/2084 [01:11<00:00, 29.33it/s]\n",
            "100%|██████████| 2084/2084 [01:10<00:00, 29.46it/s]\n"
          ]
        }
      ],
      "source": [
        "item_name = 'predict'\n",
        "result[item_name] = result['user_id'].progress_apply(lambda x : get_items(x_train_t, result, x, item_name,is_extend=True))\n",
        "\n",
        "item_name = 'true'\n",
        "result[item_name] = result['user_id'].progress_apply(lambda x : get_items(x_train_t, result, x, item_name,is_extend=False))\n",
        "\n",
        "precisions=[]\n",
        "for res in result.iterrows():\n",
        "    predict = res[1]['predict']\n",
        "    true = res[1]['true']\n",
        "    precisions.append(precision_at_k(predict,true,5))"
      ]
    },
    {
      "cell_type": "code",
      "execution_count": 163,
      "metadata": {},
      "outputs": [
        {
          "data": {
            "text/plain": [
              "0.695873320537428"
            ]
          },
          "execution_count": 163,
          "metadata": {},
          "output_type": "execute_result"
        }
      ],
      "source": [
        "np.mean(precisions)"
      ]
    },
    {
      "cell_type": "markdown",
      "metadata": {},
      "source": [
        "### Проверка на тестовой выборке."
      ]
    },
    {
      "cell_type": "code",
      "execution_count": 142,
      "metadata": {},
      "outputs": [],
      "source": [
        "test_preds = lgb.predict_proba(X_test)[:,1]"
      ]
    },
    {
      "cell_type": "code",
      "execution_count": 143,
      "metadata": {},
      "outputs": [],
      "source": [
        "x_test_t = X_test.copy()\n",
        "x_test_t['predict'] = test_preds\n",
        "x_test_t['true'] = y_test['target'].values\n",
        "result = x_test_t.sort_values('predict', ascending=False).groupby('user_id')['item_id'].unique().reset_index()"
      ]
    },
    {
      "cell_type": "code",
      "execution_count": null,
      "metadata": {},
      "outputs": [],
      "source": [
        "# precisions=[]\n",
        "# for res in tqdm(result.iterrows()):\n",
        "#     user_id = res[1]['user_id']\n",
        "#     item_ids = res[1]['item_id']\n",
        "#     predict = get_items_1(x_test_t, item_ids, user_id, 'predict', is_extend=True)\n",
        "#     true = get_items_1(x_test_t, item_ids, user_id, 'true', is_extend=False)\n",
        "#     precisions.append(precision_at_k(predict,true,5)) \n",
        "    \n",
        "# np.mean(precisions)"
      ]
    },
    {
      "cell_type": "code",
      "execution_count": 153,
      "metadata": {},
      "outputs": [
        {
          "name": "stderr",
          "output_type": "stream",
          "text": [
            "100%|██████████| 1968/1968 [01:12<00:00, 27.25it/s]\n",
            "100%|██████████| 1968/1968 [01:06<00:00, 29.69it/s]\n"
          ]
        }
      ],
      "source": [
        "item_name = 'predict'\n",
        "result[item_name] = result['user_id'].progress_apply(lambda x : get_items(x_test_t, result, x, item_name,is_extend=True))\n",
        "\n",
        "item_name = 'true'\n",
        "result[item_name] = result['user_id'].progress_apply(lambda x : get_items(x_test_t, result, x, item_name,is_extend=False))\n",
        "\n",
        "precisions=[]\n",
        "for res in result.iterrows():\n",
        "    predict = res[1]['predict']\n",
        "    true = res[1]['true']\n",
        "    precisions.append(precision_at_k(predict,true,5))"
      ]
    },
    {
      "cell_type": "code",
      "execution_count": 154,
      "metadata": {},
      "outputs": [
        {
          "data": {
            "text/plain": [
              "0.1298780487804878"
            ]
          },
          "execution_count": 154,
          "metadata": {},
          "output_type": "execute_result"
        }
      ],
      "source": [
        "np.mean(precisions)"
      ]
    },
    {
      "cell_type": "code",
      "execution_count": null,
      "metadata": {},
      "outputs": [],
      "source": [
        "item_features = item_features.merge(item_price[['item_id','commodity_desc_mean_sale']], on='item_id',how='left')"
      ]
    },
    {
      "cell_type": "markdown",
      "metadata": {
        "id": "9FLlIq15C4Ju"
      },
      "source": [
        "### Финальный проект\n",
        "\n",
        "Мы уже прошли всю необходимуб теорию для финального проекта. Проект осуществляется на данных из вебинара (данные считаны в начале ДЗ).\n",
        "Рекомендуем вам **начать делать проект сразу после этого домашнего задания**\n",
        "- Целевая метрика - precision@5. Порог для уcпешной сдачи проекта precision@5 > 25%\n",
        "- Будет public тестовый датасет, на котором вы сможете измерять метрику\n",
        "- Также будет private тестовый датасет для измерения финального качества\n",
        "- НЕ обязательно, но крайне желательно использовать 2-ух уровневые рекоммендательные системы в проекте\n",
        "- Вы сдаете код проекта в виде github репозитория и csv файл с рекомендациями "
      ]
    }
  ],
  "metadata": {
    "colab": {
      "name": "hw_webinar_6.ipynb",
      "provenance": []
    },
    "kernelspec": {
      "display_name": "Python 3",
      "language": "python",
      "name": "python3"
    },
    "language_info": {
      "codemirror_mode": {
        "name": "ipython",
        "version": 3
      },
      "file_extension": ".py",
      "mimetype": "text/x-python",
      "name": "python",
      "nbconvert_exporter": "python",
      "pygments_lexer": "ipython3",
      "version": "3.8.8"
    }
  },
  "nbformat": 4,
  "nbformat_minor": 0
}
