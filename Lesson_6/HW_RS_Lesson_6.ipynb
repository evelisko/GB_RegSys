{
  "cells": [
    {
      "cell_type": "markdown",
      "metadata": {
        "id": "nMBdGcvjC4Ji"
      },
      "source": [
        "# Вебинар 6. Двухуровневые модели рекомендаций\n"
      ]
    },
    {
      "cell_type": "markdown",
      "metadata": {
        "id": "3Jgaacz0C4Jl"
      },
      "source": [
        "Код для src, utils, metrics вы можете скачать из [этого](https://github.com/geangohn/recsys-tutorial) github репозитория"
      ]
    },
    {
      "cell_type": "code",
      "execution_count": 1,
      "metadata": {
        "colab": {
          "base_uri": "https://localhost:8080/"
        },
        "id": "B5pEd3Wo7_nM",
        "outputId": "6940876b-81a4-44dd-8dad-165147e56f51"
      },
      "outputs": [],
      "source": [
        "# !pip install implicit"
      ]
    },
    {
      "cell_type": "code",
      "execution_count": 2,
      "metadata": {
        "id": "5Aur99NsC4Jm"
      },
      "outputs": [],
      "source": [
        "import pandas as pd\n",
        "import numpy as np\n",
        "import matplotlib.pyplot as plt\n",
        "%matplotlib inline\n",
        "\n",
        "# Для работы с матрицами\n",
        "from scipy.sparse import csr_matrix\n",
        "\n",
        "# Матричная факторизация\n",
        "from implicit import als\n",
        "\n",
        "# Модель второго уровня\n",
        "from lightgbm import LGBMClassifier\n",
        "\n",
        "import os, sys\n",
        "module_path = os.path.abspath(os.path.join(os.pardir))\n",
        "if module_path not in sys.path:\n",
        "    sys.path.append(module_path)\n",
        "\n",
        "# Написанные нами функции\n",
        "from src.metrics import precision_at_k, recall_at_k\n",
        "from src.utils import prefilter_items\n",
        "from src.recommenders import MainRecommender\n",
        "from tqdm import tqdm\n",
        "\n",
        "tqdm.pandas()"
      ]
    },
    {
      "cell_type": "code",
      "execution_count": 3,
      "metadata": {
        "colab": {
          "base_uri": "https://localhost:8080/",
          "height": 442
        },
        "id": "vso_erSdC4Jo",
        "outputId": "81cbc675-678b-4650-d076-de2e5e1eb4ad"
      },
      "outputs": [
        {
          "data": {
            "text/html": [
              "<div>\n",
              "<style scoped>\n",
              "    .dataframe tbody tr th:only-of-type {\n",
              "        vertical-align: middle;\n",
              "    }\n",
              "\n",
              "    .dataframe tbody tr th {\n",
              "        vertical-align: top;\n",
              "    }\n",
              "\n",
              "    .dataframe thead th {\n",
              "        text-align: right;\n",
              "    }\n",
              "</style>\n",
              "<table border=\"1\" class=\"dataframe\">\n",
              "  <thead>\n",
              "    <tr style=\"text-align: right;\">\n",
              "      <th></th>\n",
              "      <th>user_id</th>\n",
              "      <th>basket_id</th>\n",
              "      <th>day</th>\n",
              "      <th>item_id</th>\n",
              "      <th>quantity</th>\n",
              "      <th>sales_value</th>\n",
              "      <th>store_id</th>\n",
              "      <th>retail_disc</th>\n",
              "      <th>trans_time</th>\n",
              "      <th>week_no</th>\n",
              "      <th>coupon_disc</th>\n",
              "      <th>coupon_match_disc</th>\n",
              "    </tr>\n",
              "  </thead>\n",
              "  <tbody>\n",
              "    <tr>\n",
              "      <th>0</th>\n",
              "      <td>2375</td>\n",
              "      <td>26984851472</td>\n",
              "      <td>1</td>\n",
              "      <td>1004906</td>\n",
              "      <td>1</td>\n",
              "      <td>1.39</td>\n",
              "      <td>364</td>\n",
              "      <td>-0.6</td>\n",
              "      <td>1631</td>\n",
              "      <td>1</td>\n",
              "      <td>0.0</td>\n",
              "      <td>0.0</td>\n",
              "    </tr>\n",
              "    <tr>\n",
              "      <th>1</th>\n",
              "      <td>2375</td>\n",
              "      <td>26984851472</td>\n",
              "      <td>1</td>\n",
              "      <td>1033142</td>\n",
              "      <td>1</td>\n",
              "      <td>0.82</td>\n",
              "      <td>364</td>\n",
              "      <td>0.0</td>\n",
              "      <td>1631</td>\n",
              "      <td>1</td>\n",
              "      <td>0.0</td>\n",
              "      <td>0.0</td>\n",
              "    </tr>\n",
              "  </tbody>\n",
              "</table>\n",
              "</div>"
            ],
            "text/plain": [
              "   user_id    basket_id  day  item_id  quantity  sales_value  store_id  \\\n",
              "0     2375  26984851472    1  1004906         1         1.39       364   \n",
              "1     2375  26984851472    1  1033142         1         0.82       364   \n",
              "\n",
              "   retail_disc  trans_time  week_no  coupon_disc  coupon_match_disc  \n",
              "0         -0.6        1631        1          0.0                0.0  \n",
              "1          0.0        1631        1          0.0                0.0  "
            ]
          },
          "execution_count": 3,
          "metadata": {},
          "output_type": "execute_result"
        }
      ],
      "source": [
        "data = pd.read_csv('../raw_data/retail_train.csv')\n",
        "item_features = pd.read_csv('../raw_data/product.csv')\n",
        "user_features = pd.read_csv('../raw_data/hh_demographic.csv')\n",
        "\n",
        "# column processing\n",
        "item_features.columns = [col.lower() for col in item_features.columns]\n",
        "user_features.columns = [col.lower() for col in user_features.columns]\n",
        "\n",
        "item_features.rename(columns={'product_id': 'item_id'}, inplace=True)\n",
        "user_features.rename(columns={'household_key': 'user_id'}, inplace=True)\n",
        "\n",
        "# Если я не ошибаюсь, предобработку данных на датасете \n",
        "# лучше выполнять до разделения, выборки. \n",
        "# data = prefilter_items(data, item_features=item_features, take_n_popular=5000)\n",
        "\n",
        "\n",
        "# Важна схема обучения и валидации!\n",
        "# -- давние покупки -- | -- 6 недель -- | -- 3 недель -- \n",
        "# подобрать размер 2-ого датасета (6 недель) --> learning curve (зависимость метрики recall@k от размера датасета)\n",
        "val_lvl_1_size_weeks = 6\n",
        "val_lvl_2_size_weeks = 3\n",
        "\n",
        "data_train_lvl_1 = data[data['week_no'] < data['week_no'].max() - (val_lvl_1_size_weeks + val_lvl_2_size_weeks)]\n",
        "data_val_lvl_1 = data[(data['week_no'] >= data['week_no'].max() - (val_lvl_1_size_weeks + val_lvl_2_size_weeks)) &\n",
        "                      (data['week_no'] < data['week_no'].max() - (val_lvl_2_size_weeks))]\n",
        "\n",
        "data_train_lvl_2 = data_val_lvl_1.copy()  # Для наглядности. Далее мы добавим изменения, и они будут отличаться\n",
        "data_val_lvl_2 = data[data['week_no'] >= data['week_no'].max() - val_lvl_2_size_weeks]\n",
        "\n",
        "data_train_lvl_1.head(2)"
      ]
    },
    {
      "cell_type": "code",
      "execution_count": 4,
      "metadata": {
        "id": "zcnV3l4XC4Jp",
        "outputId": "d58f889c-0671-4bb9-b2b6-2dc2e8c24fce"
      },
      "outputs": [
        {
          "name": "stdout",
          "output_type": "stream",
          "text": [
            "Decreased # items from 83685 to 5001\n"
          ]
        }
      ],
      "source": [
        "n_items_before = data_train_lvl_1['item_id'].nunique()\n",
        "\n",
        "data_train_lvl_1 = prefilter_items(data_train_lvl_1, item_features=item_features, take_n_popular=5000)\n",
        "\n",
        "n_items_after = data_train_lvl_1['item_id'].nunique()\n",
        "print('Decreased # items from {} to {}'.format(n_items_before, n_items_after))"
      ]
    },
    {
      "cell_type": "code",
      "execution_count": 5,
      "metadata": {
        "colab": {
          "referenced_widgets": [
            "729d4287bb794971802d9da5e141f10a",
            "32375ef613474af6a0fcadb9255eb835"
          ]
        },
        "id": "zgYXRQ0lC4Jq",
        "outputId": "d9ea41ae-3b4d-41b4-fc46-90868ebb9894"
      },
      "outputs": [
        {
          "name": "stderr",
          "output_type": "stream",
          "text": [
            "WARNING:root:OpenBLAS detected. Its highly recommend to set the environment variable 'export OPENBLAS_NUM_THREADS=1' to disable its internal multithreading\n",
            "100%|██████████| 15/15 [00:16<00:00,  1.12s/it]\n",
            "100%|██████████| 5001/5001 [00:00<00:00, 23764.88it/s]\n"
          ]
        }
      ],
      "source": [
        "recommender = MainRecommender(data_train_lvl_1)"
      ]
    },
    {
      "cell_type": "code",
      "execution_count": 6,
      "metadata": {
        "id": "xB9JX5swC4Jr",
        "outputId": "af05502b-1fb9-42b6-919c-b915ac3a0106"
      },
      "outputs": [
        {
          "data": {
            "text/plain": [
              "[899624, 1037863, 951590, 1044078, 991546]"
            ]
          },
          "execution_count": 6,
          "metadata": {},
          "output_type": "execute_result"
        }
      ],
      "source": [
        "recommender.get_als_recommendations(2375, N=5)"
      ]
    },
    {
      "cell_type": "code",
      "execution_count": 7,
      "metadata": {
        "id": "PNVa6jWLC4Jr",
        "outputId": "c69395e4-8171-41f1-c0c4-067b582f26e0"
      },
      "outputs": [
        {
          "data": {
            "text/plain": [
              "[1068562, 1005935, 907099, 1112627, 1036501]"
            ]
          },
          "execution_count": 7,
          "metadata": {},
          "output_type": "execute_result"
        }
      ],
      "source": [
        "recommender.get_own_recommendations(2375, N=5)"
      ]
    },
    {
      "cell_type": "code",
      "execution_count": 8,
      "metadata": {},
      "outputs": [
        {
          "data": {
            "text/plain": [
              "[1068562, 1005935, 907099, 1112627, 1036501]"
            ]
          },
          "execution_count": 8,
          "metadata": {},
          "output_type": "execute_result"
        }
      ],
      "source": [
        "is_extend_with_top_popular=True\n",
        "recommender.get_own_recommendations(user=2375, N=5, extend_with_top_popular=is_extend_with_top_popular)"
      ]
    },
    {
      "cell_type": "code",
      "execution_count": 9,
      "metadata": {
        "id": "0NoB_lSJC4Js",
        "outputId": "9f91a42c-08bf-4037-fca1-54db5a5cafee"
      },
      "outputs": [
        {
          "data": {
            "text/plain": [
              "[889731, 1044078, 999207, 1062966, 9677366]"
            ]
          },
          "execution_count": 9,
          "metadata": {},
          "output_type": "execute_result"
        }
      ],
      "source": [
        "recommender.get_similar_items_recommendation(2375, N=5)"
      ]
    },
    {
      "cell_type": "code",
      "execution_count": 10,
      "metadata": {
        "id": "GdQO5CWKC4Js",
        "outputId": "08936fbf-715f-412a-9fbe-065816bb6a90"
      },
      "outputs": [
        {
          "data": {
            "text/plain": [
              "[1052155, 831125, 854133, 7147317, 911162]"
            ]
          },
          "execution_count": 10,
          "metadata": {},
          "output_type": "execute_result"
        }
      ],
      "source": [
        "recommender.get_similar_users_recommendation(2375, N=5)"
      ]
    },
    {
      "cell_type": "markdown",
      "metadata": {
        "id": "Bqs9Sw_YC4Jt"
      },
      "source": [
        "### Задание 1\n",
        "\n",
        "A) Попробуйте различные варианты генерации кандидатов. Какие из них дают наибольший recall@k ?\n",
        "- Пока пробуем отобрать 50 кандидатов (k=50)\n",
        "- Качество измеряем на data_val_lvl_1: следующие 6 недель после трейна\n",
        "\n",
        "Дают ли own recommendtions + top-popular лучший recall?  \n",
        "\n",
        "B)* Как зависит recall@k от k? Постройте для одной схемы генерации кандидатов эту зависимость для k = {20, 50, 100, 200, 500}  \n",
        "C)* Исходя из прошлого вопроса, как вы думаете, какое значение k является наиболее разумным?\n"
      ]
    },
    {
      "cell_type": "code",
      "execution_count": 11,
      "metadata": {},
      "outputs": [
        {
          "data": {
            "text/html": [
              "<div>\n",
              "<style scoped>\n",
              "    .dataframe tbody tr th:only-of-type {\n",
              "        vertical-align: middle;\n",
              "    }\n",
              "\n",
              "    .dataframe tbody tr th {\n",
              "        vertical-align: top;\n",
              "    }\n",
              "\n",
              "    .dataframe thead th {\n",
              "        text-align: right;\n",
              "    }\n",
              "</style>\n",
              "<table border=\"1\" class=\"dataframe\">\n",
              "  <thead>\n",
              "    <tr style=\"text-align: right;\">\n",
              "      <th></th>\n",
              "      <th>user_id</th>\n",
              "      <th>basket_id</th>\n",
              "      <th>day</th>\n",
              "      <th>item_id</th>\n",
              "      <th>quantity</th>\n",
              "      <th>sales_value</th>\n",
              "      <th>store_id</th>\n",
              "      <th>retail_disc</th>\n",
              "      <th>trans_time</th>\n",
              "      <th>week_no</th>\n",
              "      <th>coupon_disc</th>\n",
              "      <th>coupon_match_disc</th>\n",
              "    </tr>\n",
              "  </thead>\n",
              "  <tbody>\n",
              "    <tr>\n",
              "      <th>1748540</th>\n",
              "      <td>1602</td>\n",
              "      <td>34748855121</td>\n",
              "      <td>503</td>\n",
              "      <td>999999</td>\n",
              "      <td>2</td>\n",
              "      <td>3.98</td>\n",
              "      <td>334</td>\n",
              "      <td>0.0</td>\n",
              "      <td>843</td>\n",
              "      <td>73</td>\n",
              "      <td>0.0</td>\n",
              "      <td>0.0</td>\n",
              "    </tr>\n",
              "    <tr>\n",
              "      <th>1748542</th>\n",
              "      <td>1375</td>\n",
              "      <td>34748856592</td>\n",
              "      <td>503</td>\n",
              "      <td>849003</td>\n",
              "      <td>1</td>\n",
              "      <td>3.18</td>\n",
              "      <td>334</td>\n",
              "      <td>0.0</td>\n",
              "      <td>1708</td>\n",
              "      <td>73</td>\n",
              "      <td>0.0</td>\n",
              "      <td>0.0</td>\n",
              "    </tr>\n",
              "  </tbody>\n",
              "</table>\n",
              "</div>"
            ],
            "text/plain": [
              "         user_id    basket_id  day  item_id  quantity  sales_value  store_id  \\\n",
              "1748540     1602  34748855121  503   999999         2         3.98       334   \n",
              "1748542     1375  34748856592  503   849003         1         3.18       334   \n",
              "\n",
              "         retail_disc  trans_time  week_no  coupon_disc  coupon_match_disc  \n",
              "1748540          0.0         843       73          0.0                0.0  \n",
              "1748542          0.0        1708       73          0.0                0.0  "
            ]
          },
          "execution_count": 11,
          "metadata": {},
          "output_type": "execute_result"
        }
      ],
      "source": [
        "data_train_lvl_2 = data_val_lvl_1.copy()  # Для наглядности. Далее мы добавим изменения, и они будут отличаться\n",
        "data_val_lvl_2 = data[data['week_no'] >= data['week_no'].max() - val_lvl_2_size_weeks]\n",
        "\n",
        "data_train_lvl_1.head(2)"
      ]
    },
    {
      "cell_type": "code",
      "execution_count": 12,
      "metadata": {
        "id": "frt2RzDWC4Jt",
        "outputId": "7c594abf-4a34-406b-9897-8bfbddf69a93"
      },
      "outputs": [
        {
          "data": {
            "text/html": [
              "<div>\n",
              "<style scoped>\n",
              "    .dataframe tbody tr th:only-of-type {\n",
              "        vertical-align: middle;\n",
              "    }\n",
              "\n",
              "    .dataframe tbody tr th {\n",
              "        vertical-align: top;\n",
              "    }\n",
              "\n",
              "    .dataframe thead th {\n",
              "        text-align: right;\n",
              "    }\n",
              "</style>\n",
              "<table border=\"1\" class=\"dataframe\">\n",
              "  <thead>\n",
              "    <tr style=\"text-align: right;\">\n",
              "      <th></th>\n",
              "      <th>user_id</th>\n",
              "      <th>actual</th>\n",
              "    </tr>\n",
              "  </thead>\n",
              "  <tbody>\n",
              "    <tr>\n",
              "      <th>0</th>\n",
              "      <td>1</td>\n",
              "      <td>[853529, 865456, 867607, 872137, 874905, 87524...</td>\n",
              "    </tr>\n",
              "    <tr>\n",
              "      <th>1</th>\n",
              "      <td>2</td>\n",
              "      <td>[15830248, 838136, 839656, 861272, 866211, 870...</td>\n",
              "    </tr>\n",
              "  </tbody>\n",
              "</table>\n",
              "</div>"
            ],
            "text/plain": [
              "   user_id                                             actual\n",
              "0        1  [853529, 865456, 867607, 872137, 874905, 87524...\n",
              "1        2  [15830248, 838136, 839656, 861272, 866211, 870..."
            ]
          },
          "execution_count": 12,
          "metadata": {},
          "output_type": "execute_result"
        }
      ],
      "source": [
        "result_lvl_1 = data_val_lvl_1.groupby('user_id')['item_id'].unique().reset_index()\n",
        "result_lvl_1.columns=['user_id', 'actual']\n",
        "\n",
        "result_lvl_1.head(2)"
      ]
    },
    {
      "cell_type": "code",
      "execution_count": 13,
      "metadata": {},
      "outputs": [
        {
          "data": {
            "text/plain": [
              "2084"
            ]
          },
          "execution_count": 13,
          "metadata": {},
          "output_type": "execute_result"
        }
      ],
      "source": [
        "# Убирем из тестовой выборки пользоватлей, которые отсутствуют в обучащей. \n",
        "# Определяем уникальных пользователей которые есть в тестовом датасете. \n",
        "\n",
        "result_lvl_1 = result_lvl_1[result_lvl_1['user_id'].isin(data_train_lvl_1['user_id'].unique())]\n",
        "result_lvl_1['user_id'].count()"
      ]
    },
    {
      "cell_type": "code",
      "execution_count": 14,
      "metadata": {},
      "outputs": [],
      "source": [
        "N=50\n",
        "result_lvl_1['similar_items_recomender'] = result_lvl_1['user_id'].apply(lambda x: recommender.get_similar_items_recommendation(x, N=N))\n",
        "\n",
        "result_lvl_1['als_recmender'] = result_lvl_1['user_id'].apply(lambda x: recommender.get_als_recommendations(x, N=N))\n",
        "\n",
        "result_lvl_1['own_recomender'] = result_lvl_1['user_id'].apply(lambda x: recommender.get_own_recommendations(x, N=N))\n",
        "\n",
        "# Дополняем недостающие товары популярными.\n",
        "is_extend_with_top_popular=True\n",
        "result_lvl_1['own_recomender_extend'] = result_lvl_1['user_id'].apply(lambda x:\n",
        " recommender.get_own_recommendations(x, N=N, extend_with_top_popular=is_extend_with_top_popular))"
      ]
    },
    {
      "cell_type": "code",
      "execution_count": 15,
      "metadata": {},
      "outputs": [
        {
          "data": {
            "text/html": [
              "<div>\n",
              "<style scoped>\n",
              "    .dataframe tbody tr th:only-of-type {\n",
              "        vertical-align: middle;\n",
              "    }\n",
              "\n",
              "    .dataframe tbody tr th {\n",
              "        vertical-align: top;\n",
              "    }\n",
              "\n",
              "    .dataframe thead th {\n",
              "        text-align: right;\n",
              "    }\n",
              "</style>\n",
              "<table border=\"1\" class=\"dataframe\">\n",
              "  <thead>\n",
              "    <tr style=\"text-align: right;\">\n",
              "      <th></th>\n",
              "      <th>method</th>\n",
              "      <th>precission</th>\n",
              "    </tr>\n",
              "  </thead>\n",
              "  <tbody>\n",
              "    <tr>\n",
              "      <th>0</th>\n",
              "      <td>similar_items_recomender</td>\n",
              "      <td>0.057342</td>\n",
              "    </tr>\n",
              "    <tr>\n",
              "      <th>1</th>\n",
              "      <td>als_recmender</td>\n",
              "      <td>0.080163</td>\n",
              "    </tr>\n",
              "    <tr>\n",
              "      <th>2</th>\n",
              "      <td>own_recomender</td>\n",
              "      <td>0.118695</td>\n",
              "    </tr>\n",
              "    <tr>\n",
              "      <th>3</th>\n",
              "      <td>own_recomender_extend</td>\n",
              "      <td>0.118695</td>\n",
              "    </tr>\n",
              "  </tbody>\n",
              "</table>\n",
              "</div>"
            ],
            "text/plain": [
              "                     method  precission\n",
              "0  similar_items_recomender    0.057342\n",
              "1             als_recmender    0.080163\n",
              "2            own_recomender    0.118695\n",
              "3     own_recomender_extend    0.118695"
            ]
          },
          "execution_count": 15,
          "metadata": {},
          "output_type": "execute_result"
        }
      ],
      "source": [
        "N=50\n",
        "precision_dic = {'method':[], 'precission':[] }\n",
        "\n",
        "column_names = ['similar_items_recomender',\n",
        "                'als_recmender',\n",
        "                'own_recomender',\n",
        "                'own_recomender_extend'\n",
        "]\n",
        "for column_name in column_names:\n",
        "    precision_dic['method'].append(column_name)\n",
        "    precision_dic['precission'].append(result_lvl_1.apply(lambda x: precision_at_k(x[column_name], x['actual'],  N), axis=1).mean()) \n",
        "\n",
        "pd.DataFrame(precision_dic)"
      ]
    },
    {
      "cell_type": "code",
      "execution_count": 16,
      "metadata": {},
      "outputs": [
        {
          "data": {
            "text/html": [
              "<div>\n",
              "<style scoped>\n",
              "    .dataframe tbody tr th:only-of-type {\n",
              "        vertical-align: middle;\n",
              "    }\n",
              "\n",
              "    .dataframe tbody tr th {\n",
              "        vertical-align: top;\n",
              "    }\n",
              "\n",
              "    .dataframe thead th {\n",
              "        text-align: right;\n",
              "    }\n",
              "</style>\n",
              "<table border=\"1\" class=\"dataframe\">\n",
              "  <thead>\n",
              "    <tr style=\"text-align: right;\">\n",
              "      <th></th>\n",
              "      <th>method</th>\n",
              "      <th>recall</th>\n",
              "    </tr>\n",
              "  </thead>\n",
              "  <tbody>\n",
              "    <tr>\n",
              "      <th>0</th>\n",
              "      <td>similar_items_recomender</td>\n",
              "      <td>0.061504</td>\n",
              "    </tr>\n",
              "    <tr>\n",
              "      <th>1</th>\n",
              "      <td>als_recmender</td>\n",
              "      <td>0.064782</td>\n",
              "    </tr>\n",
              "    <tr>\n",
              "      <th>2</th>\n",
              "      <td>own_recomender</td>\n",
              "      <td>0.113664</td>\n",
              "    </tr>\n",
              "    <tr>\n",
              "      <th>3</th>\n",
              "      <td>own_recomender_extend</td>\n",
              "      <td>0.113664</td>\n",
              "    </tr>\n",
              "  </tbody>\n",
              "</table>\n",
              "</div>"
            ],
            "text/plain": [
              "                     method    recall\n",
              "0  similar_items_recomender  0.061504\n",
              "1             als_recmender  0.064782\n",
              "2            own_recomender  0.113664\n",
              "3     own_recomender_extend  0.113664"
            ]
          },
          "execution_count": 16,
          "metadata": {},
          "output_type": "execute_result"
        }
      ],
      "source": [
        "N=50\n",
        "precision_dic = {'method':[], 'recall':[] }\n",
        "\n",
        "column_names = ['similar_items_recomender',\n",
        "                'als_recmender',\n",
        "                'own_recomender',\n",
        "                'own_recomender_extend'\n",
        "]\n",
        "for column_name in column_names:\n",
        "    precision_dic['method'].append(column_name)\n",
        "    precision_dic['recall'].append(result_lvl_1.apply(lambda x: recall_at_k(x[column_name], x['actual'],  N), axis=1).mean()) \n",
        "\n",
        "pd.DataFrame(precision_dic)"
      ]
    },
    {
      "cell_type": "markdown",
      "metadata": {},
      "source": [
        "**B)**\\* Как зависит recall@k от k? Постройте для одной схемы генерации кандидатов эту зависимость для k = {20, 50, 100, 200, 500}  "
      ]
    },
    {
      "cell_type": "code",
      "execution_count": 17,
      "metadata": {},
      "outputs": [],
      "source": [
        "def get_metrics(metric,values):\n",
        "    metric_values = []\n",
        "    is_extend_with_top_popular=True\n",
        "    for k in tqdm(values):\n",
        "        result_lvl_1[f'own_recomender_{k}'] = result_lvl_1['user_id'].apply(lambda x: recommender. \\\n",
        "        get_own_recommendations(x, N=k,extend_with_top_popular=is_extend_with_top_popular))\n",
        "        metric_values.append(result_lvl_1.apply(lambda x: metric(x[f'own_recomender_{k}'],\n",
        "        x['actual'],  k), axis=1).mean()) \n",
        "    return metric_values\n"
      ]
    },
    {
      "cell_type": "code",
      "execution_count": 18,
      "metadata": {},
      "outputs": [
        {
          "name": "stderr",
          "output_type": "stream",
          "text": [
            "100%|██████████| 7/7 [00:26<00:00,  3.81s/it]\n"
          ]
        }
      ],
      "source": [
        "values = [5, 10, 20, 50, 100, 200, 500]\n",
        "\n",
        "recall = get_metrics(recall_at_k, values) # <-- Recall тута !^_^!"
      ]
    },
    {
      "cell_type": "code",
      "execution_count": 19,
      "metadata": {},
      "outputs": [
        {
          "data": {
            "image/png": "[encoded data removed]",
            "text/plain": [
              "<Figure size 432x288 with 1 Axes>"
            ]
          },
          "metadata": {
            "needs_background": "light"
          },
          "output_type": "display_data"
        }
      ],
      "source": [
        "plt.plot(values, recall)\n",
        "plt.ylabel('recall')\n",
        "plt.xlabel('k')\n",
        "plt.show()"
      ]
    },
    {
      "cell_type": "markdown",
      "metadata": {},
      "source": [
        "**C)*** Исходя из прошлого вопроса, как вы думаете, какое значение k является наиболее разумным?"
      ]
    },
    {
      "cell_type": "markdown",
      "metadata": {},
      "source": [
        "Для того чтобы ответить на этот вопрос, построим, дополнительно, график precision_at_k."
      ]
    },
    {
      "cell_type": "code",
      "execution_count": 20,
      "metadata": {},
      "outputs": [
        {
          "name": "stderr",
          "output_type": "stream",
          "text": [
            "100%|██████████| 7/7 [00:26<00:00,  3.80s/it]\n"
          ]
        }
      ],
      "source": [
        "precision = get_metrics(precision_at_k, values)"
      ]
    },
    {
      "cell_type": "code",
      "execution_count": 21,
      "metadata": {},
      "outputs": [
        {
          "data": {
            "image/png": "[encoded data removed]",
            "text/plain": [
              "<Figure size 432x288 with 1 Axes>"
            ]
          },
          "metadata": {
            "needs_background": "light"
          },
          "output_type": "display_data"
        }
      ],
      "source": [
        "plt.plot(values, recall, label='recall')\n",
        "plt.xlabel('k')\n",
        "plt.plot(values, precision, label='precision')\n",
        "plt.legend()\n",
        "plt.show()"
      ]
    },
    {
      "cell_type": "markdown",
      "metadata": {},
      "source": [
        "Видно, что с увеличением к-ва элементов recall  ростет, а precision уменьшается. Выбор значения k во монгом зависит от задачи, все завист от того какой параметр мы хотим максимизировать. \n",
        "Но, в общем случаем оптимальне значение k находится в месте пересечения графиков precision и recall, т.е. ~ 50."
      ]
    },
    {
      "cell_type": "markdown",
      "metadata": {
        "id": "bAHJu3Z5C4Ju"
      },
      "source": [
        "### Задание 2.\n",
        "\n",
        "Обучите модель 2-ого уровня, при этом:  \n",
        "    - Добавьте минимум по 2 фичи для юзера, товара и пары юзер-товар  \n",
        "    - Измерьте отдельно precision@5 модели 1-ого уровня и двухуровневой модели на data_val_lvl_2  \n",
        "    - Вырос ли precision@5 при использовании двухуровневой модели?  "
      ]
    },
    {
      "cell_type": "code",
      "execution_count": 22,
      "metadata": {},
      "outputs": [],
      "source": [
        "# Попробуем сперва пострить предсказания на одноуровневой модели."
      ]
    },
    {
      "cell_type": "code",
      "execution_count": 23,
      "metadata": {},
      "outputs": [],
      "source": [
        "# result_lvl_2 = data_val_lvl_2.groupby('user_id')['item_id'].unique().reset_index()\n",
        "# result_lvl_2.columns=['user_id', 'actual']\n",
        "\n",
        "# result_lvl_2 = result_lvl_2[result_lvl_2['user_id'].isin(data_train_lvl_1['user_id'].unique())]\n",
        "# result_lvl_2['user_id'].count()\n",
        "# result_lvl_2.head(2)"
      ]
    },
    {
      "cell_type": "code",
      "execution_count": 24,
      "metadata": {
        "id": "XZQcrch7C4Ju"
      },
      "outputs": [],
      "source": [
        "def perpare_lvl2(data,N=50):\n",
        "    users_lvl_2 = pd.DataFrame(data['user_id'].unique())\n",
        "    users_lvl_2.columns = ['user_id']\n",
        "\n",
        "    # Пока только warm start\n",
        "    users_lvl_2 = users_lvl_2[users_lvl_2['user_id'].isin(data_train_lvl_1['user_id'].unique())]\n",
        "\n",
        "    # Заполняем кандидатов, на основе предсказания модели 1-го уровня.\n",
        "    users_lvl_2['candidates'] = users_lvl_2['user_id'].apply(lambda x: recommender.get_own_recommendations(x, N=N))\n",
        "    # test_users = data\n",
        "    s = users_lvl_2.apply(lambda x: pd.Series(x['candidates']), axis=1).stack().reset_index(level=1, drop=True)\n",
        "    s.name = 'item_id'\n",
        "    # Это кандидаты. (т.е. предпологаемые покупки совершенные на основе предсказаний.)\n",
        "    users_lvl_2 = users_lvl_2.drop('candidates', axis=1).join(s)\n",
        "    users_lvl_2['drop'] = 1  # фиктивная переменная\n",
        "\n",
        "    # Создадим таблицу с реальными покупками user-ов. \n",
        "    targets_lvl_2 = data_train_lvl_2[['user_id', 'item_id']].copy()\n",
        "    targets_lvl_2['target'] = 1  # тут только покупки \n",
        "\n",
        "    # Объединим предпологаемые покупки с реальными, совершенными user-ами.\n",
        "    targets_lvl_2 = users_lvl_2.merge(targets_lvl_2, on=['user_id', 'item_id'], how='left')\n",
        "\n",
        "    # В результате, напротив товаров, в редсказании которых мы ошиблись, \n",
        "    # будет стоять Nan. Заполним их  нулями.  \n",
        "    targets_lvl_2['target'].fillna(0, inplace= True)\n",
        "    targets_lvl_2.drop('drop', axis=1, inplace=True)\n",
        "    targets_lvl_2['target'].mean() #Угадали примерно 17% покупок.\n",
        "\n",
        "    # Добавим к нашему датасету фичи user-ов и item-ов.\n",
        "    targets_lvl_2 = targets_lvl_2.merge(item_features, on='item_id', how='left')\n",
        "    targets_lvl_2 = targets_lvl_2.merge(user_features, on='user_id', how='left')\n",
        "\n",
        "    X_ = targets_lvl_2.drop('target', axis=1)\n",
        "    y_ = targets_lvl_2[['target']]\n",
        "    return X_, y_ "
      ]
    },
    {
      "cell_type": "code",
      "execution_count": 25,
      "metadata": {},
      "outputs": [],
      "source": [
        "X_train, y_train = perpare_lvl2(data_train_lvl_2)\n",
        "X_test, y_test = perpare_lvl2(data_val_lvl_2)"
      ]
    },
    {
      "cell_type": "code",
      "execution_count": 26,
      "metadata": {},
      "outputs": [
        {
          "data": {
            "text/html": [
              "<div>\n",
              "<style scoped>\n",
              "    .dataframe tbody tr th:only-of-type {\n",
              "        vertical-align: middle;\n",
              "    }\n",
              "\n",
              "    .dataframe tbody tr th {\n",
              "        vertical-align: top;\n",
              "    }\n",
              "\n",
              "    .dataframe thead th {\n",
              "        text-align: right;\n",
              "    }\n",
              "</style>\n",
              "<table border=\"1\" class=\"dataframe\">\n",
              "  <thead>\n",
              "    <tr style=\"text-align: right;\">\n",
              "      <th></th>\n",
              "      <th>user_id</th>\n",
              "      <th>item_id</th>\n",
              "      <th>manufacturer</th>\n",
              "      <th>department</th>\n",
              "      <th>brand</th>\n",
              "      <th>commodity_desc</th>\n",
              "      <th>sub_commodity_desc</th>\n",
              "      <th>curr_size_of_product</th>\n",
              "      <th>age_desc</th>\n",
              "      <th>marital_status_code</th>\n",
              "      <th>income_desc</th>\n",
              "      <th>homeowner_desc</th>\n",
              "      <th>hh_comp_desc</th>\n",
              "      <th>household_size_desc</th>\n",
              "      <th>kid_category_desc</th>\n",
              "    </tr>\n",
              "  </thead>\n",
              "  <tbody>\n",
              "    <tr>\n",
              "      <th>0</th>\n",
              "      <td>2070</td>\n",
              "      <td>834103</td>\n",
              "      <td>2224</td>\n",
              "      <td>GROCERY</td>\n",
              "      <td>National</td>\n",
              "      <td>SOFT DRINKS</td>\n",
              "      <td>SFT DRNK SNGL SRV BTL CARB (EX</td>\n",
              "      <td>20 OZ</td>\n",
              "      <td>45-54</td>\n",
              "      <td>U</td>\n",
              "      <td>50-74K</td>\n",
              "      <td>Unknown</td>\n",
              "      <td>Unknown</td>\n",
              "      <td>1</td>\n",
              "      <td>None/Unknown</td>\n",
              "    </tr>\n",
              "    <tr>\n",
              "      <th>1</th>\n",
              "      <td>2070</td>\n",
              "      <td>834103</td>\n",
              "      <td>2224</td>\n",
              "      <td>GROCERY</td>\n",
              "      <td>National</td>\n",
              "      <td>SOFT DRINKS</td>\n",
              "      <td>SFT DRNK SNGL SRV BTL CARB (EX</td>\n",
              "      <td>20 OZ</td>\n",
              "      <td>45-54</td>\n",
              "      <td>U</td>\n",
              "      <td>50-74K</td>\n",
              "      <td>Unknown</td>\n",
              "      <td>Unknown</td>\n",
              "      <td>1</td>\n",
              "      <td>None/Unknown</td>\n",
              "    </tr>\n",
              "  </tbody>\n",
              "</table>\n",
              "</div>"
            ],
            "text/plain": [
              "   user_id  item_id  manufacturer department     brand commodity_desc  \\\n",
              "0     2070   834103          2224    GROCERY  National    SOFT DRINKS   \n",
              "1     2070   834103          2224    GROCERY  National    SOFT DRINKS   \n",
              "\n",
              "               sub_commodity_desc curr_size_of_product age_desc  \\\n",
              "0  SFT DRNK SNGL SRV BTL CARB (EX                20 OZ    45-54   \n",
              "1  SFT DRNK SNGL SRV BTL CARB (EX                20 OZ    45-54   \n",
              "\n",
              "  marital_status_code income_desc homeowner_desc hh_comp_desc  \\\n",
              "0                   U      50-74K        Unknown      Unknown   \n",
              "1                   U      50-74K        Unknown      Unknown   \n",
              "\n",
              "  household_size_desc kid_category_desc  \n",
              "0                   1      None/Unknown  \n",
              "1                   1      None/Unknown  "
            ]
          },
          "execution_count": 26,
          "metadata": {},
          "output_type": "execute_result"
        }
      ],
      "source": [
        "X_train.head(2)"
      ]
    },
    {
      "cell_type": "code",
      "execution_count": 27,
      "metadata": {},
      "outputs": [
        {
          "data": {
            "text/plain": [
              "['manufacturer',\n",
              " 'department',\n",
              " 'brand',\n",
              " 'commodity_desc',\n",
              " 'sub_commodity_desc',\n",
              " 'curr_size_of_product',\n",
              " 'age_desc',\n",
              " 'marital_status_code',\n",
              " 'income_desc',\n",
              " 'homeowner_desc',\n",
              " 'hh_comp_desc',\n",
              " 'household_size_desc',\n",
              " 'kid_category_desc']"
            ]
          },
          "execution_count": 27,
          "metadata": {},
          "output_type": "execute_result"
        }
      ],
      "source": [
        "cat_feats = X_train.columns[2:].tolist()\n",
        "\n",
        "X_train[cat_feats] = X_train[cat_feats].astype('category')\n",
        "\n",
        "X_test[cat_feats] = X_test[cat_feats].astype('category')\n",
        "\n",
        "cat_feats"
      ]
    },
    {
      "cell_type": "code",
      "execution_count": 28,
      "metadata": {},
      "outputs": [
        {
          "data": {
            "text/plain": [
              "target    0.178224\n",
              "dtype: float64"
            ]
          },
          "execution_count": 28,
          "metadata": {},
          "output_type": "execute_result"
        }
      ],
      "source": [
        "y_train.mean()"
      ]
    },
    {
      "cell_type": "code",
      "execution_count": null,
      "metadata": {},
      "outputs": [],
      "source": [
        "lgb = LGBMClassifier(objective='binary',\n",
        "                     max_depth=7,\n",
        "                     categorical_column=cat_feats\n",
        "                     )\n",
        "                     \n",
        "lgb.fit(X_train, y_train)\n",
        "\n",
        "train_preds = lgb.predict_proba(X_train)[:,1]"
      ]
    },
    {
      "cell_type": "code",
      "execution_count": 30,
      "metadata": {},
      "outputs": [
        {
          "data": {
            "text/plain": [
              "array([0.70952246, 0.70952246, 0.70952246, ..., 0.20452483, 0.23743976,\n",
              "       0.19333136])"
            ]
          },
          "execution_count": 30,
          "metadata": {},
          "output_type": "execute_result"
        }
      ],
      "source": [
        "train_preds"
      ]
    },
    {
      "cell_type": "code",
      "execution_count": 31,
      "metadata": {},
      "outputs": [
        {
          "data": {
            "text/plain": [
              "array([1., 1., 1., ..., 0., 0., 0.])"
            ]
          },
          "execution_count": 31,
          "metadata": {},
          "output_type": "execute_result"
        }
      ],
      "source": [
        "y_train['target'].values"
      ]
    },
    {
      "cell_type": "code",
      "execution_count": 32,
      "metadata": {},
      "outputs": [
        {
          "data": {
            "text/plain": [
              "0.0"
            ]
          },
          "execution_count": 32,
          "metadata": {},
          "output_type": "execute_result"
        }
      ],
      "source": [
        "precision_at_k(train_preds, y_train['target'].values, k=5)"
      ]
    },
    {
      "cell_type": "code",
      "execution_count": 33,
      "metadata": {},
      "outputs": [],
      "source": [
        "x_train_t = X_train.copy()"
      ]
    },
    {
      "cell_type": "code",
      "execution_count": 34,
      "metadata": {},
      "outputs": [
        {
          "data": {
            "text/plain": [
              "(0.0014968461992007204, 0.9267339841873625)"
            ]
          },
          "execution_count": 34,
          "metadata": {},
          "output_type": "execute_result"
        }
      ],
      "source": [
        "train_preds.min(), train_preds.max()"
      ]
    },
    {
      "cell_type": "code",
      "execution_count": 35,
      "metadata": {},
      "outputs": [],
      "source": [
        "x_train_t['predict'] = train_preds"
      ]
    },
    {
      "cell_type": "code",
      "execution_count": 36,
      "metadata": {},
      "outputs": [],
      "source": [
        "x_train_t['true'] = y_train['target'].values"
      ]
    },
    {
      "cell_type": "code",
      "execution_count": 37,
      "metadata": {},
      "outputs": [],
      "source": [
        "# result = X_train.groupby('user_id')['item_id'].unique().reset_index()\n",
        "# result.columns=['user_id', 'actual']\n",
        "# result.head(2)"
      ]
    },
    {
      "cell_type": "code",
      "execution_count": 38,
      "metadata": {},
      "outputs": [
        {
          "data": {
            "text/html": [
              "<div>\n",
              "<style scoped>\n",
              "    .dataframe tbody tr th:only-of-type {\n",
              "        vertical-align: middle;\n",
              "    }\n",
              "\n",
              "    .dataframe tbody tr th {\n",
              "        vertical-align: top;\n",
              "    }\n",
              "\n",
              "    .dataframe thead th {\n",
              "        text-align: right;\n",
              "    }\n",
              "</style>\n",
              "<table border=\"1\" class=\"dataframe\">\n",
              "  <thead>\n",
              "    <tr style=\"text-align: right;\">\n",
              "      <th></th>\n",
              "      <th>user_id</th>\n",
              "      <th>item_id</th>\n",
              "      <th>manufacturer</th>\n",
              "      <th>department</th>\n",
              "      <th>brand</th>\n",
              "      <th>commodity_desc</th>\n",
              "      <th>sub_commodity_desc</th>\n",
              "      <th>curr_size_of_product</th>\n",
              "      <th>age_desc</th>\n",
              "      <th>marital_status_code</th>\n",
              "      <th>income_desc</th>\n",
              "      <th>homeowner_desc</th>\n",
              "      <th>hh_comp_desc</th>\n",
              "      <th>household_size_desc</th>\n",
              "      <th>kid_category_desc</th>\n",
              "      <th>predict</th>\n",
              "      <th>true</th>\n",
              "    </tr>\n",
              "  </thead>\n",
              "  <tbody>\n",
              "    <tr>\n",
              "      <th>0</th>\n",
              "      <td>2070</td>\n",
              "      <td>834103</td>\n",
              "      <td>2224</td>\n",
              "      <td>GROCERY</td>\n",
              "      <td>National</td>\n",
              "      <td>SOFT DRINKS</td>\n",
              "      <td>SFT DRNK SNGL SRV BTL CARB (EX</td>\n",
              "      <td>20 OZ</td>\n",
              "      <td>45-54</td>\n",
              "      <td>U</td>\n",
              "      <td>50-74K</td>\n",
              "      <td>Unknown</td>\n",
              "      <td>Unknown</td>\n",
              "      <td>1</td>\n",
              "      <td>None/Unknown</td>\n",
              "      <td>0.709522</td>\n",
              "      <td>1.0</td>\n",
              "    </tr>\n",
              "    <tr>\n",
              "      <th>1</th>\n",
              "      <td>2070</td>\n",
              "      <td>834103</td>\n",
              "      <td>2224</td>\n",
              "      <td>GROCERY</td>\n",
              "      <td>National</td>\n",
              "      <td>SOFT DRINKS</td>\n",
              "      <td>SFT DRNK SNGL SRV BTL CARB (EX</td>\n",
              "      <td>20 OZ</td>\n",
              "      <td>45-54</td>\n",
              "      <td>U</td>\n",
              "      <td>50-74K</td>\n",
              "      <td>Unknown</td>\n",
              "      <td>Unknown</td>\n",
              "      <td>1</td>\n",
              "      <td>None/Unknown</td>\n",
              "      <td>0.709522</td>\n",
              "      <td>1.0</td>\n",
              "    </tr>\n",
              "  </tbody>\n",
              "</table>\n",
              "</div>"
            ],
            "text/plain": [
              "   user_id  item_id manufacturer department     brand commodity_desc  \\\n",
              "0     2070   834103         2224    GROCERY  National    SOFT DRINKS   \n",
              "1     2070   834103         2224    GROCERY  National    SOFT DRINKS   \n",
              "\n",
              "               sub_commodity_desc curr_size_of_product age_desc  \\\n",
              "0  SFT DRNK SNGL SRV BTL CARB (EX                20 OZ    45-54   \n",
              "1  SFT DRNK SNGL SRV BTL CARB (EX                20 OZ    45-54   \n",
              "\n",
              "  marital_status_code income_desc homeowner_desc hh_comp_desc  \\\n",
              "0                   U      50-74K        Unknown      Unknown   \n",
              "1                   U      50-74K        Unknown      Unknown   \n",
              "\n",
              "  household_size_desc kid_category_desc   predict  true  \n",
              "0                   1      None/Unknown  0.709522   1.0  \n",
              "1                   1      None/Unknown  0.709522   1.0  "
            ]
          },
          "execution_count": 38,
          "metadata": {},
          "output_type": "execute_result"
        }
      ],
      "source": [
        "x_train_t.head(2)"
      ]
    },
    {
      "cell_type": "code",
      "execution_count": 39,
      "metadata": {},
      "outputs": [],
      "source": [
        "# x_train_t.loc[(x_train_t['user_id']==1)] "
      ]
    },
    {
      "cell_type": "code",
      "execution_count": 40,
      "metadata": {},
      "outputs": [],
      "source": [
        "result = x_train_t.sort_values('predict', ascending=False)"
      ]
    },
    {
      "cell_type": "code",
      "execution_count": 41,
      "metadata": {},
      "outputs": [
        {
          "data": {
            "text/plain": [
              "111382"
            ]
          },
          "execution_count": 41,
          "metadata": {},
          "output_type": "execute_result"
        }
      ],
      "source": [
        "len(result)"
      ]
    },
    {
      "cell_type": "code",
      "execution_count": 42,
      "metadata": {},
      "outputs": [],
      "source": [
        "result_gr  = result.groupby('user_id')['item_id'].unique().reset_index()"
      ]
    },
    {
      "cell_type": "code",
      "execution_count": 43,
      "metadata": {},
      "outputs": [],
      "source": [
        "items = result.loc[(result['user_id']==1),'item_id'].values[0]"
      ]
    },
    {
      "cell_type": "code",
      "execution_count": null,
      "metadata": {},
      "outputs": [],
      "source": [
        "# Топ покупок каждого юзера\n",
        "self.top_purchases = data.groupby(['user_id', 'item_id'])['quantity'].count().reset_index()\n",
        "self.top_purchases.sort_values('quantity', ascending=False, inplace=True)\n",
        "self.top_purchases = self.top_purchases[self.top_purchases['item_id'] != 999999]\n",
        "\n",
        "# Топ покупок по всему датасету\n",
        "self.overall_top_purchases = data.groupby('item_id')['quantity'].count().reset_index()\n",
        "self.overall_top_purchases.sort_values('quantity', ascending=False, inplace=True)\n",
        "self.overall_top_purchases = self.overall_top_purchases[self.overall_top_purchases['item_id'] != 999999]\n",
        "self.overall_top_purchases = self.overall_top_purchases.item_id.tolist()"
      ]
    },
    {
      "cell_type": "code",
      "execution_count": null,
      "metadata": {},
      "outputs": [],
      "source": [
        "def _extend_with_top_popular(self, recommendations, N=5):\n",
        "    \"\"\"Если кол-во рекоммендаций < N, то дополняем их топ-популярными\"\"\"\n",
        "\n",
        "    if len(recommendations) < N:\n",
        "        recommendations.extend(self.overall_top_purchases[:N])\n",
        "        recommendations = recommendations[:N]\n",
        "\n",
        "    return recommendations"
      ]
    },
    {
      "cell_type": "code",
      "execution_count": 44,
      "metadata": {},
      "outputs": [],
      "source": [
        "def get_items_1(items, user_id, item_name):\n",
        "    items_list = []\n",
        "    # true_list = []\n",
        "    # items = data.loc[(data['user_id']==user_id),'item_id'].values[0]\n",
        "    # items_list = .append(x_train_t.loc[((x_train_t['user_id']==user_id) & (x_train_t['item_id']==item)),item_name].mean())\n",
        "\n",
        "    for item in items:\n",
        "        items_list.append(x_train_t.loc[((x_train_t['user_id']==user_id) & (x_train_t['item_id']==item)),item_name].mean())\n",
        "        # true_list.append(x_train_t.loc[((x_train_t['user_id']==1) & (x_train_t['item_id']==item)),'true'].mean())\n",
        "    return items_list"
      ]
    },
    {
      "cell_type": "code",
      "execution_count": 59,
      "metadata": {},
      "outputs": [],
      "source": [
        "def get_items(data, user_id, item_name):\n",
        "    items_list = []\n",
        "    items = data.loc[(data['user_id']==user_id),'item_id'].values[0]\n",
        "\n",
        "    for item in items:\n",
        "        flag = x_train_t.loc[((x_train_t['user_id']==user_id) & (x_train_t['item_id']==item)),item_name].mean()\n",
        "        if np.round(flag):\n",
        "            items_list.append(item)\n",
        "    return items_list"
      ]
    },
    {
      "cell_type": "code",
      "execution_count": 60,
      "metadata": {},
      "outputs": [
        {
          "name": "stderr",
          "output_type": "stream",
          "text": [
            "100%|██████████| 2084/2084 [01:14<00:00, 28.04it/s]\n"
          ]
        }
      ],
      "source": [
        "item_name = 'predict'\n",
        "result_gr[item_name] = result_gr['user_id'].progress_apply(lambda x : get_items(result_gr, x, item_name) )"
      ]
    },
    {
      "cell_type": "code",
      "execution_count": 61,
      "metadata": {},
      "outputs": [
        {
          "name": "stderr",
          "output_type": "stream",
          "text": [
            "100%|██████████| 2084/2084 [01:17<00:00, 26.92it/s]\n"
          ]
        }
      ],
      "source": [
        "item_name = 'true'\n",
        "result_gr[item_name] = result_gr['user_id'].progress_apply(lambda x : get_items(result_gr, x, item_name) )"
      ]
    },
    {
      "cell_type": "code",
      "execution_count": 74,
      "metadata": {},
      "outputs": [
        {
          "data": {
            "text/html": [
              "<div>\n",
              "<style scoped>\n",
              "    .dataframe tbody tr th:only-of-type {\n",
              "        vertical-align: middle;\n",
              "    }\n",
              "\n",
              "    .dataframe tbody tr th {\n",
              "        vertical-align: top;\n",
              "    }\n",
              "\n",
              "    .dataframe thead th {\n",
              "        text-align: right;\n",
              "    }\n",
              "</style>\n",
              "<table border=\"1\" class=\"dataframe\">\n",
              "  <thead>\n",
              "    <tr style=\"text-align: right;\">\n",
              "      <th></th>\n",
              "      <th>user_id</th>\n",
              "      <th>item_id</th>\n",
              "      <th>predict</th>\n",
              "      <th>true</th>\n",
              "    </tr>\n",
              "  </thead>\n",
              "  <tbody>\n",
              "    <tr>\n",
              "      <th>0</th>\n",
              "      <td>1</td>\n",
              "      <td>[8293439, 9655212, 1082212, 898121, 820165, 55...</td>\n",
              "      <td>[8293439, 9655212, 1082212, 898121]</td>\n",
              "      <td>[8293439, 9655212, 1082212, 820165, 5577022, 9...</td>\n",
              "    </tr>\n",
              "    <tr>\n",
              "      <th>1</th>\n",
              "      <td>2</td>\n",
              "      <td>[900072, 898847, 838136, 1076580, 889511, 1108...</td>\n",
              "      <td>[]</td>\n",
              "      <td>[838136, 1082185, 852864, 899624, 885023, 1106...</td>\n",
              "    </tr>\n",
              "    <tr>\n",
              "      <th>2</th>\n",
              "      <td>4</td>\n",
              "      <td>[1082185, 1029743, 1106523, 1070820, 990797, 9...</td>\n",
              "      <td>[]</td>\n",
              "      <td>[962229]</td>\n",
              "    </tr>\n",
              "  </tbody>\n",
              "</table>\n",
              "</div>"
            ],
            "text/plain": [
              "   user_id                                            item_id  \\\n",
              "0        1  [8293439, 9655212, 1082212, 898121, 820165, 55...   \n",
              "1        2  [900072, 898847, 838136, 1076580, 889511, 1108...   \n",
              "2        4  [1082185, 1029743, 1106523, 1070820, 990797, 9...   \n",
              "\n",
              "                               predict  \\\n",
              "0  [8293439, 9655212, 1082212, 898121]   \n",
              "1                                   []   \n",
              "2                                   []   \n",
              "\n",
              "                                                true  \n",
              "0  [8293439, 9655212, 1082212, 820165, 5577022, 9...  \n",
              "1  [838136, 1082185, 852864, 899624, 885023, 1106...  \n",
              "2                                           [962229]  "
            ]
          },
          "execution_count": 74,
          "metadata": {},
          "output_type": "execute_result"
        }
      ],
      "source": [
        "result_gr.head(3)"
      ]
    },
    {
      "cell_type": "code",
      "execution_count": 72,
      "metadata": {},
      "outputs": [],
      "source": [
        "# x_train_t.loc[(x_train_t['user_id']==4)]"
      ]
    },
    {
      "cell_type": "code",
      "execution_count": null,
      "metadata": {},
      "outputs": [],
      "source": []
    },
    {
      "cell_type": "code",
      "execution_count": 63,
      "metadata": {},
      "outputs": [],
      "source": [
        "prd = result_gr.loc[0].predict"
      ]
    },
    {
      "cell_type": "code",
      "execution_count": 64,
      "metadata": {},
      "outputs": [
        {
          "data": {
            "text/plain": [
              "numpy.int64"
            ]
          },
          "execution_count": 64,
          "metadata": {},
          "output_type": "execute_result"
        }
      ],
      "source": [
        "type(prd[0])"
      ]
    },
    {
      "cell_type": "code",
      "execution_count": 56,
      "metadata": {},
      "outputs": [],
      "source": [
        "# prd = np.round(prd)[:5]"
      ]
    },
    {
      "cell_type": "code",
      "execution_count": 65,
      "metadata": {},
      "outputs": [],
      "source": [
        "tr = result_gr.loc[0].true"
      ]
    },
    {
      "cell_type": "code",
      "execution_count": 66,
      "metadata": {},
      "outputs": [
        {
          "data": {
            "text/plain": [
              "numpy.int64"
            ]
          },
          "execution_count": 66,
          "metadata": {},
          "output_type": "execute_result"
        }
      ],
      "source": [
        "type(tr[0])"
      ]
    },
    {
      "cell_type": "code",
      "execution_count": 67,
      "metadata": {},
      "outputs": [
        {
          "data": {
            "text/plain": [
              "0.75"
            ]
          },
          "execution_count": 67,
          "metadata": {},
          "output_type": "execute_result"
        }
      ],
      "source": [
        "def precision_at(recommended_list, bought_list, k=5):\n",
        "    \n",
        "    bought_list = np.array(bought_list)\n",
        "    recommended_list = np.array(recommended_list)\n",
        "    # print(len(bought_list))\n",
        "    # print(len(recommended_list))\n",
        "    bought_list = bought_list  # Тут нет [:k] !!\n",
        "    recommended_list = recommended_list[:k]\n",
        "    \n",
        "    flags = np.isin(bought_list, recommended_list)\n",
        "    # print(len(flags))\n",
        "    precision = flags.sum() / len(recommended_list)\n",
        "    \n",
        "    \n",
        "    return precision\n",
        "\n",
        "precision_at(prd,tr,5)"
      ]
    },
    {
      "cell_type": "code",
      "execution_count": null,
      "metadata": {},
      "outputs": [],
      "source": [
        "precisions=[]\n",
        "for res in tqdm(result_gr.iterrows()):\n",
        "    user_id = res[1]['user_id']\n",
        "    # item_ids = res[1]['item_id']\n",
        "    predict = get_items(result_gr, user_id, 'predict')\n",
        "    true = get_items(result_gr, user_id, 'true')\n",
        "    precisions.append(precision_at_k(predict,true,5))"
      ]
    },
    {
      "cell_type": "code",
      "execution_count": null,
      "metadata": {},
      "outputs": [],
      "source": [
        "np.mean(precisions)"
      ]
    },
    {
      "cell_type": "code",
      "execution_count": 45,
      "metadata": {},
      "outputs": [
        {
          "data": {
            "text/html": [
              "<div>\n",
              "<style scoped>\n",
              "    .dataframe tbody tr th:only-of-type {\n",
              "        vertical-align: middle;\n",
              "    }\n",
              "\n",
              "    .dataframe tbody tr th {\n",
              "        vertical-align: top;\n",
              "    }\n",
              "\n",
              "    .dataframe thead th {\n",
              "        text-align: right;\n",
              "    }\n",
              "</style>\n",
              "<table border=\"1\" class=\"dataframe\">\n",
              "  <thead>\n",
              "    <tr style=\"text-align: right;\">\n",
              "      <th></th>\n",
              "      <th>user_id</th>\n",
              "      <th>item_id</th>\n",
              "    </tr>\n",
              "  </thead>\n",
              "  <tbody>\n",
              "    <tr>\n",
              "      <th>0</th>\n",
              "      <td>1</td>\n",
              "      <td>[8293439, 9655212, 1082212, 898121, 820165, 55...</td>\n",
              "    </tr>\n",
              "    <tr>\n",
              "      <th>1</th>\n",
              "      <td>2</td>\n",
              "      <td>[900072, 898847, 838136, 1076580, 889511, 1108...</td>\n",
              "    </tr>\n",
              "  </tbody>\n",
              "</table>\n",
              "</div>"
            ],
            "text/plain": [
              "   user_id                                            item_id\n",
              "0        1  [8293439, 9655212, 1082212, 898121, 820165, 55...\n",
              "1        2  [900072, 898847, 838136, 1076580, 889511, 1108..."
            ]
          },
          "execution_count": 45,
          "metadata": {},
          "output_type": "execute_result"
        }
      ],
      "source": [
        "result_gr.head(2)"
      ]
    },
    {
      "cell_type": "code",
      "execution_count": 49,
      "metadata": {},
      "outputs": [
        {
          "name": "stderr",
          "output_type": "stream",
          "text": [
            "2084it [11:58,  2.90it/s]\n"
          ]
        }
      ],
      "source": [
        "precisions=[]\n",
        "for res in tqdm(result_gr.iterrows()):\n",
        "    user_id = res[1]['user_id']\n",
        "    item_ids = res[1]['item_id']\n",
        "    predict = get_items_1(item_ids, user_id, 'predict')\n",
        "    true = get_items_1(item_ids, user_id, 'true')\n",
        "    precisions.append(precision_at_k(predict,true,5))"
      ]
    },
    {
      "cell_type": "code",
      "execution_count": 53,
      "metadata": {},
      "outputs": [
        {
          "data": {
            "text/plain": [
              "0.0"
            ]
          },
          "execution_count": 53,
          "metadata": {},
          "output_type": "execute_result"
        }
      ],
      "source": [
        "precisions[0]"
      ]
    },
    {
      "cell_type": "code",
      "execution_count": 52,
      "metadata": {},
      "outputs": [
        {
          "data": {
            "text/plain": [
              "0.0"
            ]
          },
          "execution_count": 52,
          "metadata": {},
          "output_type": "execute_result"
        }
      ],
      "source": [
        "np.max(precisions)"
      ]
    },
    {
      "cell_type": "code",
      "execution_count": 50,
      "metadata": {},
      "outputs": [
        {
          "data": {
            "text/plain": [
              "0.0"
            ]
          },
          "execution_count": 50,
          "metadata": {},
          "output_type": "execute_result"
        }
      ],
      "source": [
        "np.mean(precisions)"
      ]
    },
    {
      "cell_type": "code",
      "execution_count": 160,
      "metadata": {},
      "outputs": [],
      "source": [
        "result_1 = pd.merge(result['item_id'].unique().reset_index(), result['predict'].unique().reset_index(),on=['user_id'], how='right')"
      ]
    },
    {
      "cell_type": "code",
      "execution_count": 161,
      "metadata": {},
      "outputs": [],
      "source": [
        "result_1 = pd.merge(result_1, result['true'].unique().reset_index(),on=['user_id'], how='right')"
      ]
    },
    {
      "cell_type": "code",
      "execution_count": 162,
      "metadata": {},
      "outputs": [
        {
          "data": {
            "text/html": [
              "<div>\n",
              "<style scoped>\n",
              "    .dataframe tbody tr th:only-of-type {\n",
              "        vertical-align: middle;\n",
              "    }\n",
              "\n",
              "    .dataframe tbody tr th {\n",
              "        vertical-align: top;\n",
              "    }\n",
              "\n",
              "    .dataframe thead th {\n",
              "        text-align: right;\n",
              "    }\n",
              "</style>\n",
              "<table border=\"1\" class=\"dataframe\">\n",
              "  <thead>\n",
              "    <tr style=\"text-align: right;\">\n",
              "      <th></th>\n",
              "      <th>user_id</th>\n",
              "      <th>item_id</th>\n",
              "      <th>predict</th>\n",
              "      <th>true</th>\n",
              "    </tr>\n",
              "  </thead>\n",
              "  <tbody>\n",
              "    <tr>\n",
              "      <th>0</th>\n",
              "      <td>1</td>\n",
              "      <td>[8293439, 9655212, 1082212, 898121, 820165, 55...</td>\n",
              "      <td>[0.6573410376173984, 0.6521116432110966, 0.578...</td>\n",
              "      <td>[1.0, 0.0]</td>\n",
              "    </tr>\n",
              "    <tr>\n",
              "      <th>1</th>\n",
              "      <td>2</td>\n",
              "      <td>[900072, 898847, 838136, 1076580, 889511, 1108...</td>\n",
              "      <td>[0.35601292776761434, 0.3543842798650611, 0.35...</td>\n",
              "      <td>[0.0, 1.0]</td>\n",
              "    </tr>\n",
              "    <tr>\n",
              "      <th>2</th>\n",
              "      <td>4</td>\n",
              "      <td>[1082185, 1029743, 1106523, 1070820, 990797, 9...</td>\n",
              "      <td>[0.2618123369403981, 0.19313170039609787, 0.18...</td>\n",
              "      <td>[0.0, 1.0]</td>\n",
              "    </tr>\n",
              "    <tr>\n",
              "      <th>3</th>\n",
              "      <td>6</td>\n",
              "      <td>[1119051, 1063207, 825541, 5580166, 900802, 87...</td>\n",
              "      <td>[0.42796986558845873, 0.3271599329425697, 0.30...</td>\n",
              "      <td>[1.0, 0.0]</td>\n",
              "    </tr>\n",
              "    <tr>\n",
              "      <th>4</th>\n",
              "      <td>7</td>\n",
              "      <td>[1110039, 849505, 9420337, 1093571, 1135044, 8...</td>\n",
              "      <td>[0.4999662141176107, 0.4504884497726511, 0.442...</td>\n",
              "      <td>[0.0, 1.0]</td>\n",
              "    </tr>\n",
              "    <tr>\n",
              "      <th>...</th>\n",
              "      <td>...</td>\n",
              "      <td>...</td>\n",
              "      <td>...</td>\n",
              "      <td>...</td>\n",
              "    </tr>\n",
              "    <tr>\n",
              "      <th>2079</th>\n",
              "      <td>2496</td>\n",
              "      <td>[1020729, 831509, 1014915, 992870, 926465, 102...</td>\n",
              "      <td>[0.6953721210742708, 0.43947926505727386, 0.39...</td>\n",
              "      <td>[0.0, 1.0]</td>\n",
              "    </tr>\n",
              "    <tr>\n",
              "      <th>2080</th>\n",
              "      <td>2497</td>\n",
              "      <td>[1135834, 834484, 6979005, 883202, 1019247, 82...</td>\n",
              "      <td>[0.5505758762685677, 0.4270014996082897, 0.422...</td>\n",
              "      <td>[1.0, 0.0]</td>\n",
              "    </tr>\n",
              "    <tr>\n",
              "      <th>2081</th>\n",
              "      <td>2498</td>\n",
              "      <td>[905436, 5577022, 1076580, 897752, 1028473, 10...</td>\n",
              "      <td>[0.46037776854002, 0.42352729317576415, 0.4010...</td>\n",
              "      <td>[0.0, 1.0]</td>\n",
              "    </tr>\n",
              "    <tr>\n",
              "      <th>2082</th>\n",
              "      <td>2499</td>\n",
              "      <td>[901403, 910745, 844441, 1132280, 9575582, 833...</td>\n",
              "      <td>[0.5327829788125864, 0.2884202426738945, 0.274...</td>\n",
              "      <td>[1.0, 0.0]</td>\n",
              "    </tr>\n",
              "    <tr>\n",
              "      <th>2083</th>\n",
              "      <td>2500</td>\n",
              "      <td>[7409970, 993617, 1090017, 1088393, 831536, 82...</td>\n",
              "      <td>[0.4054481654810208, 0.3766481576792912, 0.339...</td>\n",
              "      <td>[0.0, 1.0]</td>\n",
              "    </tr>\n",
              "  </tbody>\n",
              "</table>\n",
              "<p>2084 rows × 4 columns</p>\n",
              "</div>"
            ],
            "text/plain": [
              "      user_id                                            item_id  \\\n",
              "0           1  [8293439, 9655212, 1082212, 898121, 820165, 55...   \n",
              "1           2  [900072, 898847, 838136, 1076580, 889511, 1108...   \n",
              "2           4  [1082185, 1029743, 1106523, 1070820, 990797, 9...   \n",
              "3           6  [1119051, 1063207, 825541, 5580166, 900802, 87...   \n",
              "4           7  [1110039, 849505, 9420337, 1093571, 1135044, 8...   \n",
              "...       ...                                                ...   \n",
              "2079     2496  [1020729, 831509, 1014915, 992870, 926465, 102...   \n",
              "2080     2497  [1135834, 834484, 6979005, 883202, 1019247, 82...   \n",
              "2081     2498  [905436, 5577022, 1076580, 897752, 1028473, 10...   \n",
              "2082     2499  [901403, 910745, 844441, 1132280, 9575582, 833...   \n",
              "2083     2500  [7409970, 993617, 1090017, 1088393, 831536, 82...   \n",
              "\n",
              "                                                predict        true  \n",
              "0     [0.6573410376173984, 0.6521116432110966, 0.578...  [1.0, 0.0]  \n",
              "1     [0.35601292776761434, 0.3543842798650611, 0.35...  [0.0, 1.0]  \n",
              "2     [0.2618123369403981, 0.19313170039609787, 0.18...  [0.0, 1.0]  \n",
              "3     [0.42796986558845873, 0.3271599329425697, 0.30...  [1.0, 0.0]  \n",
              "4     [0.4999662141176107, 0.4504884497726511, 0.442...  [0.0, 1.0]  \n",
              "...                                                 ...         ...  \n",
              "2079  [0.6953721210742708, 0.43947926505727386, 0.39...  [0.0, 1.0]  \n",
              "2080  [0.5505758762685677, 0.4270014996082897, 0.422...  [1.0, 0.0]  \n",
              "2081  [0.46037776854002, 0.42352729317576415, 0.4010...  [0.0, 1.0]  \n",
              "2082  [0.5327829788125864, 0.2884202426738945, 0.274...  [1.0, 0.0]  \n",
              "2083  [0.4054481654810208, 0.3766481576792912, 0.339...  [0.0, 1.0]  \n",
              "\n",
              "[2084 rows x 4 columns]"
            ]
          },
          "execution_count": 162,
          "metadata": {},
          "output_type": "execute_result"
        }
      ],
      "source": []
    },
    {
      "cell_type": "code",
      "execution_count": null,
      "metadata": {},
      "outputs": [],
      "source": [
        "result.columns=['user_id', 'actual']\n",
        "result.head(2)"
      ]
    },
    {
      "cell_type": "code",
      "execution_count": 77,
      "metadata": {},
      "outputs": [
        {
          "ename": "TypeError",
          "evalue": "'NoneType' object is not subscriptable",
          "output_type": "error",
          "traceback": [
            "\u001b[1;31m---------------------------------------------------------------------------\u001b[0m",
            "\u001b[1;31mTypeError\u001b[0m                                 Traceback (most recent call last)",
            "\u001b[1;32m~\\AppData\\Local\\Temp/ipykernel_16452/956405607.py\u001b[0m in \u001b[0;36m<module>\u001b[1;34m\u001b[0m\n\u001b[1;32m----> 1\u001b[1;33m \u001b[0mx_train_t\u001b[0m\u001b[1;33m[\u001b[0m\u001b[1;34m'item_id'\u001b[0m\u001b[1;33m]\u001b[0m\u001b[1;33m.\u001b[0m\u001b[0munique\u001b[0m\u001b[1;33m(\u001b[0m\u001b[1;33m)\u001b[0m\u001b[1;33m\u001b[0m\u001b[1;33m\u001b[0m\u001b[0m\n\u001b[0m",
            "\u001b[1;31mTypeError\u001b[0m: 'NoneType' object is not subscriptable"
          ]
        }
      ],
      "source": [
        "x_train_t['item_id'].unique() # actual нужно брать из этого списка!!!"
      ]
    },
    {
      "cell_type": "code",
      "execution_count": null,
      "metadata": {},
      "outputs": [],
      "source": [
        "# Топ покупок по всему датасету\n",
        "self.overall_top_purchases = data.groupby('item_id')['quantity'].count().reset_index()\n",
        "self.overall_top_purchases.sort_values('quantity', ascending=False, inplace=True)"
      ]
    },
    {
      "cell_type": "code",
      "execution_count": null,
      "metadata": {},
      "outputs": [],
      "source": [
        "# отсортируем товары по по популярности. "
      ]
    },
    {
      "cell_type": "code",
      "execution_count": 69,
      "metadata": {},
      "outputs": [
        {
          "data": {
            "text/html": [
              "<div>\n",
              "<style scoped>\n",
              "    .dataframe tbody tr th:only-of-type {\n",
              "        vertical-align: middle;\n",
              "    }\n",
              "\n",
              "    .dataframe tbody tr th {\n",
              "        vertical-align: top;\n",
              "    }\n",
              "\n",
              "    .dataframe thead th {\n",
              "        text-align: right;\n",
              "    }\n",
              "</style>\n",
              "<table border=\"1\" class=\"dataframe\">\n",
              "  <thead>\n",
              "    <tr style=\"text-align: right;\">\n",
              "      <th></th>\n",
              "      <th>user_id</th>\n",
              "      <th>item_id</th>\n",
              "      <th>manufacturer</th>\n",
              "      <th>department</th>\n",
              "      <th>brand</th>\n",
              "      <th>commodity_desc</th>\n",
              "      <th>sub_commodity_desc</th>\n",
              "      <th>curr_size_of_product</th>\n",
              "      <th>age_desc</th>\n",
              "      <th>marital_status_code</th>\n",
              "      <th>income_desc</th>\n",
              "      <th>homeowner_desc</th>\n",
              "      <th>hh_comp_desc</th>\n",
              "      <th>household_size_desc</th>\n",
              "      <th>kid_category_desc</th>\n",
              "      <th>predict</th>\n",
              "    </tr>\n",
              "  </thead>\n",
              "  <tbody>\n",
              "    <tr>\n",
              "      <th>0</th>\n",
              "      <td>2070</td>\n",
              "      <td>834103</td>\n",
              "      <td>2224</td>\n",
              "      <td>GROCERY</td>\n",
              "      <td>National</td>\n",
              "      <td>SOFT DRINKS</td>\n",
              "      <td>SFT DRNK SNGL SRV BTL CARB (EX</td>\n",
              "      <td>20 OZ</td>\n",
              "      <td>45-54</td>\n",
              "      <td>U</td>\n",
              "      <td>50-74K</td>\n",
              "      <td>Unknown</td>\n",
              "      <td>Unknown</td>\n",
              "      <td>1</td>\n",
              "      <td>None/Unknown</td>\n",
              "      <td>0.709522</td>\n",
              "    </tr>\n",
              "    <tr>\n",
              "      <th>1</th>\n",
              "      <td>2070</td>\n",
              "      <td>834103</td>\n",
              "      <td>2224</td>\n",
              "      <td>GROCERY</td>\n",
              "      <td>National</td>\n",
              "      <td>SOFT DRINKS</td>\n",
              "      <td>SFT DRNK SNGL SRV BTL CARB (EX</td>\n",
              "      <td>20 OZ</td>\n",
              "      <td>45-54</td>\n",
              "      <td>U</td>\n",
              "      <td>50-74K</td>\n",
              "      <td>Unknown</td>\n",
              "      <td>Unknown</td>\n",
              "      <td>1</td>\n",
              "      <td>None/Unknown</td>\n",
              "      <td>0.709522</td>\n",
              "    </tr>\n",
              "    <tr>\n",
              "      <th>2</th>\n",
              "      <td>2070</td>\n",
              "      <td>834103</td>\n",
              "      <td>2224</td>\n",
              "      <td>GROCERY</td>\n",
              "      <td>National</td>\n",
              "      <td>SOFT DRINKS</td>\n",
              "      <td>SFT DRNK SNGL SRV BTL CARB (EX</td>\n",
              "      <td>20 OZ</td>\n",
              "      <td>45-54</td>\n",
              "      <td>U</td>\n",
              "      <td>50-74K</td>\n",
              "      <td>Unknown</td>\n",
              "      <td>Unknown</td>\n",
              "      <td>1</td>\n",
              "      <td>None/Unknown</td>\n",
              "      <td>0.709522</td>\n",
              "    </tr>\n",
              "    <tr>\n",
              "      <th>3</th>\n",
              "      <td>2070</td>\n",
              "      <td>834103</td>\n",
              "      <td>2224</td>\n",
              "      <td>GROCERY</td>\n",
              "      <td>National</td>\n",
              "      <td>SOFT DRINKS</td>\n",
              "      <td>SFT DRNK SNGL SRV BTL CARB (EX</td>\n",
              "      <td>20 OZ</td>\n",
              "      <td>45-54</td>\n",
              "      <td>U</td>\n",
              "      <td>50-74K</td>\n",
              "      <td>Unknown</td>\n",
              "      <td>Unknown</td>\n",
              "      <td>1</td>\n",
              "      <td>None/Unknown</td>\n",
              "      <td>0.709522</td>\n",
              "    </tr>\n",
              "    <tr>\n",
              "      <th>4</th>\n",
              "      <td>2070</td>\n",
              "      <td>834103</td>\n",
              "      <td>2224</td>\n",
              "      <td>GROCERY</td>\n",
              "      <td>National</td>\n",
              "      <td>SOFT DRINKS</td>\n",
              "      <td>SFT DRNK SNGL SRV BTL CARB (EX</td>\n",
              "      <td>20 OZ</td>\n",
              "      <td>45-54</td>\n",
              "      <td>U</td>\n",
              "      <td>50-74K</td>\n",
              "      <td>Unknown</td>\n",
              "      <td>Unknown</td>\n",
              "      <td>1</td>\n",
              "      <td>None/Unknown</td>\n",
              "      <td>0.709522</td>\n",
              "    </tr>\n",
              "    <tr>\n",
              "      <th>...</th>\n",
              "      <td>...</td>\n",
              "      <td>...</td>\n",
              "      <td>...</td>\n",
              "      <td>...</td>\n",
              "      <td>...</td>\n",
              "      <td>...</td>\n",
              "      <td>...</td>\n",
              "      <td>...</td>\n",
              "      <td>...</td>\n",
              "      <td>...</td>\n",
              "      <td>...</td>\n",
              "      <td>...</td>\n",
              "      <td>...</td>\n",
              "      <td>...</td>\n",
              "      <td>...</td>\n",
              "      <td>...</td>\n",
              "    </tr>\n",
              "    <tr>\n",
              "      <th>111377</th>\n",
              "      <td>1745</td>\n",
              "      <td>1082185</td>\n",
              "      <td>2</td>\n",
              "      <td>PRODUCE</td>\n",
              "      <td>National</td>\n",
              "      <td>TROPICAL FRUIT</td>\n",
              "      <td>BANANAS</td>\n",
              "      <td>40 LB</td>\n",
              "      <td>45-54</td>\n",
              "      <td>A</td>\n",
              "      <td>Under 15K</td>\n",
              "      <td>Unknown</td>\n",
              "      <td>Single Male</td>\n",
              "      <td>2</td>\n",
              "      <td>None/Unknown</td>\n",
              "      <td>0.386055</td>\n",
              "    </tr>\n",
              "    <tr>\n",
              "      <th>111378</th>\n",
              "      <td>1745</td>\n",
              "      <td>1106523</td>\n",
              "      <td>69</td>\n",
              "      <td>GROCERY</td>\n",
              "      <td>Private</td>\n",
              "      <td>FLUID MILK PRODUCTS</td>\n",
              "      <td>FLUID MILK WHITE ONLY</td>\n",
              "      <td>1 GA</td>\n",
              "      <td>45-54</td>\n",
              "      <td>A</td>\n",
              "      <td>Under 15K</td>\n",
              "      <td>Unknown</td>\n",
              "      <td>Single Male</td>\n",
              "      <td>2</td>\n",
              "      <td>None/Unknown</td>\n",
              "      <td>0.328104</td>\n",
              "    </tr>\n",
              "    <tr>\n",
              "      <th>111379</th>\n",
              "      <td>1745</td>\n",
              "      <td>1133018</td>\n",
              "      <td>69</td>\n",
              "      <td>GROCERY</td>\n",
              "      <td>Private</td>\n",
              "      <td>FLUID MILK PRODUCTS</td>\n",
              "      <td>FLUID MILK WHITE ONLY</td>\n",
              "      <td></td>\n",
              "      <td>45-54</td>\n",
              "      <td>A</td>\n",
              "      <td>Under 15K</td>\n",
              "      <td>Unknown</td>\n",
              "      <td>Single Male</td>\n",
              "      <td>2</td>\n",
              "      <td>None/Unknown</td>\n",
              "      <td>0.204525</td>\n",
              "    </tr>\n",
              "    <tr>\n",
              "      <th>111380</th>\n",
              "      <td>1745</td>\n",
              "      <td>981760</td>\n",
              "      <td>69</td>\n",
              "      <td>GROCERY</td>\n",
              "      <td>Private</td>\n",
              "      <td>EGGS</td>\n",
              "      <td>EGGS - X-LARGE</td>\n",
              "      <td>1 DZ</td>\n",
              "      <td>45-54</td>\n",
              "      <td>A</td>\n",
              "      <td>Under 15K</td>\n",
              "      <td>Unknown</td>\n",
              "      <td>Single Male</td>\n",
              "      <td>2</td>\n",
              "      <td>None/Unknown</td>\n",
              "      <td>0.237440</td>\n",
              "    </tr>\n",
              "    <tr>\n",
              "      <th>111381</th>\n",
              "      <td>1745</td>\n",
              "      <td>923746</td>\n",
              "      <td>69</td>\n",
              "      <td>GROCERY</td>\n",
              "      <td>Private</td>\n",
              "      <td>EGGS</td>\n",
              "      <td>EGGS - LARGE</td>\n",
              "      <td>18 CT</td>\n",
              "      <td>45-54</td>\n",
              "      <td>A</td>\n",
              "      <td>Under 15K</td>\n",
              "      <td>Unknown</td>\n",
              "      <td>Single Male</td>\n",
              "      <td>2</td>\n",
              "      <td>None/Unknown</td>\n",
              "      <td>0.193331</td>\n",
              "    </tr>\n",
              "  </tbody>\n",
              "</table>\n",
              "<p>111382 rows × 16 columns</p>\n",
              "</div>"
            ],
            "text/plain": [
              "        user_id  item_id manufacturer department     brand  \\\n",
              "0          2070   834103         2224    GROCERY  National   \n",
              "1          2070   834103         2224    GROCERY  National   \n",
              "2          2070   834103         2224    GROCERY  National   \n",
              "3          2070   834103         2224    GROCERY  National   \n",
              "4          2070   834103         2224    GROCERY  National   \n",
              "...         ...      ...          ...        ...       ...   \n",
              "111377     1745  1082185            2    PRODUCE  National   \n",
              "111378     1745  1106523           69    GROCERY   Private   \n",
              "111379     1745  1133018           69    GROCERY   Private   \n",
              "111380     1745   981760           69    GROCERY   Private   \n",
              "111381     1745   923746           69    GROCERY   Private   \n",
              "\n",
              "             commodity_desc              sub_commodity_desc  \\\n",
              "0               SOFT DRINKS  SFT DRNK SNGL SRV BTL CARB (EX   \n",
              "1               SOFT DRINKS  SFT DRNK SNGL SRV BTL CARB (EX   \n",
              "2               SOFT DRINKS  SFT DRNK SNGL SRV BTL CARB (EX   \n",
              "3               SOFT DRINKS  SFT DRNK SNGL SRV BTL CARB (EX   \n",
              "4               SOFT DRINKS  SFT DRNK SNGL SRV BTL CARB (EX   \n",
              "...                     ...                             ...   \n",
              "111377       TROPICAL FRUIT                         BANANAS   \n",
              "111378  FLUID MILK PRODUCTS           FLUID MILK WHITE ONLY   \n",
              "111379  FLUID MILK PRODUCTS           FLUID MILK WHITE ONLY   \n",
              "111380                 EGGS                  EGGS - X-LARGE   \n",
              "111381                 EGGS                    EGGS - LARGE   \n",
              "\n",
              "       curr_size_of_product age_desc marital_status_code income_desc  \\\n",
              "0                     20 OZ    45-54                   U      50-74K   \n",
              "1                     20 OZ    45-54                   U      50-74K   \n",
              "2                     20 OZ    45-54                   U      50-74K   \n",
              "3                     20 OZ    45-54                   U      50-74K   \n",
              "4                     20 OZ    45-54                   U      50-74K   \n",
              "...                     ...      ...                 ...         ...   \n",
              "111377                40 LB    45-54                   A   Under 15K   \n",
              "111378                 1 GA    45-54                   A   Under 15K   \n",
              "111379                         45-54                   A   Under 15K   \n",
              "111380                 1 DZ    45-54                   A   Under 15K   \n",
              "111381                18 CT    45-54                   A   Under 15K   \n",
              "\n",
              "       homeowner_desc hh_comp_desc household_size_desc kid_category_desc  \\\n",
              "0             Unknown      Unknown                   1      None/Unknown   \n",
              "1             Unknown      Unknown                   1      None/Unknown   \n",
              "2             Unknown      Unknown                   1      None/Unknown   \n",
              "3             Unknown      Unknown                   1      None/Unknown   \n",
              "4             Unknown      Unknown                   1      None/Unknown   \n",
              "...               ...          ...                 ...               ...   \n",
              "111377        Unknown  Single Male                   2      None/Unknown   \n",
              "111378        Unknown  Single Male                   2      None/Unknown   \n",
              "111379        Unknown  Single Male                   2      None/Unknown   \n",
              "111380        Unknown  Single Male                   2      None/Unknown   \n",
              "111381        Unknown  Single Male                   2      None/Unknown   \n",
              "\n",
              "         predict  \n",
              "0       0.709522  \n",
              "1       0.709522  \n",
              "2       0.709522  \n",
              "3       0.709522  \n",
              "4       0.709522  \n",
              "...          ...  \n",
              "111377  0.386055  \n",
              "111378  0.328104  \n",
              "111379  0.204525  \n",
              "111380  0.237440  \n",
              "111381  0.193331  \n",
              "\n",
              "[111382 rows x 16 columns]"
            ]
          },
          "execution_count": 69,
          "metadata": {},
          "output_type": "execute_result"
        }
      ],
      "source": [
        "x_train_t"
      ]
    },
    {
      "cell_type": "code",
      "execution_count": 57,
      "metadata": {},
      "outputs": [],
      "source": [
        "test_preds = lgb.predict(X_test)"
      ]
    },
    {
      "cell_type": "code",
      "execution_count": 59,
      "metadata": {},
      "outputs": [
        {
          "data": {
            "text/plain": [
              "17262.0"
            ]
          },
          "execution_count": 59,
          "metadata": {},
          "output_type": "execute_result"
        }
      ],
      "source": [
        "precision_at_k(test_preds, y_test, k=5)"
      ]
    },
    {
      "cell_type": "code",
      "execution_count": null,
      "metadata": {},
      "outputs": [
        {
          "data": {
            "text/plain": [
              "0.1782244886965578"
            ]
          },
          "execution_count": 124,
          "metadata": {},
          "output_type": "execute_result"
        }
      ],
      "source": [
        "recall_at_k(train_preds, y_train, k=5)"
      ]
    },
    {
      "cell_type": "code",
      "execution_count": null,
      "metadata": {},
      "outputs": [],
      "source": [
        "# x_test"
      ]
    },
    {
      "cell_type": "code",
      "execution_count": null,
      "metadata": {},
      "outputs": [],
      "source": [
        "# y_test"
      ]
    },
    {
      "cell_type": "code",
      "execution_count": null,
      "metadata": {},
      "outputs": [],
      "source": [
        "def perpare_lvl2(data,N=50):\n",
        "    users_lvl_2 = pd.DataFrame(data['user_id'].unique())\n",
        "    users_lvl_2.columns = ['user_id']\n",
        "\n",
        "    # Пока только warm start\n",
        "    users_lvl_2 = users_lvl_2[users_lvl_2['user_id'].isin(data_train_lvl_1['user_id'].unique())]\n",
        "\n",
        "    # Заполняем кандидатов, на основе предсказания модели 1-го уровня.\n",
        "    users_lvl_2['candidates'] = users_lvl_2['user_id'].apply(lambda x: recommender.get_own_recommendations(x, N=N))\n",
        "    \n",
        "    # test_users = data\n",
        "    s = users_lvl_2.apply(lambda x: pd.Series(x['candidates']), axis=1).stack().reset_index(level=1, drop=True)\n",
        "    s.name = 'item_id'\n",
        "\n",
        "    # Это кандидаты. (т.е. предпологаемые покупки совершенные на основе предсказаний.)\n",
        "    users_lvl_2 = users_lvl_2.drop('candidates', axis=1).join(s)\n",
        "    users_lvl_2['drop'] = 1  # фиктивная переменная\n",
        "\n",
        "    # Создадим таблицу с реальными покупками user-ов. \n",
        "    targets_lvl_2 = data_train_lvl_2[['user_id', 'item_id']].copy()\n",
        "    targets_lvl_2['target'] = 1  # тут только покупки \n",
        "\n",
        "    # Объединим предпологаемые покупки с реальными, совершенными user-ами.\n",
        "    targets_lvl_2 = users_lvl_2.merge(targets_lvl_2, on=['user_id', 'item_id'], how='left')\n",
        "\n",
        "    # В результате, напротив товаров, в редсказании которых мы ошиблись, \n",
        "    # будет стоять Nan. Заполним их  нулями.  \n",
        "    targets_lvl_2['target'].fillna(0, inplace= True)\n",
        "    targets_lvl_2.drop('drop', axis=1, inplace=True)\n",
        "    targets_lvl_2['target'].mean() #Угадали примерно 17% покупок.\n",
        "\n",
        "    # Добавим к нашему датасету фичи user-ов и item-ов.\n",
        "    targets_lvl_2 = targets_lvl_2.merge(item_features, on='item_id', how='left')\n",
        "    targets_lvl_2 = targets_lvl_2.merge(user_features, on='user_id', how='left')\n",
        "\n",
        "    X_ = targets_lvl_2.drop('target', axis=1)\n",
        "    y_ = targets_lvl_2[['target']]\n",
        "    \n",
        "    return X_, y_ "
      ]
    },
    {
      "cell_type": "code",
      "execution_count": null,
      "metadata": {},
      "outputs": [],
      "source": []
    },
    {
      "cell_type": "code",
      "execution_count": null,
      "metadata": {},
      "outputs": [],
      "source": [
        "result_lvl_1 = data_val_lvl_1.groupby('user_id')['item_id'].unique().reset_index()\n",
        "result_lvl_1.columns=['user_id', 'actual']\n",
        "\n",
        "result_lvl_1.head(2)\n",
        "\n",
        "result_lvl_1 = result_lvl_1[result_lvl_1['user_id'].isin(data_train_lvl_1['user_id'].unique())]\n",
        "result_lvl_1['user_id'].count()\n",
        "\n",
        "top_purchases = data.groupby(['user_id', 'item_id'])['quantity'].count().reset_index()\n",
        "top_purchases.sort_values('quantity', ascending=False, inplace=True)\n",
        "top_purchases = top_purchases[top_purchases['item_id'] != 999999]\n",
        "\n",
        "N=50\n",
        "result_lvl_1['similar_items_recomender'] = result_lvl_1['user_id'].apply(lambda x: recommender.get_similar_items_recommendation(x, N=N))\n",
        "\n",
        "result_lvl_1['als_recmender'] = result_lvl_1['user_id'].apply(lambda x: recommender.get_als_recommendations(x, N=N))\n",
        "\n",
        "result_lvl_1['own_recomender'] = result_lvl_1['user_id'].apply(lambda x: recommender.get_own_recommendations(x, N=N))\n",
        "\n",
        "# Дополняем недостающие товары популярными.\n",
        "is_extend_with_top_popular=True\n",
        "result_lvl_1['own_recomender_extend'] = result_lvl_1['user_id'].apply(lambda x: recommender.get_own_recommendations(x, N=N, extend_with_top_popular=is_extend_with_top_popular))\n",
        "\n",
        "N=50\n",
        "precision_dic = {'method':[], 'precission':[] }\n",
        "\n",
        "column_names = ['similar_items_recomender',\n",
        "                'als_recmender',\n",
        "                'own_recomender',\n",
        "                'own_recomender_extend'\n",
        "]\n",
        "for column_name in column_names:\n",
        "    precision_dic['method'].append(column_name)\n",
        "    precision_dic['precission'].append(result_lvl_1.apply(lambda x: precision_at_k(x[column_name], x['actual'],  N), axis=1).mean()) \n",
        "\n",
        "pd.DataFrame(precision_dic)"
      ]
    },
    {
      "cell_type": "code",
      "execution_count": null,
      "metadata": {},
      "outputs": [],
      "source": []
    },
    {
      "cell_type": "code",
      "execution_count": null,
      "metadata": {},
      "outputs": [],
      "source": []
    },
    {
      "cell_type": "code",
      "execution_count": null,
      "metadata": {},
      "outputs": [],
      "source": []
    },
    {
      "cell_type": "code",
      "execution_count": null,
      "metadata": {},
      "outputs": [],
      "source": []
    },
    {
      "cell_type": "code",
      "execution_count": null,
      "metadata": {},
      "outputs": [],
      "source": []
    },
    {
      "cell_type": "code",
      "execution_count": null,
      "metadata": {},
      "outputs": [],
      "source": []
    },
    {
      "cell_type": "code",
      "execution_count": null,
      "metadata": {},
      "outputs": [],
      "source": []
    },
    {
      "cell_type": "markdown",
      "metadata": {
        "id": "9FLlIq15C4Ju"
      },
      "source": [
        "### Финальный проект\n",
        "\n",
        "Мы уже прошли всю необходимуб теорию для финального проекта. Проект осуществляется на данных из вебинара (данные считаны в начале ДЗ).\n",
        "Рекомендуем вам **начать делать проект сразу после этого домашнего задания**\n",
        "- Целевая метрика - precision@5. Порог для уcпешной сдачи проекта precision@5 > 25%\n",
        "- Будет public тестовый датасет, на котором вы сможете измерять метрику\n",
        "- Также будет private тестовый датасет для измерения финального качества\n",
        "- НЕ обязательно, но крайне желательно использовать 2-ух уровневые рекоммендательные системы в проекте\n",
        "- Вы сдаете код проекта в виде github репозитория и csv файл с рекомендациями "
      ]
    }
  ],
  "metadata": {
    "colab": {
      "name": "hw_webinar_6.ipynb",
      "provenance": []
    },
    "kernelspec": {
      "display_name": "Python 3",
      "language": "python",
      "name": "python3"
    },
    "language_info": {
      "codemirror_mode": {
        "name": "ipython",
        "version": 3
      },
      "file_extension": ".py",
      "mimetype": "text/x-python",
      "name": "python",
      "nbconvert_exporter": "python",
      "pygments_lexer": "ipython3",
      "version": "3.8.8"
    }
  },
  "nbformat": 4,
  "nbformat_minor": 0
}
