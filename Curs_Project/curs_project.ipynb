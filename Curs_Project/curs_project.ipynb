{
 "cells": [
  {
   "cell_type": "markdown",
   "metadata": {},
   "source": [
    "### Финальный проект\n",
    "\n",
    "Мы уже прошли всю необходимуб теорию для финального проекта. Проект осуществляется на данных из вебинара (данные считаны в начале ДЗ).\n",
    "Рекомендуем вам **начать делать проект сразу после этого домашнего задания**  \n",
    "- Целевая метрика - precision@5. Порог для уcпешной сдачи проекта precision@5 > 25%  \n",
    "- Будет public тестовый датасет, на котором вы сможете измерять метрику  \n",
    "- Также будет private тестовый датасет для измерения финального качества  \n",
    "- НЕ обязательно, но крайне желательно использовать 2-ух уровневые рекоммендательные системы в проекте  \n",
    "- Вы сдаете код проекта в виде github репозитория и csv файл с рекомендациями    "
   ]
  },
  {
   "cell_type": "code",
   "execution_count": null,
   "metadata": {},
   "outputs": [],
   "source": [
    "отбор кандидатов. \n",
    "15- из собственных товаровб\n",
    "30 - и списка наиболее популярных \n",
    "то 50  товаров из mainrecomender getalsrecomendadions.\n",
    "\n",
    "\n",
    "фитчи на основе со встречаемости товаров. \n",
    "с этим товаро покупают.\n",
    "--> lightGBM ранжирует товары. и выбирает из них топ 30\n",
    "\n",
    "--> к полученному набору применим постфильтрацию."
   ]
  },
  {
   "cell_type": "code",
   "execution_count": null,
   "metadata": {},
   "outputs": [],
   "source": []
  },
  {
   "cell_type": "code",
   "execution_count": null,
   "metadata": {},
   "outputs": [],
   "source": []
  },
  {
   "cell_type": "code",
   "execution_count": null,
   "metadata": {},
   "outputs": [],
   "source": []
  },
  {
   "cell_type": "code",
   "execution_count": null,
   "metadata": {},
   "outputs": [],
   "source": []
  },
  {
   "cell_type": "code",
   "execution_count": null,
   "metadata": {},
   "outputs": [],
   "source": []
  },
  {
   "cell_type": "code",
   "execution_count": null,
   "metadata": {},
   "outputs": [],
   "source": []
  },
  {
   "cell_type": "code",
   "execution_count": null,
   "metadata": {},
   "outputs": [],
   "source": []
  },
  {
   "cell_type": "code",
   "execution_count": null,
   "metadata": {},
   "outputs": [],
   "source": []
  },
  {
   "cell_type": "code",
   "execution_count": null,
   "metadata": {},
   "outputs": [],
   "source": []
  }
 ],
 "metadata": {
  "interpreter": {
   "hash": "a43afb489997e0a19a47ce03219798dc34f8d5499092b2002724a307160e9b5a"
  },
  "kernelspec": {
   "display_name": "Python 3.8.11 64-bit ('flask_env': conda)",
   "language": "python",
   "name": "python3"
  },
  "language_info": {
   "name": "python",
   "version": "3.8.0"
  },
  "orig_nbformat": 4
 },
 "nbformat": 4,
 "nbformat_minor": 2
}
