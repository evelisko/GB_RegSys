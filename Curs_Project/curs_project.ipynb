{
  "cells": [
    {
      "cell_type": "markdown",
      "metadata": {
        "id": "nMBdGcvjC4Ji"
      },
      "source": [
        "### Финальный проект\n",
        "\n",
        "Мы уже прошли всю необходимуб теорию для финального проекта. Проект осуществляется на данных из вебинара (данные считаны в начале ДЗ).\n",
        "Рекомендуем вам **начать делать проект сразу после этого домашнего задания**  \n",
        "- Целевая метрика - precision@5. Порог для уcпешной сдачи проекта precision@5 > 25%  \n",
        "- Будет public тестовый датасет, на котором вы сможете измерять метрику  \n",
        "- Также будет private тестовый датасет для измерения финального качества  \n",
        "- НЕ обязательно, но крайне желательно использовать 2-ух уровневые рекоммендательные системы в проекте  \n",
        "- Вы сдаете код проекта в виде github репозитория и csv файл с рекомендациями    \n"
      ]
    },
    {
      "cell_type": "markdown",
      "metadata": {
        "id": "3Jgaacz0C4Jl"
      },
      "source": [
        "Код для src, utils, metrics вы можете скачать из [этого](https://github.com/geangohn/recsys-tutorial) github репозитория"
      ]
    },
    {
      "cell_type": "code",
      "execution_count": 1,
      "metadata": {
        "id": "5Aur99NsC4Jm"
      },
      "outputs": [],
      "source": [
        "import pandas as pd\n",
        "import numpy as np\n",
        "import matplotlib.pyplot as plt\n",
        "%matplotlib inline\n",
        "\n",
        "# Для работы с матрицами\n",
        "from scipy.sparse import csr_matrix\n",
        "\n",
        "# Матричная факторизация\n",
        "from implicit import als\n",
        "from sklearn.model_selection import train_test_split\n",
        "# Модель второго уровня\n",
        "from lightgbm import LGBMClassifier\n",
        "import lightgbm  as lgb \n",
        "import catboost as catb\n",
        "\n",
        "import os, sys\n",
        "module_path = os.path.abspath(os.path.join(os.pardir))\n",
        "if module_path not in sys.path:\n",
        "    sys.path.append(module_path)\n",
        "\n",
        "# Написанные нами функции\n",
        "from src.metrics import precision_at_k, recall_at_k\n",
        "from src.utils import prefilter_items, postfilter_items, popularity_recommendation, perpare_lvl2_1, perpare_lvl2, category_to_digit\n",
        "from src.recommenders import MainRecommender\n",
        "from tqdm import tqdm\n",
        "\n",
        "tqdm.pandas()\n",
        "# from random import random\n",
        " "
      ]
    },
    {
      "cell_type": "code",
      "execution_count": 2,
      "metadata": {
        "colab": {
          "base_uri": "https://localhost:8080/",
          "height": 442
        },
        "id": "vso_erSdC4Jo",
        "outputId": "81cbc675-678b-4650-d076-de2e5e1eb4ad"
      },
      "outputs": [],
      "source": [
        "data = pd.read_csv('../raw_data/retail_train.csv')\n",
        "item_features = pd.read_csv('../raw_data/product.csv')\n",
        "user_features = pd.read_csv('../raw_data/hh_demographic.csv')\n",
        "\n",
        "# column processing\n",
        "item_features.columns = [col.lower() for col in item_features.columns]\n",
        "user_features.columns = [col.lower() for col in user_features.columns]\n",
        "\n",
        "item_features.rename(columns={'product_id': 'item_id'}, inplace=True)\n",
        "user_features.rename(columns={'household_key': 'user_id'}, inplace=True)"
      ]
    },
    {
      "cell_type": "code",
      "execution_count": 3,
      "metadata": {},
      "outputs": [],
      "source": [
        "N = 150 # к-во товаров получаемых из модели 1-го уровня.\n",
        "final_predict_count = 30 # К-во рекомендаций выдаваемых\n",
        "val_count = 5 # финальное к-во репомендаций товаров. На них будет осуществляться подсчет к-ва.\n",
        "top_items_count = 5000 #"
      ]
    },
    {
      "cell_type": "markdown",
      "metadata": {},
      "source": [
        "Обзор датасета."
      ]
    },
    {
      "cell_type": "code",
      "execution_count": 4,
      "metadata": {},
      "outputs": [
        {
          "data": {
            "text/html": [
              "<div>\n",
              "<style scoped>\n",
              "    .dataframe tbody tr th:only-of-type {\n",
              "        vertical-align: middle;\n",
              "    }\n",
              "\n",
              "    .dataframe tbody tr th {\n",
              "        vertical-align: top;\n",
              "    }\n",
              "\n",
              "    .dataframe thead th {\n",
              "        text-align: right;\n",
              "    }\n",
              "</style>\n",
              "<table border=\"1\" class=\"dataframe\">\n",
              "  <thead>\n",
              "    <tr style=\"text-align: right;\">\n",
              "      <th></th>\n",
              "      <th>user_id</th>\n",
              "      <th>basket_id</th>\n",
              "      <th>day</th>\n",
              "      <th>item_id</th>\n",
              "      <th>quantity</th>\n",
              "      <th>sales_value</th>\n",
              "      <th>store_id</th>\n",
              "      <th>retail_disc</th>\n",
              "      <th>trans_time</th>\n",
              "      <th>week_no</th>\n",
              "      <th>coupon_disc</th>\n",
              "      <th>coupon_match_disc</th>\n",
              "    </tr>\n",
              "  </thead>\n",
              "  <tbody>\n",
              "    <tr>\n",
              "      <th>0</th>\n",
              "      <td>2375</td>\n",
              "      <td>26984851472</td>\n",
              "      <td>1</td>\n",
              "      <td>1004906</td>\n",
              "      <td>1</td>\n",
              "      <td>1.39</td>\n",
              "      <td>364</td>\n",
              "      <td>-0.6</td>\n",
              "      <td>1631</td>\n",
              "      <td>1</td>\n",
              "      <td>0.0</td>\n",
              "      <td>0.0</td>\n",
              "    </tr>\n",
              "    <tr>\n",
              "      <th>1</th>\n",
              "      <td>2375</td>\n",
              "      <td>26984851472</td>\n",
              "      <td>1</td>\n",
              "      <td>1033142</td>\n",
              "      <td>1</td>\n",
              "      <td>0.82</td>\n",
              "      <td>364</td>\n",
              "      <td>0.0</td>\n",
              "      <td>1631</td>\n",
              "      <td>1</td>\n",
              "      <td>0.0</td>\n",
              "      <td>0.0</td>\n",
              "    </tr>\n",
              "    <tr>\n",
              "      <th>2</th>\n",
              "      <td>2375</td>\n",
              "      <td>26984851472</td>\n",
              "      <td>1</td>\n",
              "      <td>1036325</td>\n",
              "      <td>1</td>\n",
              "      <td>0.99</td>\n",
              "      <td>364</td>\n",
              "      <td>-0.3</td>\n",
              "      <td>1631</td>\n",
              "      <td>1</td>\n",
              "      <td>0.0</td>\n",
              "      <td>0.0</td>\n",
              "    </tr>\n",
              "  </tbody>\n",
              "</table>\n",
              "</div>"
            ],
            "text/plain": [
              "   user_id    basket_id  day  item_id  quantity  sales_value  store_id  \\\n",
              "0     2375  26984851472    1  1004906         1         1.39       364   \n",
              "1     2375  26984851472    1  1033142         1         0.82       364   \n",
              "2     2375  26984851472    1  1036325         1         0.99       364   \n",
              "\n",
              "   retail_disc  trans_time  week_no  coupon_disc  coupon_match_disc  \n",
              "0         -0.6        1631        1          0.0                0.0  \n",
              "1          0.0        1631        1          0.0                0.0  \n",
              "2         -0.3        1631        1          0.0                0.0  "
            ]
          },
          "execution_count": 4,
          "metadata": {},
          "output_type": "execute_result"
        }
      ],
      "source": [
        "data.head(3)"
      ]
    },
    {
      "cell_type": "code",
      "execution_count": 5,
      "metadata": {},
      "outputs": [
        {
          "data": {
            "text/html": [
              "<div>\n",
              "<style scoped>\n",
              "    .dataframe tbody tr th:only-of-type {\n",
              "        vertical-align: middle;\n",
              "    }\n",
              "\n",
              "    .dataframe tbody tr th {\n",
              "        vertical-align: top;\n",
              "    }\n",
              "\n",
              "    .dataframe thead th {\n",
              "        text-align: right;\n",
              "    }\n",
              "</style>\n",
              "<table border=\"1\" class=\"dataframe\">\n",
              "  <thead>\n",
              "    <tr style=\"text-align: right;\">\n",
              "      <th></th>\n",
              "      <th>item_id</th>\n",
              "      <th>manufacturer</th>\n",
              "      <th>department</th>\n",
              "      <th>brand</th>\n",
              "      <th>commodity_desc</th>\n",
              "      <th>sub_commodity_desc</th>\n",
              "      <th>curr_size_of_product</th>\n",
              "    </tr>\n",
              "  </thead>\n",
              "  <tbody>\n",
              "    <tr>\n",
              "      <th>0</th>\n",
              "      <td>25671</td>\n",
              "      <td>2</td>\n",
              "      <td>GROCERY</td>\n",
              "      <td>National</td>\n",
              "      <td>FRZN ICE</td>\n",
              "      <td>ICE - CRUSHED/CUBED</td>\n",
              "      <td>22 LB</td>\n",
              "    </tr>\n",
              "    <tr>\n",
              "      <th>1</th>\n",
              "      <td>26081</td>\n",
              "      <td>2</td>\n",
              "      <td>MISC. TRANS.</td>\n",
              "      <td>National</td>\n",
              "      <td>NO COMMODITY DESCRIPTION</td>\n",
              "      <td>NO SUBCOMMODITY DESCRIPTION</td>\n",
              "      <td></td>\n",
              "    </tr>\n",
              "    <tr>\n",
              "      <th>2</th>\n",
              "      <td>26093</td>\n",
              "      <td>69</td>\n",
              "      <td>PASTRY</td>\n",
              "      <td>Private</td>\n",
              "      <td>BREAD</td>\n",
              "      <td>BREAD:ITALIAN/FRENCH</td>\n",
              "      <td></td>\n",
              "    </tr>\n",
              "  </tbody>\n",
              "</table>\n",
              "</div>"
            ],
            "text/plain": [
              "   item_id  manufacturer    department     brand            commodity_desc  \\\n",
              "0    25671             2       GROCERY  National                  FRZN ICE   \n",
              "1    26081             2  MISC. TRANS.  National  NO COMMODITY DESCRIPTION   \n",
              "2    26093            69        PASTRY   Private                     BREAD   \n",
              "\n",
              "            sub_commodity_desc curr_size_of_product  \n",
              "0          ICE - CRUSHED/CUBED                22 LB  \n",
              "1  NO SUBCOMMODITY DESCRIPTION                       \n",
              "2         BREAD:ITALIAN/FRENCH                       "
            ]
          },
          "execution_count": 5,
          "metadata": {},
          "output_type": "execute_result"
        }
      ],
      "source": [
        "item_features.head(3)"
      ]
    },
    {
      "cell_type": "code",
      "execution_count": 6,
      "metadata": {},
      "outputs": [
        {
          "data": {
            "text/html": [
              "<div>\n",
              "<style scoped>\n",
              "    .dataframe tbody tr th:only-of-type {\n",
              "        vertical-align: middle;\n",
              "    }\n",
              "\n",
              "    .dataframe tbody tr th {\n",
              "        vertical-align: top;\n",
              "    }\n",
              "\n",
              "    .dataframe thead th {\n",
              "        text-align: right;\n",
              "    }\n",
              "</style>\n",
              "<table border=\"1\" class=\"dataframe\">\n",
              "  <thead>\n",
              "    <tr style=\"text-align: right;\">\n",
              "      <th></th>\n",
              "      <th>age_desc</th>\n",
              "      <th>marital_status_code</th>\n",
              "      <th>income_desc</th>\n",
              "      <th>homeowner_desc</th>\n",
              "      <th>hh_comp_desc</th>\n",
              "      <th>household_size_desc</th>\n",
              "      <th>kid_category_desc</th>\n",
              "      <th>user_id</th>\n",
              "    </tr>\n",
              "  </thead>\n",
              "  <tbody>\n",
              "    <tr>\n",
              "      <th>0</th>\n",
              "      <td>65+</td>\n",
              "      <td>A</td>\n",
              "      <td>35-49K</td>\n",
              "      <td>Homeowner</td>\n",
              "      <td>2 Adults No Kids</td>\n",
              "      <td>2</td>\n",
              "      <td>None/Unknown</td>\n",
              "      <td>1</td>\n",
              "    </tr>\n",
              "    <tr>\n",
              "      <th>1</th>\n",
              "      <td>45-54</td>\n",
              "      <td>A</td>\n",
              "      <td>50-74K</td>\n",
              "      <td>Homeowner</td>\n",
              "      <td>2 Adults No Kids</td>\n",
              "      <td>2</td>\n",
              "      <td>None/Unknown</td>\n",
              "      <td>7</td>\n",
              "    </tr>\n",
              "    <tr>\n",
              "      <th>2</th>\n",
              "      <td>25-34</td>\n",
              "      <td>U</td>\n",
              "      <td>25-34K</td>\n",
              "      <td>Unknown</td>\n",
              "      <td>2 Adults Kids</td>\n",
              "      <td>3</td>\n",
              "      <td>1</td>\n",
              "      <td>8</td>\n",
              "    </tr>\n",
              "  </tbody>\n",
              "</table>\n",
              "</div>"
            ],
            "text/plain": [
              "  age_desc marital_status_code income_desc homeowner_desc      hh_comp_desc  \\\n",
              "0      65+                   A      35-49K      Homeowner  2 Adults No Kids   \n",
              "1    45-54                   A      50-74K      Homeowner  2 Adults No Kids   \n",
              "2    25-34                   U      25-34K        Unknown     2 Adults Kids   \n",
              "\n",
              "  household_size_desc kid_category_desc  user_id  \n",
              "0                   2      None/Unknown        1  \n",
              "1                   2      None/Unknown        7  \n",
              "2                   3                 1        8  "
            ]
          },
          "execution_count": 6,
          "metadata": {},
          "output_type": "execute_result"
        }
      ],
      "source": [
        "user_features.head(3)"
      ]
    },
    {
      "cell_type": "markdown",
      "metadata": {},
      "source": [
        "Добавим номера дней недели."
      ]
    },
    {
      "cell_type": "code",
      "execution_count": 7,
      "metadata": {},
      "outputs": [],
      "source": [
        "week_day = {'week_day': []}\n",
        "# считаем номер недели. поле чего вычисляем записи с номеро дня. \n",
        "# определяем номер дня соответствуующий номеру последнему дню недели и после этого начинаем вычетать из него.\n",
        "# номера номера дней. \n",
        "max_week_no = data['week_no'].max()\n",
        "min_week_no = data['week_no'].min()\n",
        "\n",
        "week_days=[]\n",
        "for week_no in range(min_week_no,max_week_no + 1):\n",
        "    max_day_in_week = data.loc[(data['week_no']==week_no),'day'].max()\n",
        "    days = data.loc[(data['week_no']==week_no),'day']\n",
        "    for day in days:\n",
        "        week_days.append(day-max_day_in_week+7)\n",
        "\n",
        "data['week_day'] = week_days"
      ]
    },
    {
      "cell_type": "markdown",
      "metadata": {},
      "source": [
        "### Разделение датасета на тренировочную, тестовую и валидационную выборки."
      ]
    },
    {
      "cell_type": "code",
      "execution_count": 8,
      "metadata": {},
      "outputs": [
        {
          "data": {
            "text/html": [
              "<div>\n",
              "<style scoped>\n",
              "    .dataframe tbody tr th:only-of-type {\n",
              "        vertical-align: middle;\n",
              "    }\n",
              "\n",
              "    .dataframe tbody tr th {\n",
              "        vertical-align: top;\n",
              "    }\n",
              "\n",
              "    .dataframe thead th {\n",
              "        text-align: right;\n",
              "    }\n",
              "</style>\n",
              "<table border=\"1\" class=\"dataframe\">\n",
              "  <thead>\n",
              "    <tr style=\"text-align: right;\">\n",
              "      <th></th>\n",
              "      <th>user_id</th>\n",
              "      <th>basket_id</th>\n",
              "      <th>day</th>\n",
              "      <th>item_id</th>\n",
              "      <th>quantity</th>\n",
              "      <th>sales_value</th>\n",
              "      <th>store_id</th>\n",
              "      <th>retail_disc</th>\n",
              "      <th>trans_time</th>\n",
              "      <th>week_no</th>\n",
              "      <th>coupon_disc</th>\n",
              "      <th>coupon_match_disc</th>\n",
              "      <th>week_day</th>\n",
              "    </tr>\n",
              "  </thead>\n",
              "  <tbody>\n",
              "    <tr>\n",
              "      <th>0</th>\n",
              "      <td>2375</td>\n",
              "      <td>26984851472</td>\n",
              "      <td>1</td>\n",
              "      <td>1004906</td>\n",
              "      <td>1</td>\n",
              "      <td>1.39</td>\n",
              "      <td>364</td>\n",
              "      <td>-0.6</td>\n",
              "      <td>1631</td>\n",
              "      <td>1</td>\n",
              "      <td>0.0</td>\n",
              "      <td>0.0</td>\n",
              "      <td>3</td>\n",
              "    </tr>\n",
              "    <tr>\n",
              "      <th>1</th>\n",
              "      <td>2375</td>\n",
              "      <td>26984851472</td>\n",
              "      <td>1</td>\n",
              "      <td>1033142</td>\n",
              "      <td>1</td>\n",
              "      <td>0.82</td>\n",
              "      <td>364</td>\n",
              "      <td>0.0</td>\n",
              "      <td>1631</td>\n",
              "      <td>1</td>\n",
              "      <td>0.0</td>\n",
              "      <td>0.0</td>\n",
              "      <td>3</td>\n",
              "    </tr>\n",
              "  </tbody>\n",
              "</table>\n",
              "</div>"
            ],
            "text/plain": [
              "   user_id    basket_id  day  item_id  quantity  sales_value  store_id  \\\n",
              "0     2375  26984851472    1  1004906         1         1.39       364   \n",
              "1     2375  26984851472    1  1033142         1         0.82       364   \n",
              "\n",
              "   retail_disc  trans_time  week_no  coupon_disc  coupon_match_disc  week_day  \n",
              "0         -0.6        1631        1          0.0                0.0         3  \n",
              "1          0.0        1631        1          0.0                0.0         3  "
            ]
          },
          "execution_count": 8,
          "metadata": {},
          "output_type": "execute_result"
        }
      ],
      "source": [
        "# Cхема обучения и валидации!\n",
        "# -- давние покупки -- | -- 6 недель -- | -- 3 недель -- \n",
        "# подобрать размер 2-ого датасета (6 недель) --> learning curve (зависимость метрики recall@k от размера датасета)\n",
        "\n",
        "val_lvl_1_size_weeks = 6\n",
        "val_lvl_2_size_weeks = 3\n",
        "\n",
        "data_train_lvl_1 = data[data['week_no'] < data['week_no'].max() - (val_lvl_1_size_weeks + val_lvl_2_size_weeks)]\n",
        "data_val_lvl_1 = data[(data['week_no'] >= data['week_no'].max() - (val_lvl_1_size_weeks + val_lvl_2_size_weeks)) &\n",
        "                      (data['week_no'] < data['week_no'].max() - (val_lvl_2_size_weeks))]\n",
        "\n",
        "data_train_lvl_2 = data_val_lvl_1.copy()  # Для наглядности. Далее мы добавим изменения, и они будут отличаться\n",
        "data_val_lvl_2 = data[data['week_no'] >= data['week_no'].max() - val_lvl_2_size_weeks]\n",
        "\n",
        "data_train_lvl_1.head(2)"
      ]
    },
    {
      "cell_type": "markdown",
      "metadata": {},
      "source": [
        "### Предварительная фильтрация данных."
      ]
    },
    {
      "cell_type": "code",
      "execution_count": 9,
      "metadata": {
        "id": "zcnV3l4XC4Jp",
        "outputId": "d58f889c-0671-4bb9-b2b6-2dc2e8c24fce"
      },
      "outputs": [
        {
          "name": "stdout",
          "output_type": "stream",
          "text": [
            "Decreased # items from 83685 to 5001\n"
          ]
        }
      ],
      "source": [
        "n_items_before = data_train_lvl_1['item_id'].nunique()\n",
        "\n",
        "data_train_lvl_1 = prefilter_items(data_train_lvl_1, item_features=item_features, take_n_popular=top_items_count)\n",
        "\n",
        "n_items_after = data_train_lvl_1['item_id'].nunique()\n",
        "print('Decreased # items from {} to {}'.format(n_items_before, n_items_after))"
      ]
    },
    {
      "cell_type": "code",
      "execution_count": 10,
      "metadata": {},
      "outputs": [],
      "source": [
        "def get_new_values(old_df, new_df,feature):\n",
        "    old_values = old_df[feature].unique()\n",
        "    new_values = new_df[feature].unique()\n",
        "    appended_values = []\n",
        "\n",
        "    for value  in new_values: \n",
        "        if value not in old_values:\n",
        "            appended_values.append(value)\n",
        "        \n",
        "    appended_values = np.unique(appended_values)\n",
        "    return appended_values"
      ]
    },
    {
      "cell_type": "code",
      "execution_count": 11,
      "metadata": {},
      "outputs": [
        {
          "name": "stdout",
          "output_type": "stream",
          "text": [
            "Изначальное к-во: users: 2299, items: 5001\n",
            "1-й уровень  users: +70, items: +22772\n",
            "2-й уровень  users: +74, items: +19567\n"
          ]
        }
      ],
      "source": [
        "first_users_count = len(data_train_lvl_1['user_id'].unique()) \n",
        "first_items_count = len(data_train_lvl_1['item_id'].unique()) \n",
        "\n",
        "new_user_lvl_1 = get_new_values(data_train_lvl_1, data_train_lvl_2 ,'user_id')\n",
        "new_items_lvl_1 = get_new_values(data_train_lvl_1, data_train_lvl_2 ,'item_id')\n",
        "\n",
        "new_user_lvl_2 = get_new_values(data_train_lvl_1, data_val_lvl_2 ,'user_id')\n",
        "new_items_lvl_2 = get_new_values(data_train_lvl_1, data_val_lvl_2 ,'item_id')\n",
        "\n",
        "print(f'Изначальное к-во: users: {first_users_count}, items: {first_items_count}')\n",
        "print(f'1-й уровень  users: +{len(new_user_lvl_1)}, items: +{len(new_items_lvl_1)}')\n",
        "print(f'2-й уровень  users: +{len(new_user_lvl_2)}, items: +{len(new_items_lvl_2)}')"
      ]
    },
    {
      "cell_type": "markdown",
      "metadata": {},
      "source": [
        "### Добавление фитчей User-ов."
      ]
    },
    {
      "cell_type": "code",
      "execution_count": 12,
      "metadata": {},
      "outputs": [],
      "source": [
        "data_gr = data.groupby('basket_id').mean()"
      ]
    },
    {
      "cell_type": "code",
      "execution_count": 13,
      "metadata": {},
      "outputs": [],
      "source": [
        "# Среднее к-во покупаемых товаров.\n",
        "user_features['median_quantity'] = user_features['user_id'].apply(lambda x: \n",
        "                                data_gr.loc[(data_gr['user_id']==x),'quantity'].median())\n",
        "\n",
        "# Средний чек.                                \n",
        "user_features['mean_sales_value'] = user_features['user_id'].apply(lambda x: \n",
        "                                data_gr.loc[(data_gr['user_id']==x),'sales_value'].mean())"
      ]
    },
    {
      "cell_type": "code",
      "execution_count": 14,
      "metadata": {},
      "outputs": [],
      "source": [
        "#  Среднее к-во раз в неделю, которое user ходит в магазин.\n",
        "\n",
        "for i in [1,2,3,4,5,6,7]:\n",
        "    data_gr[f\"day_{i}\"] = np.where((data_gr['week_day'] == i),1,0)\n",
        "    \n",
        "week_count = data['week_no'].max()\n",
        "#-----------------------------------------------\n",
        "def mean_quantity_in_week(user_id):\n",
        "    days = 0\n",
        "    for i in [1,2,3,4,5,6,7]:\n",
        "       days += data_gr.loc[(data_gr['user_id']==user_id),f'day_{i}'].sum()\n",
        "    days /=week_count\n",
        "    return int(np.round(days))\n",
        "\n",
        "#-----------------------------------------------    \n",
        "user_features['mean_quantity_in_week'] = user_features['user_id'].apply(lambda x: mean_quantity_in_week(x))"
      ]
    },
    {
      "cell_type": "code",
      "execution_count": 15,
      "metadata": {},
      "outputs": [
        {
          "data": {
            "text/html": [
              "<div>\n",
              "<style scoped>\n",
              "    .dataframe tbody tr th:only-of-type {\n",
              "        vertical-align: middle;\n",
              "    }\n",
              "\n",
              "    .dataframe tbody tr th {\n",
              "        vertical-align: top;\n",
              "    }\n",
              "\n",
              "    .dataframe thead th {\n",
              "        text-align: right;\n",
              "    }\n",
              "</style>\n",
              "<table border=\"1\" class=\"dataframe\">\n",
              "  <thead>\n",
              "    <tr style=\"text-align: right;\">\n",
              "      <th></th>\n",
              "      <th>age_desc</th>\n",
              "      <th>marital_status_code</th>\n",
              "      <th>income_desc</th>\n",
              "      <th>homeowner_desc</th>\n",
              "      <th>hh_comp_desc</th>\n",
              "      <th>household_size_desc</th>\n",
              "      <th>kid_category_desc</th>\n",
              "      <th>user_id</th>\n",
              "      <th>median_quantity</th>\n",
              "      <th>mean_sales_value</th>\n",
              "      <th>mean_quantity_in_week</th>\n",
              "    </tr>\n",
              "  </thead>\n",
              "  <tbody>\n",
              "    <tr>\n",
              "      <th>0</th>\n",
              "      <td>65+</td>\n",
              "      <td>A</td>\n",
              "      <td>35-49K</td>\n",
              "      <td>Homeowner</td>\n",
              "      <td>2 Adults No Kids</td>\n",
              "      <td>2</td>\n",
              "      <td>None/Unknown</td>\n",
              "      <td>1</td>\n",
              "      <td>1.100000</td>\n",
              "      <td>2.726818</td>\n",
              "      <td>1</td>\n",
              "    </tr>\n",
              "    <tr>\n",
              "      <th>1</th>\n",
              "      <td>45-54</td>\n",
              "      <td>A</td>\n",
              "      <td>50-74K</td>\n",
              "      <td>Homeowner</td>\n",
              "      <td>2 Adults No Kids</td>\n",
              "      <td>2</td>\n",
              "      <td>None/Unknown</td>\n",
              "      <td>7</td>\n",
              "      <td>1.181818</td>\n",
              "      <td>2.989986</td>\n",
              "      <td>1</td>\n",
              "    </tr>\n",
              "  </tbody>\n",
              "</table>\n",
              "</div>"
            ],
            "text/plain": [
              "  age_desc marital_status_code income_desc homeowner_desc      hh_comp_desc  \\\n",
              "0      65+                   A      35-49K      Homeowner  2 Adults No Kids   \n",
              "1    45-54                   A      50-74K      Homeowner  2 Adults No Kids   \n",
              "\n",
              "  household_size_desc kid_category_desc  user_id  median_quantity  \\\n",
              "0                   2      None/Unknown        1         1.100000   \n",
              "1                   2      None/Unknown        7         1.181818   \n",
              "\n",
              "   mean_sales_value  mean_quantity_in_week  \n",
              "0          2.726818                      1  \n",
              "1          2.989986                      1  "
            ]
          },
          "execution_count": 15,
          "metadata": {},
          "output_type": "execute_result"
        }
      ],
      "source": [
        "user_features.head(2)"
      ]
    },
    {
      "cell_type": "markdown",
      "metadata": {},
      "source": [
        "### Приведение категориальных фитчей к числовому типу."
      ]
    },
    {
      "cell_type": "code",
      "execution_count": 16,
      "metadata": {},
      "outputs": [
        {
          "name": "stdout",
          "output_type": "stream",
          "text": [
            "income_desc\n",
            "['35-49K' '50-74K' '25-34K' '75-99K' 'Under 15K' '100-124K' '15-24K'\n",
            " '125-149K' '150-174K' '250K+' '175-199K' '200-249K']\n",
            "--------------------\n",
            "age_desc\n",
            "['65+' '45-54' '25-34' '35-44' '19-24' '55-64']\n",
            "--------------------\n",
            "homeowner_desc\n",
            "['Homeowner' 'Unknown' 'Renter' 'Probable Renter' 'Probable Owner']\n",
            "--------------------\n",
            "kid_category_desc\n",
            "['None/Unknown' '1' '2' '3+']\n",
            "--------------------\n",
            "household_size_desc\n",
            "['2' '3' '4' '1' '5+']\n",
            "--------------------\n",
            "hh_comp_desc\n",
            "['2 Adults No Kids' '2 Adults Kids' 'Single Female' 'Unknown'\n",
            " 'Single Male' '1 Adult Kids']\n",
            "--------------------\n"
          ]
        }
      ],
      "source": [
        "### Список категориальных фитчей ктороые мы будем разбирать.\n",
        "features=['income_desc','age_desc','homeowner_desc','kid_category_desc','household_size_desc','hh_comp_desc']\n",
        "for feature_name in features:\n",
        "    print(feature_name)\n",
        "    print(user_features[feature_name].unique())\n",
        "    print('-'*20)"
      ]
    },
    {
      "cell_type": "code",
      "execution_count": 17,
      "metadata": {},
      "outputs": [],
      "source": [
        "income_desc = {'35-49K':42, '50-74K':62, '25-34K':30, '75-99K':87, 'Under 15K':15, '100-124K':112,\n",
        "       '15-24K':20, '125-149K':137, '150-174K':162, '250K+':250, '175-199K':187, '200-249K':225}\n",
        "       \n",
        "user_features['income_desc'] = user_features['income_desc'].apply(lambda x: income_desc[x]) \n",
        "\n",
        "age_desc = {'65+':65, '45-54':50, '25-34':30, '35-44':40, '19-24':21, '55-64':60}\t\n",
        "\n",
        "user_features['age_desc'] = user_features['age_desc'].apply(lambda x: age_desc[x])"
      ]
    },
    {
      "cell_type": "code",
      "execution_count": 18,
      "metadata": {},
      "outputs": [],
      "source": [
        "household_size_desc = {np.nan: 0, '1':1, '2':2, '3':3, '4':4, '5+':5 }\n",
        "\n",
        "user_features['household_size_desc'] = user_features['household_size_desc'].apply(lambda x: household_size_desc[x])"
      ]
    },
    {
      "cell_type": "code",
      "execution_count": 19,
      "metadata": {},
      "outputs": [],
      "source": [
        "kid_category_desc = {'None/Unknown':0, np.nan: 0, '1':1, '2':2, '3+':3 }\n",
        "\n",
        "user_features['kid_category_desc'] = user_features['kid_category_desc'].apply(lambda x: kid_category_desc[x])"
      ]
    },
    {
      "cell_type": "code",
      "execution_count": 20,
      "metadata": {},
      "outputs": [],
      "source": [
        "user_features[['hh_comp_desc_female', 'hh_comp_desc_male', 'hh_comp_desc_Adults_Kids']] = 0\n",
        "user_features['hh_comp_desc_female'] = np.where((user_features['hh_comp_desc'] !='Single Male'), 1, 0)\n",
        "user_features['hh_comp_desc_male'] = np.where((user_features['hh_comp_desc'] !='Single Female'), 1, 0)\n",
        "user_features.loc[(user_features['hh_comp_desc']=='2 Adults Kids'), 'hh_comp_desc_Adults_Kids'] = 2\n",
        "user_features.loc[(user_features['hh_comp_desc']=='1 Adult Kids'), 'hh_comp_desc_Adults_Kids'] = 1\n",
        "user_features.loc[(user_features['hh_comp_desc'].isna()), ['hh_comp_desc_female','hh_comp_desc_male']] = 0\n",
        "user_features.loc[(user_features['hh_comp_desc']=='Unknown'), ['hh_comp_desc_female','hh_comp_desc_male']] = 0\n",
        "user_features.drop('hh_comp_desc', axis=1, inplace=True)"
      ]
    },
    {
      "cell_type": "code",
      "execution_count": 21,
      "metadata": {},
      "outputs": [
        {
          "data": {
            "text/html": [
              "<div>\n",
              "<style scoped>\n",
              "    .dataframe tbody tr th:only-of-type {\n",
              "        vertical-align: middle;\n",
              "    }\n",
              "\n",
              "    .dataframe tbody tr th {\n",
              "        vertical-align: top;\n",
              "    }\n",
              "\n",
              "    .dataframe thead th {\n",
              "        text-align: right;\n",
              "    }\n",
              "</style>\n",
              "<table border=\"1\" class=\"dataframe\">\n",
              "  <thead>\n",
              "    <tr style=\"text-align: right;\">\n",
              "      <th></th>\n",
              "      <th>age_desc</th>\n",
              "      <th>marital_status_code</th>\n",
              "      <th>income_desc</th>\n",
              "      <th>homeowner_desc</th>\n",
              "      <th>household_size_desc</th>\n",
              "      <th>kid_category_desc</th>\n",
              "      <th>user_id</th>\n",
              "      <th>median_quantity</th>\n",
              "      <th>mean_sales_value</th>\n",
              "      <th>mean_quantity_in_week</th>\n",
              "      <th>hh_comp_desc_female</th>\n",
              "      <th>hh_comp_desc_male</th>\n",
              "      <th>hh_comp_desc_Adults_Kids</th>\n",
              "    </tr>\n",
              "  </thead>\n",
              "  <tbody>\n",
              "    <tr>\n",
              "      <th>0</th>\n",
              "      <td>65</td>\n",
              "      <td>A</td>\n",
              "      <td>42</td>\n",
              "      <td>Homeowner</td>\n",
              "      <td>2</td>\n",
              "      <td>0</td>\n",
              "      <td>1</td>\n",
              "      <td>1.100000</td>\n",
              "      <td>2.726818</td>\n",
              "      <td>1</td>\n",
              "      <td>1</td>\n",
              "      <td>1</td>\n",
              "      <td>0</td>\n",
              "    </tr>\n",
              "    <tr>\n",
              "      <th>1</th>\n",
              "      <td>50</td>\n",
              "      <td>A</td>\n",
              "      <td>62</td>\n",
              "      <td>Homeowner</td>\n",
              "      <td>2</td>\n",
              "      <td>0</td>\n",
              "      <td>7</td>\n",
              "      <td>1.181818</td>\n",
              "      <td>2.989986</td>\n",
              "      <td>1</td>\n",
              "      <td>1</td>\n",
              "      <td>1</td>\n",
              "      <td>0</td>\n",
              "    </tr>\n",
              "  </tbody>\n",
              "</table>\n",
              "</div>"
            ],
            "text/plain": [
              "   age_desc marital_status_code  income_desc homeowner_desc  \\\n",
              "0        65                   A           42      Homeowner   \n",
              "1        50                   A           62      Homeowner   \n",
              "\n",
              "   household_size_desc  kid_category_desc  user_id  median_quantity  \\\n",
              "0                    2                  0        1         1.100000   \n",
              "1                    2                  0        7         1.181818   \n",
              "\n",
              "   mean_sales_value  mean_quantity_in_week  hh_comp_desc_female  \\\n",
              "0          2.726818                      1                    1   \n",
              "1          2.989986                      1                    1   \n",
              "\n",
              "   hh_comp_desc_male  hh_comp_desc_Adults_Kids  \n",
              "0                  1                         0  \n",
              "1                  1                         0  "
            ]
          },
          "execution_count": 21,
          "metadata": {},
          "output_type": "execute_result"
        }
      ],
      "source": [
        "user_features.head(2)"
      ]
    },
    {
      "cell_type": "code",
      "execution_count": 22,
      "metadata": {},
      "outputs": [
        {
          "data": {
            "text/html": [
              "<div>\n",
              "<style scoped>\n",
              "    .dataframe tbody tr th:only-of-type {\n",
              "        vertical-align: middle;\n",
              "    }\n",
              "\n",
              "    .dataframe tbody tr th {\n",
              "        vertical-align: top;\n",
              "    }\n",
              "\n",
              "    .dataframe thead th {\n",
              "        text-align: right;\n",
              "    }\n",
              "</style>\n",
              "<table border=\"1\" class=\"dataframe\">\n",
              "  <thead>\n",
              "    <tr style=\"text-align: right;\">\n",
              "      <th></th>\n",
              "      <th>item_id</th>\n",
              "      <th>manufacturer</th>\n",
              "      <th>department</th>\n",
              "      <th>brand</th>\n",
              "      <th>commodity_desc</th>\n",
              "      <th>sub_commodity_desc</th>\n",
              "      <th>curr_size_of_product</th>\n",
              "    </tr>\n",
              "  </thead>\n",
              "  <tbody>\n",
              "    <tr>\n",
              "      <th>0</th>\n",
              "      <td>25671</td>\n",
              "      <td>2</td>\n",
              "      <td>GROCERY</td>\n",
              "      <td>National</td>\n",
              "      <td>FRZN ICE</td>\n",
              "      <td>ICE - CRUSHED/CUBED</td>\n",
              "      <td>22 LB</td>\n",
              "    </tr>\n",
              "    <tr>\n",
              "      <th>1</th>\n",
              "      <td>26081</td>\n",
              "      <td>2</td>\n",
              "      <td>MISC. TRANS.</td>\n",
              "      <td>National</td>\n",
              "      <td>NO COMMODITY DESCRIPTION</td>\n",
              "      <td>NO SUBCOMMODITY DESCRIPTION</td>\n",
              "      <td></td>\n",
              "    </tr>\n",
              "  </tbody>\n",
              "</table>\n",
              "</div>"
            ],
            "text/plain": [
              "   item_id  manufacturer    department     brand            commodity_desc  \\\n",
              "0    25671             2       GROCERY  National                  FRZN ICE   \n",
              "1    26081             2  MISC. TRANS.  National  NO COMMODITY DESCRIPTION   \n",
              "\n",
              "            sub_commodity_desc curr_size_of_product  \n",
              "0          ICE - CRUSHED/CUBED                22 LB  \n",
              "1  NO SUBCOMMODITY DESCRIPTION                       "
            ]
          },
          "execution_count": 22,
          "metadata": {},
          "output_type": "execute_result"
        }
      ],
      "source": [
        "item_features.head(2)"
      ]
    },
    {
      "cell_type": "markdown",
      "metadata": {},
      "source": [
        "### Добавление фитчей Item-ов."
      ]
    },
    {
      "cell_type": "code",
      "execution_count": 23,
      "metadata": {},
      "outputs": [],
      "source": [
        "item_features_temp = item_features.merge(data, on='item_id', how='left')"
      ]
    },
    {
      "cell_type": "code",
      "execution_count": 24,
      "metadata": {},
      "outputs": [],
      "source": [
        "# Средняя стоимость товара в категории.\n",
        "\n",
        "item_price = item_features_temp.groupby(['item_id','commodity_desc'])['sales_value'].mean().reset_index()\n",
        "item_price.columns= ['item_id','commodity_desc','sales_value']\n",
        "commoditys_desc = item_price['commodity_desc'].unique()\n",
        "\n",
        "item_price['commodity_desc_mean_sale']=np.NaN\n",
        "\n",
        "for commodity_desc in commoditys_desc:\n",
        "    mean_value = item_price.loc[(item_price['commodity_desc']==commodity_desc),'sales_value'].mean()\n",
        "    item_price.loc[(item_price['commodity_desc']==commodity_desc),'commodity_desc_mean_sale'] = mean_value\n",
        "\n",
        "item_price.loc[(item_price['commodity_desc']=='NO COMMODITY DESCRIPTION'),'sales_value']\n",
        "\n",
        "item_features = item_features.merge(item_price[['item_id','commodity_desc_mean_sale']], on='item_id',how='left')"
      ]
    },
    {
      "cell_type": "code",
      "execution_count": 25,
      "metadata": {},
      "outputs": [],
      "source": [
        "# К-во покупок в неделю.\n",
        "quantity_count = item_features_temp.groupby(['item_id'])['quantity'].sum().reset_index()\n",
        "\n",
        "quantity_count.columns = ['item_id','quantity']\n",
        "\n",
        "quantity_in_week = item_features_temp.groupby(['item_id'])['week_no'].unique().reset_index()\n",
        "\n",
        "quantity_in_week.columns = ['item_id','weeks']\n",
        "\n",
        "quantity_in_week['weeks_count'] = quantity_in_week['weeks'].apply(lambda x: len(x))\n",
        "\n",
        "quantity_in_week['sale_in_week'] = quantity_count['quantity']/quantity_in_week['weeks_count']  \n",
        "\n",
        "item_features = item_features.merge(quantity_in_week[['item_id','sale_in_week']], on='item_id',how='left')"
      ]
    },
    {
      "cell_type": "code",
      "execution_count": 26,
      "metadata": {},
      "outputs": [
        {
          "name": "stderr",
          "output_type": "stream",
          "text": [
            "WARNING:root:OpenBLAS detected. Its highly recommend to set the environment variable 'export OPENBLAS_NUM_THREADS=1' to disable its internal multithreading\n",
            "100%|██████████| 15/15 [00:07<00:00,  2.05it/s]\n",
            "100%|██████████| 5001/5001 [00:00<00:00, 82929.60it/s]\n"
          ]
        }
      ],
      "source": [
        "recommender = MainRecommender(data_train_lvl_1)"
      ]
    },
    {
      "cell_type": "code",
      "execution_count": 27,
      "metadata": {},
      "outputs": [],
      "source": [
        "train_data = perpare_lvl2_1(data_train_lvl_2, data_train_lvl_1, recommender,item_features, user_features, N=N)"
      ]
    },
    {
      "cell_type": "code",
      "execution_count": 28,
      "metadata": {},
      "outputs": [],
      "source": [
        "X_train = train_data.drop('target', axis=1)\n",
        "y_train = train_data[['target']]"
      ]
    },
    {
      "cell_type": "code",
      "execution_count": 29,
      "metadata": {},
      "outputs": [],
      "source": [
        "test_data = perpare_lvl2_1(data_val_lvl_2, data_train_lvl_1, recommender, item_features, user_features, N=N)"
      ]
    },
    {
      "cell_type": "code",
      "execution_count": 30,
      "metadata": {},
      "outputs": [],
      "source": [
        "X_test = test_data.drop('target', axis=1)\n",
        "y_test = test_data[['target']]"
      ]
    },
    {
      "cell_type": "code",
      "execution_count": 31,
      "metadata": {},
      "outputs": [
        {
          "data": {
            "text/html": [
              "<div>\n",
              "<style scoped>\n",
              "    .dataframe tbody tr th:only-of-type {\n",
              "        vertical-align: middle;\n",
              "    }\n",
              "\n",
              "    .dataframe tbody tr th {\n",
              "        vertical-align: top;\n",
              "    }\n",
              "\n",
              "    .dataframe thead th {\n",
              "        text-align: right;\n",
              "    }\n",
              "</style>\n",
              "<table border=\"1\" class=\"dataframe\">\n",
              "  <thead>\n",
              "    <tr style=\"text-align: right;\">\n",
              "      <th></th>\n",
              "      <th>user_id</th>\n",
              "      <th>item_id</th>\n",
              "      <th>manufacturer</th>\n",
              "      <th>department</th>\n",
              "      <th>brand</th>\n",
              "      <th>commodity_desc</th>\n",
              "      <th>sub_commodity_desc</th>\n",
              "      <th>curr_size_of_product</th>\n",
              "      <th>commodity_desc_mean_sale</th>\n",
              "      <th>sale_in_week</th>\n",
              "      <th>...</th>\n",
              "      <th>income_desc</th>\n",
              "      <th>homeowner_desc</th>\n",
              "      <th>household_size_desc</th>\n",
              "      <th>kid_category_desc</th>\n",
              "      <th>median_quantity</th>\n",
              "      <th>mean_sales_value</th>\n",
              "      <th>mean_quantity_in_week</th>\n",
              "      <th>hh_comp_desc_female</th>\n",
              "      <th>hh_comp_desc_male</th>\n",
              "      <th>hh_comp_desc_Adults_Kids</th>\n",
              "    </tr>\n",
              "  </thead>\n",
              "  <tbody>\n",
              "    <tr>\n",
              "      <th>0</th>\n",
              "      <td>2070</td>\n",
              "      <td>5569471.0</td>\n",
              "      <td>1208.0</td>\n",
              "      <td>GROCERY</td>\n",
              "      <td>National</td>\n",
              "      <td>SOFT DRINKS</td>\n",
              "      <td>SOFT DRINKS 12/18&amp;15PK CAN CAR</td>\n",
              "      <td>12 OZ</td>\n",
              "      <td>2.705525</td>\n",
              "      <td>43.138298</td>\n",
              "      <td>...</td>\n",
              "      <td>62.0</td>\n",
              "      <td>Unknown</td>\n",
              "      <td>1.0</td>\n",
              "      <td>0.0</td>\n",
              "      <td>1.0</td>\n",
              "      <td>2.413486</td>\n",
              "      <td>6.0</td>\n",
              "      <td>0.0</td>\n",
              "      <td>0.0</td>\n",
              "      <td>0.0</td>\n",
              "    </tr>\n",
              "    <tr>\n",
              "      <th>1</th>\n",
              "      <td>2070</td>\n",
              "      <td>1022003.0</td>\n",
              "      <td>1251.0</td>\n",
              "      <td>GROCERY</td>\n",
              "      <td>National</td>\n",
              "      <td>SOUP</td>\n",
              "      <td>CONDENSED SOUP</td>\n",
              "      <td>10.5OZ</td>\n",
              "      <td>2.202742</td>\n",
              "      <td>47.680851</td>\n",
              "      <td>...</td>\n",
              "      <td>62.0</td>\n",
              "      <td>Unknown</td>\n",
              "      <td>1.0</td>\n",
              "      <td>0.0</td>\n",
              "      <td>1.0</td>\n",
              "      <td>2.413486</td>\n",
              "      <td>6.0</td>\n",
              "      <td>0.0</td>\n",
              "      <td>0.0</td>\n",
              "      <td>0.0</td>\n",
              "    </tr>\n",
              "  </tbody>\n",
              "</table>\n",
              "<p>2 rows × 22 columns</p>\n",
              "</div>"
            ],
            "text/plain": [
              "   user_id    item_id  manufacturer department     brand commodity_desc  \\\n",
              "0     2070  5569471.0        1208.0    GROCERY  National    SOFT DRINKS   \n",
              "1     2070  1022003.0        1251.0    GROCERY  National           SOUP   \n",
              "\n",
              "               sub_commodity_desc curr_size_of_product  \\\n",
              "0  SOFT DRINKS 12/18&15PK CAN CAR                12 OZ   \n",
              "1                  CONDENSED SOUP               10.5OZ   \n",
              "\n",
              "   commodity_desc_mean_sale  sale_in_week  ...  income_desc homeowner_desc  \\\n",
              "0                  2.705525     43.138298  ...         62.0        Unknown   \n",
              "1                  2.202742     47.680851  ...         62.0        Unknown   \n",
              "\n",
              "   household_size_desc kid_category_desc  median_quantity  mean_sales_value  \\\n",
              "0                  1.0               0.0              1.0          2.413486   \n",
              "1                  1.0               0.0              1.0          2.413486   \n",
              "\n",
              "   mean_quantity_in_week  hh_comp_desc_female  hh_comp_desc_male  \\\n",
              "0                    6.0                  0.0                0.0   \n",
              "1                    6.0                  0.0                0.0   \n",
              "\n",
              "   hh_comp_desc_Adults_Kids  \n",
              "0                       0.0  \n",
              "1                       0.0  \n",
              "\n",
              "[2 rows x 22 columns]"
            ]
          },
          "execution_count": 31,
          "metadata": {},
          "output_type": "execute_result"
        }
      ],
      "source": [
        "X_train.head(2)"
      ]
    },
    {
      "cell_type": "code",
      "execution_count": 32,
      "metadata": {},
      "outputs": [],
      "source": [
        "# Получим список катероиальных и числовых признаков.\n",
        "categorical = []\n",
        "numerical = []\n",
        "for col, value in X_train.iteritems():\n",
        "    if value.dtype == 'object':\n",
        "        categorical.append(col)\n",
        "    else:\n",
        "        numerical.append(col)"
      ]
    },
    {
      "cell_type": "code",
      "execution_count": 33,
      "metadata": {},
      "outputs": [
        {
          "name": "stdout",
          "output_type": "stream",
          "text": [
            "['department', 'brand', 'commodity_desc', 'sub_commodity_desc', 'curr_size_of_product', 'marital_status_code', 'homeowner_desc']\n"
          ]
        }
      ],
      "source": [
        "print(categorical)"
      ]
    },
    {
      "cell_type": "code",
      "execution_count": 34,
      "metadata": {},
      "outputs": [
        {
          "name": "stdout",
          "output_type": "stream",
          "text": [
            "['user_id', 'item_id', 'manufacturer', 'commodity_desc_mean_sale', 'sale_in_week', 'age_desc', 'income_desc', 'household_size_desc', 'kid_category_desc', 'median_quantity', 'mean_sales_value', 'mean_quantity_in_week', 'hh_comp_desc_female', 'hh_comp_desc_male', 'hh_comp_desc_Adults_Kids']\n"
          ]
        }
      ],
      "source": [
        "print(numerical)"
      ]
    },
    {
      "cell_type": "markdown",
      "metadata": {},
      "source": [
        "### Уберем признаки содержащие большое к-во категорий"
      ]
    },
    {
      "cell_type": "code",
      "execution_count": 35,
      "metadata": {},
      "outputs": [
        {
          "name": "stdout",
          "output_type": "stream",
          "text": [
            "department: 21\n",
            "brand: 3\n",
            "commodity_desc: 200\n",
            "sub_commodity_desc: 746\n",
            "curr_size_of_product: 657\n",
            "marital_status_code: 4\n",
            "homeowner_desc: 6\n"
          ]
        }
      ],
      "source": [
        "for feature in categorical:\n",
        " print(f'{feature}: {len(X_train[feature].unique())}')"
      ]
    },
    {
      "cell_type": "code",
      "execution_count": 36,
      "metadata": {},
      "outputs": [],
      "source": [
        "features = ['commodity_desc', 'sub_commodity_desc', 'curr_size_of_product']\n",
        "X_train = X_train.drop(features, axis=1)\n",
        "X_test = X_test.drop(features, axis=1)"
      ]
    },
    {
      "cell_type": "code",
      "execution_count": 37,
      "metadata": {},
      "outputs": [
        {
          "name": "stdout",
          "output_type": "stream",
          "text": [
            "['GROCERY' 'MISC. TRANS.' 'PRODUCE' 'PASTRY' 'MEAT-PCKGD' 'MEAT'\n",
            " 'KIOSK-GAS' 'NUTRITION' 'SALAD BAR' 'DRUG GM' 'DELI' 'FLORAL' nan\n",
            " 'MISC SALES TRAN' 'GARDEN CENTER' 'SEAFOOD' 'CHEF SHOPPE' 'SEAFOOD-PCKGD'\n",
            " 'TRAVEL & LEISUR' 'COUP/STR & MFG' 'FROZEN GROCERY']\n"
          ]
        }
      ],
      "source": [
        "print(X_train['department'].unique())"
      ]
    },
    {
      "cell_type": "code",
      "execution_count": 38,
      "metadata": {},
      "outputs": [],
      "source": [
        "features = [ 'department',\n",
        "            'brand',\n",
        "            #'commodity_desc',\n",
        "            #'sub_commodity_desc',\n",
        "            #'curr_size_of_product',\n",
        "            'marital_status_code',\n",
        "            'homeowner_desc',\n",
        "            # 'hh_comp_desc',\n",
        "            # 'household_size_desc',\n",
        "            # 'kid_category_desc'\n",
        "           ]"
      ]
    },
    {
      "cell_type": "code",
      "execution_count": 39,
      "metadata": {},
      "outputs": [],
      "source": [
        "X_train = category_to_digit(X_train, features)"
      ]
    },
    {
      "cell_type": "code",
      "execution_count": 40,
      "metadata": {},
      "outputs": [],
      "source": [
        "X_test = category_to_digit(X_test, features)"
      ]
    },
    {
      "cell_type": "code",
      "execution_count": 41,
      "metadata": {},
      "outputs": [
        {
          "data": {
            "text/plain": [
              "target    0.239681\n",
              "dtype: float64"
            ]
          },
          "execution_count": 41,
          "metadata": {},
          "output_type": "execute_result"
        }
      ],
      "source": [
        "y_train.mean()"
      ]
    },
    {
      "cell_type": "code",
      "execution_count": 42,
      "metadata": {},
      "outputs": [
        {
          "data": {
            "text/plain": [
              "target    0.165276\n",
              "dtype: float64"
            ]
          },
          "execution_count": 42,
          "metadata": {},
          "output_type": "execute_result"
        }
      ],
      "source": [
        "y_test.mean()"
      ]
    },
    {
      "cell_type": "markdown",
      "metadata": {},
      "source": [
        "### Обучение модели. "
      ]
    },
    {
      "cell_type": "code",
      "execution_count": 43,
      "metadata": {},
      "outputs": [],
      "source": [
        "X_train, X_val, y_train, y_val = train_test_split(X_train, y_train,\n",
        "                                                  test_size=0.2,\n",
        "                                                  random_state=27,\n",
        "                                                 )"
      ]
    },
    {
      "cell_type": "code",
      "execution_count": 44,
      "metadata": {},
      "outputs": [],
      "source": [
        "x_features = X_train.columns.values[2:] # исключаем из обучения iser_id и item_id."
      ]
    },
    {
      "cell_type": "code",
      "execution_count": 45,
      "metadata": {},
      "outputs": [],
      "source": [
        "model_catb = catb.CatBoostClassifier(silent=True, \n",
        "                                    random_state=27,\n",
        "                                    # eval_metric='F1',\n",
        "                                     early_stopping_rounds=20,\n",
        "                                     use_best_model=True,\n",
        "                                     num_boost_round=10000\n",
        "                                    )"
      ]
    },
    {
      "cell_type": "code",
      "execution_count": 49,
      "metadata": {},
      "outputs": [
        {
          "name": "stderr",
          "output_type": "stream",
          "text": [
            "Custom logger is already specified. Specify more than one logger at same time is not thread safe."
          ]
        },
        {
          "data": {
            "text/plain": [
              "<catboost.core.CatBoostClassifier at 0x2029a4c3940>"
            ]
          },
          "execution_count": 49,
          "metadata": {},
          "output_type": "execute_result"
        }
      ],
      "source": [
        "model_catb.fit(X_train[x_features], y_train, eval_set=(X_val[x_features], y_val))"
      ]
    },
    {
      "cell_type": "markdown",
      "metadata": {},
      "source": [
        "###  Предсказание "
      ]
    },
    {
      "cell_type": "code",
      "execution_count": 50,
      "metadata": {},
      "outputs": [],
      "source": [
        "def get_items(x_data, items, user_id, item_name, N=5, overall_top_purchases=None):\n",
        "    items_list = []\n",
        " \n",
        "    for item in items:\n",
        "        flag = (x_data.loc[((x_data['user_id']==user_id) & (x_data['item_id']==item)),item_name].mean())\n",
        "        \n",
        "        if (flag > 0.3):\n",
        "            items_list.append(item)\n",
        "\n",
        "    if not(overall_top_purchases is None):\n",
        "\n",
        "        if len(items_list) < N:\n",
        "            items_list.extend(overall_top_purchases[:N])\n",
        "        items_list = items_list[:N]\n",
        "    return items_list"
      ]
    },
    {
      "cell_type": "code",
      "execution_count": 51,
      "metadata": {},
      "outputs": [],
      "source": [
        "def get_final_recomendations(x_data, y_data, preds):\n",
        "    x_data = x_data.copy()\n",
        "    x_data['predict'] = preds\n",
        "    x_data['actual'] = y_data['target'].values\n",
        "\n",
        "    result = x_data.sort_values('predict', ascending=False).groupby('user_id')['item_id'].unique().reset_index()\n",
        "\n",
        "    overall_top_purchases = x_data.groupby('item_id')['item_id'].count()\n",
        "    overall_top_purchases = overall_top_purchases.sort_values(ascending=False).index.values\n",
        "\n",
        "    result_df= {'user_id':[], 'actual':[], 'predict':[]}\n",
        "\n",
        "    for res in tqdm(result.iterrows()):\n",
        "        user_id = res[1]['user_id']\n",
        "        item_ids = res[1]['item_id']\n",
        "        actual = get_items(x_data, item_ids, user_id, 'actual', N=final_predict_count)\n",
        "        if len(actual)>0:\n",
        "            result_df['user_id'].append(user_id)\n",
        "            predict_items= get_items(x_data, item_ids, user_id, 'predict', N=final_predict_count, overall_top_purchases = overall_top_purchases)\n",
        "            result_df['predict'].append(postfilter_items(predict_items, item_features, N=val_count)) # Бизнес-ограничения. ^_^\n",
        "            result_df['actual'].append(actual)\n",
        "    return pd.DataFrame(result_df) "
      ]
    },
    {
      "cell_type": "code",
      "execution_count": 52,
      "metadata": {},
      "outputs": [],
      "source": [
        "train_preds = model_catb.predict_proba(X_train[x_features])[:,1]"
      ]
    },
    {
      "cell_type": "code",
      "execution_count": 53,
      "metadata": {},
      "outputs": [
        {
          "name": "stderr",
          "output_type": "stream",
          "text": [
            "2141it [02:36, 13.68it/s]\n"
          ]
        },
        {
          "data": {
            "text/html": [
              "<div>\n",
              "<style scoped>\n",
              "    .dataframe tbody tr th:only-of-type {\n",
              "        vertical-align: middle;\n",
              "    }\n",
              "\n",
              "    .dataframe tbody tr th {\n",
              "        vertical-align: top;\n",
              "    }\n",
              "\n",
              "    .dataframe thead th {\n",
              "        text-align: right;\n",
              "    }\n",
              "</style>\n",
              "<table border=\"1\" class=\"dataframe\">\n",
              "  <thead>\n",
              "    <tr style=\"text-align: right;\">\n",
              "      <th></th>\n",
              "      <th>user_id</th>\n",
              "      <th>actual</th>\n",
              "      <th>predict</th>\n",
              "    </tr>\n",
              "  </thead>\n",
              "  <tbody>\n",
              "    <tr>\n",
              "      <th>0</th>\n",
              "      <td>1</td>\n",
              "      <td>[1082185.0, 995242.0, 840361.0, 820165.0, 9409...</td>\n",
              "      <td>[1082185.0, 840361.0, 940947.0, 866227.0, 1045...</td>\n",
              "    </tr>\n",
              "    <tr>\n",
              "      <th>1</th>\n",
              "      <td>2</td>\n",
              "      <td>[1106523.0, 916122.0, 838136.0, 852864.0, 8850...</td>\n",
              "      <td>[1106523.0, 900072.0, 6534178.0, 981760.0, 112...</td>\n",
              "    </tr>\n",
              "    <tr>\n",
              "      <th>2</th>\n",
              "      <td>4</td>\n",
              "      <td>[6773204.0]</td>\n",
              "      <td>[6534178.0, 1029743.0, 923746.0, 1044078.0, 91...</td>\n",
              "    </tr>\n",
              "  </tbody>\n",
              "</table>\n",
              "</div>"
            ],
            "text/plain": [
              "   user_id                                             actual  \\\n",
              "0        1  [1082185.0, 995242.0, 840361.0, 820165.0, 9409...   \n",
              "1        2  [1106523.0, 916122.0, 838136.0, 852864.0, 8850...   \n",
              "2        4                                        [6773204.0]   \n",
              "\n",
              "                                             predict  \n",
              "0  [1082185.0, 840361.0, 940947.0, 866227.0, 1045...  \n",
              "1  [1106523.0, 900072.0, 6534178.0, 981760.0, 112...  \n",
              "2  [6534178.0, 1029743.0, 923746.0, 1044078.0, 91...  "
            ]
          },
          "execution_count": 53,
          "metadata": {},
          "output_type": "execute_result"
        }
      ],
      "source": [
        "result_train = get_final_recomendations(X_train, y_train, train_preds)\n",
        "\n",
        "result_train.head(3)"
      ]
    },
    {
      "cell_type": "code",
      "execution_count": 54,
      "metadata": {},
      "outputs": [
        {
          "name": "stdout",
          "output_type": "stream",
          "text": [
            "Train precision: 0.398\n"
          ]
        }
      ],
      "source": [
        "precision_train = result_train.apply(lambda row: precision_at_k(row['predict'], row['actual']), axis=1).mean()\n",
        "print(f'Train precision: {precision_train:.03}')"
      ]
    },
    {
      "cell_type": "code",
      "execution_count": 55,
      "metadata": {},
      "outputs": [],
      "source": [
        "test_preds = model_catb.predict_proba(X_test[x_features])[:,1]"
      ]
    },
    {
      "cell_type": "code",
      "execution_count": 56,
      "metadata": {},
      "outputs": [
        {
          "name": "stderr",
          "output_type": "stream",
          "text": [
            "2042it [03:33,  9.55it/s]\n"
          ]
        },
        {
          "data": {
            "text/html": [
              "<div>\n",
              "<style scoped>\n",
              "    .dataframe tbody tr th:only-of-type {\n",
              "        vertical-align: middle;\n",
              "    }\n",
              "\n",
              "    .dataframe tbody tr th {\n",
              "        vertical-align: top;\n",
              "    }\n",
              "\n",
              "    .dataframe thead th {\n",
              "        text-align: right;\n",
              "    }\n",
              "</style>\n",
              "<table border=\"1\" class=\"dataframe\">\n",
              "  <thead>\n",
              "    <tr style=\"text-align: right;\">\n",
              "      <th></th>\n",
              "      <th>user_id</th>\n",
              "      <th>actual</th>\n",
              "      <th>predict</th>\n",
              "    </tr>\n",
              "  </thead>\n",
              "  <tbody>\n",
              "    <tr>\n",
              "      <th>0</th>\n",
              "      <td>1</td>\n",
              "      <td>[1082185.0, 995242.0, 940947.0, 8293439.0, 961...</td>\n",
              "      <td>[1082185.0, 840361.0, 940947.0, 866227.0, 1045...</td>\n",
              "    </tr>\n",
              "    <tr>\n",
              "      <th>1</th>\n",
              "      <td>3</td>\n",
              "      <td>[1053690.0, 9526563.0, 6463658.0]</td>\n",
              "      <td>[951590.0, 938700.0, 1082185.0, 1029743.0, 923...</td>\n",
              "    </tr>\n",
              "    <tr>\n",
              "      <th>2</th>\n",
              "      <td>6</td>\n",
              "      <td>[995242.0, 1119051.0, 825541.0, 840361.0, 5569...</td>\n",
              "      <td>[1082185.0, 1029743.0, 994928.0, 981760.0, 104...</td>\n",
              "    </tr>\n",
              "  </tbody>\n",
              "</table>\n",
              "</div>"
            ],
            "text/plain": [
              "   user_id                                             actual  \\\n",
              "0        1  [1082185.0, 995242.0, 940947.0, 8293439.0, 961...   \n",
              "1        3                  [1053690.0, 9526563.0, 6463658.0]   \n",
              "2        6  [995242.0, 1119051.0, 825541.0, 840361.0, 5569...   \n",
              "\n",
              "                                             predict  \n",
              "0  [1082185.0, 840361.0, 940947.0, 866227.0, 1045...  \n",
              "1  [951590.0, 938700.0, 1082185.0, 1029743.0, 923...  \n",
              "2  [1082185.0, 1029743.0, 994928.0, 981760.0, 104...  "
            ]
          },
          "execution_count": 56,
          "metadata": {},
          "output_type": "execute_result"
        }
      ],
      "source": [
        "result_test = get_final_recomendations(X_test, y_test, test_preds)\n",
        "\n",
        "result_test.head(3)"
      ]
    },
    {
      "cell_type": "code",
      "execution_count": 57,
      "metadata": {},
      "outputs": [
        {
          "name": "stdout",
          "output_type": "stream",
          "text": [
            "Test precision: 0.29\n"
          ]
        }
      ],
      "source": [
        "precision_test = result_test.apply(lambda row: precision_at_k(row['predict'], row['actual']), axis=1).mean()\n",
        "print(f'Test precision: {precision_test:.03}')"
      ]
    },
    {
      "cell_type": "markdown",
      "metadata": {},
      "source": [
        "### Сохранение результатов. "
      ]
    },
    {
      "cell_type": "code",
      "execution_count": 58,
      "metadata": {},
      "outputs": [],
      "source": [
        "result_test.to_csv('finally_prediction.csv', index=False)"
      ]
    },
    {
      "cell_type": "code",
      "execution_count": 59,
      "metadata": {},
      "outputs": [],
      "source": [
        "import pickle\n",
        "\n",
        "with open('catboost_model.pickle', 'wb') as f:\n",
        "    pickle.dump(model_catb, f, protocol=pickle.HIGHEST_PROTOCOL)"
      ]
    }
  ],
  "metadata": {
    "colab": {
      "name": "hw_webinar_6.ipynb",
      "provenance": []
    },
    "kernelspec": {
      "display_name": "Python 3",
      "language": "python",
      "name": "python3"
    },
    "language_info": {
      "codemirror_mode": {
        "name": "ipython",
        "version": 3
      },
      "file_extension": ".py",
      "mimetype": "text/x-python",
      "name": "python",
      "nbconvert_exporter": "python",
      "pygments_lexer": "ipython3",
      "version": "3.8.0"
    }
  },
  "nbformat": 4,
  "nbformat_minor": 0
}
