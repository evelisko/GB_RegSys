{
  "cells": [
    {
      "cell_type": "markdown",
      "metadata": {
        "id": "nMBdGcvjC4Ji"
      },
      "source": [
        "# Вебинар 6. Двухуровневые модели рекомендаций\n"
      ]
    },
    {
      "cell_type": "markdown",
      "metadata": {
        "id": "3Jgaacz0C4Jl"
      },
      "source": [
        "Код для src, utils, metrics вы можете скачать из [этого](https://github.com/geangohn/recsys-tutorial) github репозитория"
      ]
    },
    {
      "cell_type": "code",
      "execution_count": 8,
      "metadata": {
        "colab": {
          "base_uri": "https://localhost:8080/"
        },
        "id": "B5pEd3Wo7_nM",
        "outputId": "6940876b-81a4-44dd-8dad-165147e56f51"
      },
      "outputs": [],
      "source": [
        "# !pip install implicit"
      ]
    },
    {
      "cell_type": "code",
      "execution_count": 9,
      "metadata": {
        "id": "5Aur99NsC4Jm"
      },
      "outputs": [],
      "source": [
        "import pandas as pd\n",
        "import numpy as np\n",
        "import matplotlib.pyplot as plt\n",
        "%matplotlib inline\n",
        "\n",
        "# Для работы с матрицами\n",
        "from scipy.sparse import csr_matrix\n",
        "\n",
        "# Матричная факторизация\n",
        "from implicit import als\n",
        "\n",
        "# Модель второго уровня\n",
        "from lightgbm import LGBMClassifier\n",
        "\n",
        "import os, sys\n",
        "module_path = os.path.abspath(os.path.join(os.pardir))\n",
        "if module_path not in sys.path:\n",
        "    sys.path.append(module_path)\n",
        "\n",
        "# Написанные нами функции\n",
        "from src.metrics import precision_at_k, recall_at_k\n",
        "from src.utils import prefilter_items\n",
        "from src.recommenders import MainRecommender\n",
        "from tqdm import tqdm\n",
        "\n",
        "tqdm.pandas()"
      ]
    },
    {
      "cell_type": "code",
      "execution_count": 10,
      "metadata": {
        "colab": {
          "base_uri": "https://localhost:8080/",
          "height": 442
        },
        "id": "vso_erSdC4Jo",
        "outputId": "81cbc675-678b-4650-d076-de2e5e1eb4ad"
      },
      "outputs": [],
      "source": [
        "data = pd.read_csv('raw_data/retail_train.csv')\n",
        "item_features = pd.read_csv('raw_data/product.csv')\n",
        "user_features = pd.read_csv('raw_data/hh_demographic.csv')\n",
        "\n",
        "# column processing\n",
        "item_features.columns = [col.lower() for col in item_features.columns]\n",
        "user_features.columns = [col.lower() for col in user_features.columns]\n",
        "\n",
        "item_features.rename(columns={'product_id': 'item_id'}, inplace=True)\n",
        "user_features.rename(columns={'household_key': 'user_id'}, inplace=True)"
      ]
    },
    {
      "cell_type": "markdown",
      "metadata": {},
      "source": [
        "Добавим номера дней недели."
      ]
    },
    {
      "cell_type": "code",
      "execution_count": 11,
      "metadata": {},
      "outputs": [],
      "source": [
        "week_day = {'week_day': []}\n",
        "# считаем номер недели. поле чего вычисляем записи с номеро дня. \n",
        "# определяем номер дня соответствуующий номеру последнему дню недели и после этого начинаем вычетать из него.\n",
        "# номера номера дней. \n",
        "max_week_no = data['week_no'].max()\n",
        "min_week_no = data['week_no'].min()\n",
        "\n",
        "week_days=[]\n",
        "for week_no in range(min_week_no,max_week_no + 1):\n",
        "    max_day_in_week = data.loc[(data['week_no']==week_no),'day'].max()\n",
        "    days = data.loc[(data['week_no']==week_no),'day']\n",
        "    for day in days:\n",
        "        week_days.append(day-max_day_in_week+7)\n",
        "\n",
        "data['week_day'] = week_days"
      ]
    },
    {
      "cell_type": "markdown",
      "metadata": {},
      "source": [
        "Заменим категориальные фитчи 'income_desc' и 'age_desc' на числовые."
      ]
    },
    {
      "cell_type": "code",
      "execution_count": 12,
      "metadata": {},
      "outputs": [],
      "source": [
        "# user_features['income_desc'].unique()\n",
        "income_desc = {'35-49K':42, '50-74K':62, '25-34K':30, '75-99K':87, 'Under 15K':15, '100-124K':112,\n",
        "       '15-24K':20, '125-149K':137, '150-174K':162, '250K+':250, '175-199K':187, '200-249K':225}\n",
        "user_features['income_desc'] = user_features['income_desc'].apply(lambda x: income_desc[x]) \n",
        "# user_features['age_desc'].unique()\n",
        "age_desc = {'65+':65, '45-54':50, '25-34':30, '35-44':40, '19-24':21, '55-64':60}\t\n",
        "user_features['age_desc'] = user_features['age_desc'].apply(lambda x: age_desc[x])\n"
      ]
    },
    {
      "cell_type": "code",
      "execution_count": 13,
      "metadata": {},
      "outputs": [
        {
          "data": {
            "text/html": [
              "<div>\n",
              "<style scoped>\n",
              "    .dataframe tbody tr th:only-of-type {\n",
              "        vertical-align: middle;\n",
              "    }\n",
              "\n",
              "    .dataframe tbody tr th {\n",
              "        vertical-align: top;\n",
              "    }\n",
              "\n",
              "    .dataframe thead th {\n",
              "        text-align: right;\n",
              "    }\n",
              "</style>\n",
              "<table border=\"1\" class=\"dataframe\">\n",
              "  <thead>\n",
              "    <tr style=\"text-align: right;\">\n",
              "      <th></th>\n",
              "      <th>user_id</th>\n",
              "      <th>basket_id</th>\n",
              "      <th>day</th>\n",
              "      <th>item_id</th>\n",
              "      <th>quantity</th>\n",
              "      <th>sales_value</th>\n",
              "      <th>store_id</th>\n",
              "      <th>retail_disc</th>\n",
              "      <th>trans_time</th>\n",
              "      <th>week_no</th>\n",
              "      <th>coupon_disc</th>\n",
              "      <th>coupon_match_disc</th>\n",
              "      <th>week_day</th>\n",
              "    </tr>\n",
              "  </thead>\n",
              "  <tbody>\n",
              "    <tr>\n",
              "      <th>0</th>\n",
              "      <td>2375</td>\n",
              "      <td>26984851472</td>\n",
              "      <td>1</td>\n",
              "      <td>1004906</td>\n",
              "      <td>1</td>\n",
              "      <td>1.39</td>\n",
              "      <td>364</td>\n",
              "      <td>-0.6</td>\n",
              "      <td>1631</td>\n",
              "      <td>1</td>\n",
              "      <td>0.0</td>\n",
              "      <td>0.0</td>\n",
              "      <td>3</td>\n",
              "    </tr>\n",
              "    <tr>\n",
              "      <th>1</th>\n",
              "      <td>2375</td>\n",
              "      <td>26984851472</td>\n",
              "      <td>1</td>\n",
              "      <td>1033142</td>\n",
              "      <td>1</td>\n",
              "      <td>0.82</td>\n",
              "      <td>364</td>\n",
              "      <td>0.0</td>\n",
              "      <td>1631</td>\n",
              "      <td>1</td>\n",
              "      <td>0.0</td>\n",
              "      <td>0.0</td>\n",
              "      <td>3</td>\n",
              "    </tr>\n",
              "  </tbody>\n",
              "</table>\n",
              "</div>"
            ],
            "text/plain": [
              "   user_id    basket_id  day  item_id  quantity  sales_value  store_id  \\\n",
              "0     2375  26984851472    1  1004906         1         1.39       364   \n",
              "1     2375  26984851472    1  1033142         1         0.82       364   \n",
              "\n",
              "   retail_disc  trans_time  week_no  coupon_disc  coupon_match_disc  week_day  \n",
              "0         -0.6        1631        1          0.0                0.0         3  \n",
              "1          0.0        1631        1          0.0                0.0         3  "
            ]
          },
          "execution_count": 13,
          "metadata": {},
          "output_type": "execute_result"
        }
      ],
      "source": [
        "# Если я не ошибаюсь, предобработку данных на датасете \n",
        "# лучше выполнять до разделения, выборки. \n",
        "# data = prefilter_items(data, item_features=item_features, take_n_popular=5000)\n",
        "\n",
        "\n",
        "# Важна схема обучения и валидации!\n",
        "# -- давние покупки -- | -- 6 недель -- | -- 3 недель -- \n",
        "# подобрать размер 2-ого датасета (6 недель) --> learning curve (зависимость метрики recall@k от размера датасета)\n",
        "val_lvl_1_size_weeks = 6\n",
        "val_lvl_2_size_weeks = 3\n",
        "\n",
        "data_train_lvl_1 = data[data['week_no'] < data['week_no'].max() - (val_lvl_1_size_weeks + val_lvl_2_size_weeks)]\n",
        "data_val_lvl_1 = data[(data['week_no'] >= data['week_no'].max() - (val_lvl_1_size_weeks + val_lvl_2_size_weeks)) &\n",
        "                      (data['week_no'] < data['week_no'].max() - (val_lvl_2_size_weeks))]\n",
        "\n",
        "data_train_lvl_2 = data_val_lvl_1.copy()  # Для наглядности. Далее мы добавим изменения, и они будут отличаться\n",
        "data_val_lvl_2 = data[data['week_no'] >= data['week_no'].max() - val_lvl_2_size_weeks]\n",
        "\n",
        "data_train_lvl_1.head(2)"
      ]
    },
    {
      "cell_type": "code",
      "execution_count": 14,
      "metadata": {
        "id": "zcnV3l4XC4Jp",
        "outputId": "d58f889c-0671-4bb9-b2b6-2dc2e8c24fce"
      },
      "outputs": [
        {
          "name": "stdout",
          "output_type": "stream",
          "text": [
            "Decreased # items from 83685 to 5001\n"
          ]
        }
      ],
      "source": [
        "n_items_before = data_train_lvl_1['item_id'].nunique()\n",
        "\n",
        "data_train_lvl_1 = prefilter_items(data_train_lvl_1, item_features=item_features, take_n_popular=5000)\n",
        "\n",
        "n_items_after = data_train_lvl_1['item_id'].nunique()\n",
        "print('Decreased # items from {} to {}'.format(n_items_before, n_items_after))"
      ]
    },
    {
      "cell_type": "code",
      "execution_count": 15,
      "metadata": {
        "colab": {
          "referenced_widgets": [
            "729d4287bb794971802d9da5e141f10a",
            "32375ef613474af6a0fcadb9255eb835"
          ]
        },
        "id": "zgYXRQ0lC4Jq",
        "outputId": "d9ea41ae-3b4d-41b4-fc46-90868ebb9894"
      },
      "outputs": [
        {
          "name": "stderr",
          "output_type": "stream",
          "text": [
            "100%|██████████| 15/15 [00:17<00:00,  1.19s/it]\n",
            "100%|██████████| 5001/5001 [00:00<00:00, 17375.93it/s]\n"
          ]
        }
      ],
      "source": [
        "recommender = MainRecommender(data_train_lvl_1)"
      ]
    },
    {
      "cell_type": "markdown",
      "metadata": {
        "id": "Bqs9Sw_YC4Jt"
      },
      "source": [
        "### Задание 1\n",
        "\n",
        "A) Попробуйте различные варианты генерации кандидатов. Какие из них дают наибольший recall@k ?\n",
        "- Пока пробуем отобрать 50 кандидатов (k=50)\n",
        "- Качество измеряем на data_val_lvl_1: следующие 6 недель после трейна\n",
        "\n",
        "Дают ли own recommendtions + top-popular лучший recall? "
      ]
    },
    {
      "cell_type": "code",
      "execution_count": 16,
      "metadata": {},
      "outputs": [],
      "source": [
        "# data_train_lvl_2 = data_val_lvl_1.copy()  # Для наглядности. Далее мы добавим изменения, и они будут отличаться\n",
        "# data_val_lvl_2 = data[data['week_no'] >= data['week_no'].max() - val_lvl_2_size_weeks]\n",
        "\n",
        "# data_train_lvl_1.head(2)"
      ]
    },
    {
      "cell_type": "code",
      "execution_count": 17,
      "metadata": {
        "id": "frt2RzDWC4Jt",
        "outputId": "7c594abf-4a34-406b-9897-8bfbddf69a93"
      },
      "outputs": [],
      "source": [
        "# result_lvl_1 = data_val_lvl_1.groupby('user_id')['item_id'].unique().reset_index()\n",
        "# result_lvl_1.columns=['user_id', 'actual']\n",
        "\n",
        "# result_lvl_1.head(2)"
      ]
    },
    {
      "cell_type": "code",
      "execution_count": 18,
      "metadata": {},
      "outputs": [],
      "source": [
        "# # Убирем из тестовой выборки пользоватлей, которые отсутствуют в обучащей. \n",
        "# # Определяем уникальных пользователей которые есть в тестовом датасете. \n",
        "\n",
        "# result_lvl_1 = result_lvl_1[result_lvl_1['user_id'].isin(data_train_lvl_1['user_id'].unique())]\n",
        "# result_lvl_1['user_id'].count()"
      ]
    },
    {
      "cell_type": "code",
      "execution_count": 19,
      "metadata": {},
      "outputs": [],
      "source": [
        "# N=200\n",
        "# result_lvl_1['similar_items_recomender'] = result_lvl_1['user_id'].apply(lambda x: recommender.get_similar_items_recommendation(x, N=N))\n",
        "\n",
        "# result_lvl_1['als_recmender'] = result_lvl_1['user_id'].apply(lambda x: recommender.get_als_recommendations(x, N=N))\n",
        "\n",
        "# result_lvl_1['own_recomender'] = result_lvl_1['user_id'].apply(lambda x: recommender.get_own_recommendations(x, N=N))\n",
        "\n",
        "# # Дополняем недостающие товары популярными.\n",
        "# is_extend_with_top_popular=True\n",
        "# result_lvl_1['own_recomender_extend'] = result_lvl_1['user_id'].apply(lambda x:\n",
        "#  recommender.get_own_recommendations(x, N=N, extend_with_top_popular=is_extend_with_top_popular))"
      ]
    },
    {
      "cell_type": "code",
      "execution_count": 20,
      "metadata": {},
      "outputs": [],
      "source": [
        "# N=50\n",
        "# recall_dic = {'method':[], 'recall':[] }\n",
        "\n",
        "# column_names = ['similar_items_recomender',\n",
        "#                 'als_recmender',\n",
        "#                 'own_recomender',\n",
        "#                 'own_recomender_extend'\n",
        "# ]\n",
        "# for column_name in column_names:\n",
        "#     recall_dic['method'].append(column_name)\n",
        "#     recall_dic['recall'].append(result_lvl_1.apply(lambda x: recall_at_k(x[column_name], x['actual'],  N), axis=1).mean()) \n",
        "\n",
        "# pd.DataFrame(recall_dic)"
      ]
    },
    {
      "cell_type": "markdown",
      "metadata": {},
      "source": [
        "**Вывод.** \n",
        "\n",
        "Комбинация \"own recommendtions\" + \"top-popular\" не повысила recall по сравнению с \"own recommendtions\". "
      ]
    },
    {
      "cell_type": "markdown",
      "metadata": {},
      "source": [
        "**B)**\\* Как зависит recall@k от k? Постройте для одной схемы генерации кандидатов эту зависимость для k = {20, 50, 100, 200, 500}  "
      ]
    },
    {
      "cell_type": "code",
      "execution_count": 21,
      "metadata": {},
      "outputs": [],
      "source": [
        "# def get_metrics(metric,values):\n",
        "#     metric_values = []\n",
        "#     is_extend_with_top_popular=True\n",
        "#     for k in tqdm(values):\n",
        "#         result_lvl_1[f'own_recomender_{k}'] = result_lvl_1['user_id'].apply(lambda x: recommender. \\\n",
        "#         get_own_recommendations(x, N=k,extend_with_top_popular=is_extend_with_top_popular))\n",
        "#         metric_values.append(result_lvl_1.apply(lambda x: metric(x[f'own_recomender_{k}'],\n",
        "#         x['actual'],  k), axis=1).mean()) \n",
        "#     return metric_values"
      ]
    },
    {
      "cell_type": "code",
      "execution_count": 22,
      "metadata": {},
      "outputs": [],
      "source": [
        "# values = [5, 10, 20, 50, 100, 200, 500]\n",
        "\n",
        "# recall = get_metrics(recall_at_k, values)"
      ]
    },
    {
      "cell_type": "code",
      "execution_count": 23,
      "metadata": {},
      "outputs": [],
      "source": [
        "# plt.plot(values, recall)\n",
        "# plt.ylabel('recall')\n",
        "# plt.xlabel('k')\n",
        "# plt.show()"
      ]
    },
    {
      "cell_type": "markdown",
      "metadata": {},
      "source": [
        "**C)*** Исходя из прошлого вопроса, как вы думаете, какое значение k является наиболее разумным?"
      ]
    },
    {
      "cell_type": "markdown",
      "metadata": {},
      "source": [
        "Для того чтобы ответить на этот вопрос, построим, дополнительно, график precision_at_k."
      ]
    },
    {
      "cell_type": "code",
      "execution_count": 24,
      "metadata": {},
      "outputs": [],
      "source": [
        "# precision = get_metrics(precision_at_k, values)"
      ]
    },
    {
      "cell_type": "code",
      "execution_count": 25,
      "metadata": {},
      "outputs": [],
      "source": [
        "# plt.plot(values, recall, label='recall')\n",
        "# plt.xlabel('k')\n",
        "# plt.plot(values, precision, label='precision')\n",
        "# plt.legend()\n",
        "# plt.show()"
      ]
    },
    {
      "cell_type": "markdown",
      "metadata": {},
      "source": [
        "Видно, что с увеличением к-ва элементов recall  ростет, а precision уменьшается. Выбор значения k во монгом зависит от задачи, все завист от того какой параметр мы хотим максимизировать. \n",
        "Но, в общем случаем оптимальне значение k находится в месте пересечения графиков precision и recall, т.е. ~ 50."
      ]
    },
    {
      "cell_type": "markdown",
      "metadata": {
        "id": "bAHJu3Z5C4Ju"
      },
      "source": [
        "### Задание 2.\n",
        "\n",
        "Обучите модель 2-ого уровня, при этом:  \n",
        "    - Добавьте минимум по 2 фичи для юзера, товара и пары юзер-товар  \n",
        "    - Измерьте отдельно precision@5 модели 1-ого уровня и двухуровневой модели на data_val_lvl_2  \n",
        "    - Вырос ли precision@5 при использовании двухуровневой модели?  "
      ]
    },
    {
      "cell_type": "code",
      "execution_count": 26,
      "metadata": {},
      "outputs": [
        {
          "data": {
            "text/html": [
              "<div>\n",
              "<style scoped>\n",
              "    .dataframe tbody tr th:only-of-type {\n",
              "        vertical-align: middle;\n",
              "    }\n",
              "\n",
              "    .dataframe tbody tr th {\n",
              "        vertical-align: top;\n",
              "    }\n",
              "\n",
              "    .dataframe thead th {\n",
              "        text-align: right;\n",
              "    }\n",
              "</style>\n",
              "<table border=\"1\" class=\"dataframe\">\n",
              "  <thead>\n",
              "    <tr style=\"text-align: right;\">\n",
              "      <th></th>\n",
              "      <th>user_id</th>\n",
              "      <th>basket_id</th>\n",
              "      <th>day</th>\n",
              "      <th>item_id</th>\n",
              "      <th>quantity</th>\n",
              "      <th>sales_value</th>\n",
              "      <th>store_id</th>\n",
              "      <th>retail_disc</th>\n",
              "      <th>trans_time</th>\n",
              "      <th>week_no</th>\n",
              "      <th>coupon_disc</th>\n",
              "      <th>coupon_match_disc</th>\n",
              "      <th>week_day</th>\n",
              "    </tr>\n",
              "  </thead>\n",
              "  <tbody>\n",
              "    <tr>\n",
              "      <th>0</th>\n",
              "      <td>2375</td>\n",
              "      <td>26984851472</td>\n",
              "      <td>1</td>\n",
              "      <td>1004906</td>\n",
              "      <td>1</td>\n",
              "      <td>1.39</td>\n",
              "      <td>364</td>\n",
              "      <td>-0.6</td>\n",
              "      <td>1631</td>\n",
              "      <td>1</td>\n",
              "      <td>0.0</td>\n",
              "      <td>0.0</td>\n",
              "      <td>3</td>\n",
              "    </tr>\n",
              "    <tr>\n",
              "      <th>1</th>\n",
              "      <td>2375</td>\n",
              "      <td>26984851472</td>\n",
              "      <td>1</td>\n",
              "      <td>1033142</td>\n",
              "      <td>1</td>\n",
              "      <td>0.82</td>\n",
              "      <td>364</td>\n",
              "      <td>0.0</td>\n",
              "      <td>1631</td>\n",
              "      <td>1</td>\n",
              "      <td>0.0</td>\n",
              "      <td>0.0</td>\n",
              "      <td>3</td>\n",
              "    </tr>\n",
              "  </tbody>\n",
              "</table>\n",
              "</div>"
            ],
            "text/plain": [
              "   user_id    basket_id  day  item_id  quantity  sales_value  store_id  \\\n",
              "0     2375  26984851472    1  1004906         1         1.39       364   \n",
              "1     2375  26984851472    1  1033142         1         0.82       364   \n",
              "\n",
              "   retail_disc  trans_time  week_no  coupon_disc  coupon_match_disc  week_day  \n",
              "0         -0.6        1631        1          0.0                0.0         3  \n",
              "1          0.0        1631        1          0.0                0.0         3  "
            ]
          },
          "execution_count": 26,
          "metadata": {},
          "output_type": "execute_result"
        }
      ],
      "source": [
        "data.head(2)"
      ]
    },
    {
      "cell_type": "code",
      "execution_count": 27,
      "metadata": {},
      "outputs": [],
      "source": [
        "data_gr = data.groupby('basket_id').mean()"
      ]
    },
    {
      "cell_type": "markdown",
      "metadata": {},
      "source": [
        "### Заполним фитчи User-ов."
      ]
    },
    {
      "cell_type": "code",
      "execution_count": 28,
      "metadata": {},
      "outputs": [],
      "source": [
        "user_features['median_quantity'] = user_features['user_id'].apply(lambda x: \n",
        "                                data_gr.loc[(data_gr['user_id']==x),'quantity'].median())\n",
        "user_features['mean_sales_value'] = user_features['user_id'].apply(lambda x: \n",
        "                                data_gr.loc[(data_gr['user_id']==x),'sales_value'].mean())"
      ]
    },
    {
      "cell_type": "code",
      "execution_count": 29,
      "metadata": {},
      "outputs": [],
      "source": [
        "for i in [1,2,3,4,5,6,7]:\n",
        "    data_gr[f\"day_{i}\"] = np.where((data_gr['week_day'] == i),1,0)"
      ]
    },
    {
      "cell_type": "code",
      "execution_count": 30,
      "metadata": {},
      "outputs": [],
      "source": [
        "week_count = data['week_no'].max()\n",
        "\n",
        "def mean_quantity_in_week(user_id):\n",
        "    days = 0\n",
        "    for i in [1,2,3,4,5,6,7]:\n",
        "       days += data_gr.loc[(data_gr['user_id']==user_id),f'day_{i}'].sum()\n",
        "    days /=week_count\n",
        "    return int(np.round(days))"
      ]
    },
    {
      "cell_type": "code",
      "execution_count": 31,
      "metadata": {},
      "outputs": [],
      "source": [
        "user_features['mean_quantity_in_week'] = user_features['user_id'].apply(lambda x: mean_quantity_in_week(x))"
      ]
    },
    {
      "cell_type": "code",
      "execution_count": 32,
      "metadata": {},
      "outputs": [
        {
          "data": {
            "text/html": [
              "<div>\n",
              "<style scoped>\n",
              "    .dataframe tbody tr th:only-of-type {\n",
              "        vertical-align: middle;\n",
              "    }\n",
              "\n",
              "    .dataframe tbody tr th {\n",
              "        vertical-align: top;\n",
              "    }\n",
              "\n",
              "    .dataframe thead th {\n",
              "        text-align: right;\n",
              "    }\n",
              "</style>\n",
              "<table border=\"1\" class=\"dataframe\">\n",
              "  <thead>\n",
              "    <tr style=\"text-align: right;\">\n",
              "      <th></th>\n",
              "      <th>age_desc</th>\n",
              "      <th>marital_status_code</th>\n",
              "      <th>income_desc</th>\n",
              "      <th>homeowner_desc</th>\n",
              "      <th>hh_comp_desc</th>\n",
              "      <th>household_size_desc</th>\n",
              "      <th>kid_category_desc</th>\n",
              "      <th>user_id</th>\n",
              "      <th>median_quantity</th>\n",
              "      <th>mean_sales_value</th>\n",
              "      <th>mean_quantity_in_week</th>\n",
              "    </tr>\n",
              "  </thead>\n",
              "  <tbody>\n",
              "    <tr>\n",
              "      <th>0</th>\n",
              "      <td>65</td>\n",
              "      <td>A</td>\n",
              "      <td>42</td>\n",
              "      <td>Homeowner</td>\n",
              "      <td>2 Adults No Kids</td>\n",
              "      <td>2</td>\n",
              "      <td>None/Unknown</td>\n",
              "      <td>1</td>\n",
              "      <td>1.100000</td>\n",
              "      <td>2.726818</td>\n",
              "      <td>1</td>\n",
              "    </tr>\n",
              "    <tr>\n",
              "      <th>1</th>\n",
              "      <td>50</td>\n",
              "      <td>A</td>\n",
              "      <td>62</td>\n",
              "      <td>Homeowner</td>\n",
              "      <td>2 Adults No Kids</td>\n",
              "      <td>2</td>\n",
              "      <td>None/Unknown</td>\n",
              "      <td>7</td>\n",
              "      <td>1.181818</td>\n",
              "      <td>2.989986</td>\n",
              "      <td>1</td>\n",
              "    </tr>\n",
              "  </tbody>\n",
              "</table>\n",
              "</div>"
            ],
            "text/plain": [
              "   age_desc marital_status_code  income_desc homeowner_desc      hh_comp_desc  \\\n",
              "0        65                   A           42      Homeowner  2 Adults No Kids   \n",
              "1        50                   A           62      Homeowner  2 Adults No Kids   \n",
              "\n",
              "  household_size_desc kid_category_desc  user_id  median_quantity  \\\n",
              "0                   2      None/Unknown        1         1.100000   \n",
              "1                   2      None/Unknown        7         1.181818   \n",
              "\n",
              "   mean_sales_value  mean_quantity_in_week  \n",
              "0          2.726818                      1  \n",
              "1          2.989986                      1  "
            ]
          },
          "execution_count": 32,
          "metadata": {},
          "output_type": "execute_result"
        }
      ],
      "source": [
        "user_features.head(2)"
      ]
    },
    {
      "cell_type": "code",
      "execution_count": 33,
      "metadata": {},
      "outputs": [
        {
          "data": {
            "text/html": [
              "<div>\n",
              "<style scoped>\n",
              "    .dataframe tbody tr th:only-of-type {\n",
              "        vertical-align: middle;\n",
              "    }\n",
              "\n",
              "    .dataframe tbody tr th {\n",
              "        vertical-align: top;\n",
              "    }\n",
              "\n",
              "    .dataframe thead th {\n",
              "        text-align: right;\n",
              "    }\n",
              "</style>\n",
              "<table border=\"1\" class=\"dataframe\">\n",
              "  <thead>\n",
              "    <tr style=\"text-align: right;\">\n",
              "      <th></th>\n",
              "      <th>item_id</th>\n",
              "      <th>manufacturer</th>\n",
              "      <th>department</th>\n",
              "      <th>brand</th>\n",
              "      <th>commodity_desc</th>\n",
              "      <th>sub_commodity_desc</th>\n",
              "      <th>curr_size_of_product</th>\n",
              "    </tr>\n",
              "  </thead>\n",
              "  <tbody>\n",
              "    <tr>\n",
              "      <th>0</th>\n",
              "      <td>25671</td>\n",
              "      <td>2</td>\n",
              "      <td>GROCERY</td>\n",
              "      <td>National</td>\n",
              "      <td>FRZN ICE</td>\n",
              "      <td>ICE - CRUSHED/CUBED</td>\n",
              "      <td>22 LB</td>\n",
              "    </tr>\n",
              "    <tr>\n",
              "      <th>1</th>\n",
              "      <td>26081</td>\n",
              "      <td>2</td>\n",
              "      <td>MISC. TRANS.</td>\n",
              "      <td>National</td>\n",
              "      <td>NO COMMODITY DESCRIPTION</td>\n",
              "      <td>NO SUBCOMMODITY DESCRIPTION</td>\n",
              "      <td></td>\n",
              "    </tr>\n",
              "  </tbody>\n",
              "</table>\n",
              "</div>"
            ],
            "text/plain": [
              "   item_id  manufacturer    department     brand            commodity_desc  \\\n",
              "0    25671             2       GROCERY  National                  FRZN ICE   \n",
              "1    26081             2  MISC. TRANS.  National  NO COMMODITY DESCRIPTION   \n",
              "\n",
              "            sub_commodity_desc curr_size_of_product  \n",
              "0          ICE - CRUSHED/CUBED                22 LB  \n",
              "1  NO SUBCOMMODITY DESCRIPTION                       "
            ]
          },
          "execution_count": 33,
          "metadata": {},
          "output_type": "execute_result"
        }
      ],
      "source": [
        "item_features.head(2)"
      ]
    },
    {
      "cell_type": "markdown",
      "metadata": {},
      "source": [
        "### добавим фитчи item-ов"
      ]
    },
    {
      "cell_type": "code",
      "execution_count": 34,
      "metadata": {},
      "outputs": [],
      "source": [
        "item_features_temp = item_features.merge(data, on='item_id', how='left')"
      ]
    },
    {
      "cell_type": "code",
      "execution_count": 35,
      "metadata": {},
      "outputs": [],
      "source": [
        "# Средняя стоимость товара в категории.\n",
        "\n",
        "item_price = item_features_temp.groupby(['item_id','commodity_desc'])['sales_value'].mean().reset_index()\n",
        "item_price.columns= ['item_id','commodity_desc','sales_value']\n",
        "commoditys_desc = item_price['commodity_desc'].unique()\n",
        "\n",
        "item_price['commodity_desc_mean_sale']=np.NaN\n",
        "\n",
        "for commodity_desc in commoditys_desc:\n",
        "    mean_value = item_price.loc[(item_price['commodity_desc']==commodity_desc),'sales_value'].mean()\n",
        "    item_price.loc[(item_price['commodity_desc']==commodity_desc),'commodity_desc_mean_sale'] = mean_value\n",
        "# item_features_temp.loc[(item_features_temp['commodity_desc']=='NO COMMODITY DESCRIPTION'),'sales_value']\n",
        "item_price.loc[(item_price['commodity_desc']=='NO COMMODITY DESCRIPTION'),'sales_value']\n",
        "# item_price\n",
        "item_features = item_features.merge(item_price[['item_id','commodity_desc_mean_sale']], on='item_id',how='left')"
      ]
    },
    {
      "cell_type": "code",
      "execution_count": 36,
      "metadata": {},
      "outputs": [],
      "source": [
        "# К-во покупок в неделю.\n",
        "\n",
        "quantity_count = item_features_temp.groupby(['item_id'])['quantity'].sum().reset_index()\n",
        "\n",
        "quantity_count.columns = ['item_id','quantity']\n",
        "# data.loc[(data['item_id']==25671)]\n",
        "# quantity_count\n",
        "quantity_in_week = item_features_temp.groupby(['item_id'])['week_no'].unique().reset_index()\n",
        "\n",
        "quantity_in_week.columns = ['item_id','weeks']\n",
        "# quantity_in_week\n",
        "quantity_in_week['weeks_count'] = quantity_in_week['weeks'].apply(lambda x: len(x))\n",
        "# item_feature_temp = item_feature_temp.merge(if_week, on='item_id', how='left')\n",
        "quantity_in_week['sale_in_week'] = quantity_count['quantity']/quantity_in_week['weeks_count']  \n",
        "# quantity_in_week\n",
        "item_features = item_features.merge(quantity_in_week[['item_id','sale_in_week']], on='item_id',how='left')"
      ]
    },
    {
      "cell_type": "code",
      "execution_count": 37,
      "metadata": {
        "id": "XZQcrch7C4Ju"
      },
      "outputs": [],
      "source": [
        "def perpare_lvl2(data,N=50):\n",
        "    users_lvl_2 = pd.DataFrame(data['user_id'].unique()) # Добавим туда еще фитчи user-ов и item-ов.\n",
        "    users_lvl_2.columns = ['user_id']\n",
        "\n",
        "    # Пока только warm start\n",
        "    users_lvl_2 = users_lvl_2[users_lvl_2['user_id'].isin(data_train_lvl_1['user_id'].unique())]\n",
        "\n",
        "    # Заполняем кандидатов, на основе предсказания модели 1-го уровня.\n",
        "    users_lvl_2['candidates'] = users_lvl_2['user_id'].apply(lambda x: recommender.get_own_recommendations(x, N=N))\n",
        "    # test_users = data\n",
        "    s = users_lvl_2.apply(lambda x: pd.Series(x['candidates']), axis=1).stack().reset_index(level=1, drop=True)\n",
        "    s.name = 'item_id'\n",
        "\n",
        "    # Это кандидаты. (т.е. предпологаемые покупки совершенные на основе предсказаний.)\n",
        "    users_lvl_2 = users_lvl_2.drop('candidates', axis=1).join(s)\n",
        "    users_lvl_2['drop'] = 1  # фиктивная переменная\n",
        "\n",
        "    # Создадим таблицу с реальными покупками user-ов. \n",
        "    targets_lvl_2 = data[['user_id', 'item_id']].copy()\n",
        "    targets_lvl_2['target'] = 1  # тут только покупки \n",
        "\n",
        "    # Объединим предпологаемые покупки с реальными, совершенными user-ами.\n",
        "    targets_lvl_2 = users_lvl_2.merge(targets_lvl_2, on=['user_id', 'item_id'], how='left')\n",
        "\n",
        "    # В результате, напротив товаров, в редсказании которых мы ошиблись, \n",
        "    # будет стоять Nan. Заполним их  нулями.  \n",
        "    targets_lvl_2['target'].fillna(0, inplace= True)\n",
        "    targets_lvl_2.drop('drop', axis=1, inplace=True)\n",
        "    targets_lvl_2['target'].mean() #Угадали примерно 17% покупок.\n",
        "\n",
        "    # Добавим к нашему датасету фичи user-ов и item-ов.\n",
        "    targets_lvl_2 = targets_lvl_2.merge(item_features, on='item_id', how='left')\n",
        "    targets_lvl_2 = targets_lvl_2.merge(user_features, on='user_id', how='left')\n",
        "\n",
        "    X_ = targets_lvl_2.drop('target', axis=1)\n",
        "    y_ = targets_lvl_2[['target']]\n",
        "    return X_, y_ "
      ]
    },
    {
      "cell_type": "code",
      "execution_count": 38,
      "metadata": {},
      "outputs": [],
      "source": [
        "X_train, y_train = perpare_lvl2(data_train_lvl_2, N=200)"
      ]
    },
    {
      "cell_type": "code",
      "execution_count": 39,
      "metadata": {},
      "outputs": [],
      "source": [
        "X_test, y_test = perpare_lvl2(data_val_lvl_2, N=200)"
      ]
    },
    {
      "cell_type": "code",
      "execution_count": 40,
      "metadata": {},
      "outputs": [
        {
          "data": {
            "text/html": [
              "<div>\n",
              "<style scoped>\n",
              "    .dataframe tbody tr th:only-of-type {\n",
              "        vertical-align: middle;\n",
              "    }\n",
              "\n",
              "    .dataframe tbody tr th {\n",
              "        vertical-align: top;\n",
              "    }\n",
              "\n",
              "    .dataframe thead th {\n",
              "        text-align: right;\n",
              "    }\n",
              "</style>\n",
              "<table border=\"1\" class=\"dataframe\">\n",
              "  <thead>\n",
              "    <tr style=\"text-align: right;\">\n",
              "      <th></th>\n",
              "      <th>user_id</th>\n",
              "      <th>item_id</th>\n",
              "      <th>manufacturer</th>\n",
              "      <th>department</th>\n",
              "      <th>brand</th>\n",
              "      <th>commodity_desc</th>\n",
              "      <th>sub_commodity_desc</th>\n",
              "      <th>curr_size_of_product</th>\n",
              "      <th>commodity_desc_mean_sale</th>\n",
              "      <th>sale_in_week</th>\n",
              "      <th>age_desc</th>\n",
              "      <th>marital_status_code</th>\n",
              "      <th>income_desc</th>\n",
              "      <th>homeowner_desc</th>\n",
              "      <th>hh_comp_desc</th>\n",
              "      <th>household_size_desc</th>\n",
              "      <th>kid_category_desc</th>\n",
              "      <th>median_quantity</th>\n",
              "      <th>mean_sales_value</th>\n",
              "      <th>mean_quantity_in_week</th>\n",
              "    </tr>\n",
              "  </thead>\n",
              "  <tbody>\n",
              "    <tr>\n",
              "      <th>0</th>\n",
              "      <td>2070</td>\n",
              "      <td>834103</td>\n",
              "      <td>2224</td>\n",
              "      <td>GROCERY</td>\n",
              "      <td>National</td>\n",
              "      <td>SOFT DRINKS</td>\n",
              "      <td>SFT DRNK SNGL SRV BTL CARB (EX</td>\n",
              "      <td>20 OZ</td>\n",
              "      <td>2.705525</td>\n",
              "      <td>6.744444</td>\n",
              "      <td>50.0</td>\n",
              "      <td>U</td>\n",
              "      <td>62.0</td>\n",
              "      <td>Unknown</td>\n",
              "      <td>Unknown</td>\n",
              "      <td>1</td>\n",
              "      <td>None/Unknown</td>\n",
              "      <td>1.0</td>\n",
              "      <td>2.413486</td>\n",
              "      <td>6.0</td>\n",
              "    </tr>\n",
              "    <tr>\n",
              "      <th>1</th>\n",
              "      <td>2070</td>\n",
              "      <td>834103</td>\n",
              "      <td>2224</td>\n",
              "      <td>GROCERY</td>\n",
              "      <td>National</td>\n",
              "      <td>SOFT DRINKS</td>\n",
              "      <td>SFT DRNK SNGL SRV BTL CARB (EX</td>\n",
              "      <td>20 OZ</td>\n",
              "      <td>2.705525</td>\n",
              "      <td>6.744444</td>\n",
              "      <td>50.0</td>\n",
              "      <td>U</td>\n",
              "      <td>62.0</td>\n",
              "      <td>Unknown</td>\n",
              "      <td>Unknown</td>\n",
              "      <td>1</td>\n",
              "      <td>None/Unknown</td>\n",
              "      <td>1.0</td>\n",
              "      <td>2.413486</td>\n",
              "      <td>6.0</td>\n",
              "    </tr>\n",
              "  </tbody>\n",
              "</table>\n",
              "</div>"
            ],
            "text/plain": [
              "   user_id  item_id  manufacturer department     brand commodity_desc  \\\n",
              "0     2070   834103          2224    GROCERY  National    SOFT DRINKS   \n",
              "1     2070   834103          2224    GROCERY  National    SOFT DRINKS   \n",
              "\n",
              "               sub_commodity_desc curr_size_of_product  \\\n",
              "0  SFT DRNK SNGL SRV BTL CARB (EX                20 OZ   \n",
              "1  SFT DRNK SNGL SRV BTL CARB (EX                20 OZ   \n",
              "\n",
              "   commodity_desc_mean_sale  sale_in_week  age_desc marital_status_code  \\\n",
              "0                  2.705525      6.744444      50.0                   U   \n",
              "1                  2.705525      6.744444      50.0                   U   \n",
              "\n",
              "   income_desc homeowner_desc hh_comp_desc household_size_desc  \\\n",
              "0         62.0        Unknown      Unknown                   1   \n",
              "1         62.0        Unknown      Unknown                   1   \n",
              "\n",
              "  kid_category_desc  median_quantity  mean_sales_value  mean_quantity_in_week  \n",
              "0      None/Unknown              1.0          2.413486                    6.0  \n",
              "1      None/Unknown              1.0          2.413486                    6.0  "
            ]
          },
          "execution_count": 40,
          "metadata": {},
          "output_type": "execute_result"
        }
      ],
      "source": [
        "X_train.head(2)"
      ]
    },
    {
      "cell_type": "code",
      "execution_count": 41,
      "metadata": {},
      "outputs": [
        {
          "name": "stdout",
          "output_type": "stream",
          "text": [
            "['manufacturer', 'department', 'brand', 'commodity_desc', 'sub_commodity_desc', 'curr_size_of_product', 'commodity_desc_mean_sale', 'sale_in_week', 'age_desc', 'marital_status_code', 'income_desc', 'homeowner_desc', 'hh_comp_desc', 'household_size_desc', 'kid_category_desc', 'median_quantity', 'mean_sales_value', 'mean_quantity_in_week']\n"
          ]
        }
      ],
      "source": [
        "cat_feats = X_train.columns[2:].tolist()\n",
        "X_train[cat_feats] = X_train[cat_feats].astype('category')\n",
        "X_test[cat_feats] = X_test[cat_feats].astype('category')\n",
        "\n",
        "print(cat_feats)"
      ]
    },
    {
      "cell_type": "code",
      "execution_count": 42,
      "metadata": {},
      "outputs": [
        {
          "data": {
            "text/plain": [
              "target    0.118853\n",
              "dtype: float64"
            ]
          },
          "execution_count": 42,
          "metadata": {},
          "output_type": "execute_result"
        }
      ],
      "source": [
        "y_train.mean()"
      ]
    },
    {
      "cell_type": "code",
      "execution_count": 43,
      "metadata": {},
      "outputs": [
        {
          "name": "stderr",
          "output_type": "stream",
          "text": [
            "C:\\Users\\eveli\\AppData\\Local\\Programs\\Python\\Python38\\lib\\site-packages\\sklearn\\preprocessing\\_label.py:98: DataConversionWarning: A column-vector y was passed when a 1d array was expected. Please change the shape of y to (n_samples, ), for example using ravel().\n",
            "  y = column_or_1d(y, warn=True)\n",
            "C:\\Users\\eveli\\AppData\\Local\\Programs\\Python\\Python38\\lib\\site-packages\\sklearn\\preprocessing\\_label.py:133: DataConversionWarning: A column-vector y was passed when a 1d array was expected. Please change the shape of y to (n_samples, ), for example using ravel().\n",
            "  y = column_or_1d(y, warn=True)\n",
            "C:\\Users\\eveli\\AppData\\Local\\Programs\\Python\\Python38\\lib\\site-packages\\lightgbm\\basic.py:1513: UserWarning: categorical_column in param dict is overridden.\n",
            "  _log_warning(f'{cat_alias} in param dict is overridden.')\n"
          ]
        },
        {
          "data": {
            "text/plain": [
              "LGBMClassifier(categorical_column=['manufacturer', 'department', 'brand',\n",
              "                                   'commodity_desc', 'sub_commodity_desc',\n",
              "                                   'curr_size_of_product',\n",
              "                                   'commodity_desc_mean_sale', 'sale_in_week',\n",
              "                                   'age_desc', 'marital_status_code',\n",
              "                                   'income_desc', 'homeowner_desc',\n",
              "                                   'hh_comp_desc', 'household_size_desc',\n",
              "                                   'kid_category_desc', 'median_quantity',\n",
              "                                   'mean_sales_value',\n",
              "                                   'mean_quantity_in_week'],\n",
              "               max_depth=7, objective='binary')"
            ]
          },
          "execution_count": 43,
          "metadata": {},
          "output_type": "execute_result"
        }
      ],
      "source": [
        "lgb = LGBMClassifier(objective='binary',\n",
        "                     max_depth=7,\n",
        "                     categorical_column=cat_feats\n",
        "                     )\n",
        "                     \n",
        "lgb.fit(X_train, y_train)"
      ]
    },
    {
      "cell_type": "code",
      "execution_count": 44,
      "metadata": {},
      "outputs": [],
      "source": [
        "train_preds = lgb.predict_proba(X_train)[:,1]"
      ]
    },
    {
      "cell_type": "code",
      "execution_count": 45,
      "metadata": {},
      "outputs": [],
      "source": [
        "x_train_t = X_train.copy()\n",
        "x_train_t['predict'] = train_preds\n",
        "x_train_t['true'] = y_train['target'].values\n",
        "result = x_train_t.sort_values('predict', ascending=False).groupby('user_id')['item_id'].unique().reset_index()"
      ]
    },
    {
      "cell_type": "code",
      "execution_count": 46,
      "metadata": {},
      "outputs": [],
      "source": [
        "overall_top_purchases = x_train_t.groupby('item_id')['item_id'].count()\n",
        "overall_top_purchases = overall_top_purchases.sort_values(ascending=False).index.values"
      ]
    },
    {
      "cell_type": "code",
      "execution_count": 47,
      "metadata": {},
      "outputs": [],
      "source": [
        "def extend_with_top_popular(recommendations, N=5):\n",
        "    \"\"\"Если кол-во рекоммендаций < N, то дополняем их топ-популярными\"\"\"\n",
        "\n",
        "    if len(recommendations) < N:\n",
        "        recommendations.extend(overall_top_purchases[:N])\n",
        "        recommendations = recommendations[:N]\n",
        "\n",
        "    return recommendations"
      ]
    },
    {
      "cell_type": "code",
      "execution_count": 48,
      "metadata": {},
      "outputs": [],
      "source": [
        "def get_items(x_data, data, user_id, item_name,is_extend=True):\n",
        "    items_list = []\n",
        "    items = data.loc[(data['user_id']==user_id),'item_id'].values[0]\n",
        "\n",
        "    for item in items:\n",
        "        flag = x_data.loc[((x_data['user_id']==user_id) & (x_data['item_id']==item)),item_name].mean()\n",
        "        if np.round(flag):\n",
        "            items_list.append(item)\n",
        "    if is_extend:\n",
        "        items_list = extend_with_top_popular(items_list, N=5)\n",
        "    return items_list"
      ]
    },
    {
      "cell_type": "code",
      "execution_count": 49,
      "metadata": {},
      "outputs": [
        {
          "name": "stderr",
          "output_type": "stream",
          "text": [
            " 11%|█         | 233/2084 [04:33<40:08,  1.30s/it]"
          ]
        }
      ],
      "source": [
        "item_name = 'predict'\n",
        "result[item_name] = result['user_id'].progress_apply(lambda x : get_items(x_train_t, result, x, item_name,is_extend=True))\n",
        "\n",
        "item_name = 'true'\n",
        "result[item_name] = result['user_id'].progress_apply(lambda x : get_items(x_train_t, result, x, item_name,is_extend=False))\n",
        "\n",
        "precisions=[]\n",
        "for res in result.iterrows():\n",
        "    predict = res[1]['predict']\n",
        "    true = res[1]['true']\n",
        "    precisions.append(precision_at_k(predict,true,5))"
      ]
    },
    {
      "cell_type": "code",
      "execution_count": null,
      "metadata": {},
      "outputs": [
        {
          "data": {
            "text/plain": [
              "0.20076775431861804"
            ]
          },
          "execution_count": 77,
          "metadata": {},
          "output_type": "execute_result"
        }
      ],
      "source": [
        "np.mean(precisions)"
      ]
    },
    {
      "cell_type": "markdown",
      "metadata": {},
      "source": [
        "### Проверка на тестовой выборке."
      ]
    },
    {
      "cell_type": "code",
      "execution_count": null,
      "metadata": {},
      "outputs": [],
      "source": [
        "test_preds = lgb.predict_proba(X_test)[:,1]"
      ]
    },
    {
      "cell_type": "code",
      "execution_count": null,
      "metadata": {},
      "outputs": [],
      "source": [
        "x_test_t = X_test.copy()\n",
        "x_test_t['predict'] = test_preds\n",
        "x_test_t['true'] = y_test['target'].values\n",
        "result = x_test_t.sort_values('predict', ascending=False).groupby('user_id')['item_id'].unique().reset_index()"
      ]
    },
    {
      "cell_type": "code",
      "execution_count": null,
      "metadata": {},
      "outputs": [
        {
          "name": "stderr",
          "output_type": "stream",
          "text": [
            "100%|██████████| 1968/1968 [01:09<00:00, 28.45it/s]\n",
            "100%|██████████| 1968/1968 [01:13<00:00, 26.91it/s]\n"
          ]
        }
      ],
      "source": [
        "item_name = 'predict'\n",
        "result[item_name] = result['user_id'].progress_apply(lambda x : get_items(x_test_t, result, x, item_name,is_extend=True))\n",
        "\n",
        "item_name = 'true'\n",
        "result[item_name] = result['user_id'].progress_apply(lambda x : get_items(x_test_t, result, x, item_name,is_extend=False))\n",
        "\n",
        "precisions=[]\n",
        "for res in result.iterrows():\n",
        "    predict = res[1]['predict']\n",
        "    true = res[1]['true']\n",
        "    precisions.append(precision_at_k(predict,true,5))"
      ]
    },
    {
      "cell_type": "code",
      "execution_count": null,
      "metadata": {},
      "outputs": [
        {
          "data": {
            "text/plain": [
              "0.14146341463414636"
            ]
          },
          "execution_count": 81,
          "metadata": {},
          "output_type": "execute_result"
        }
      ],
      "source": [
        "np.mean(precisions)"
      ]
    },
    {
      "cell_type": "markdown",
      "metadata": {},
      "source": [
        "# Сравним результирующее качество двухуровневой модели с качеством одноуровневой. "
      ]
    },
    {
      "cell_type": "code",
      "execution_count": null,
      "metadata": {},
      "outputs": [],
      "source": [
        "is_extend_with_top_popular=True\n",
        "k=5\n",
        "result_lvl_1[f'own_recomender_{k}'] = result_lvl_1['user_id'].apply(lambda x: recommender. \\\n",
        "get_own_recommendations(x, N=k,extend_with_top_popular=is_extend_with_top_popular))\n",
        "precission =result_lvl_1.apply(lambda x: precision_at_k(x[f'own_recomender_{k}'], x['actual'],  k), axis=1).mean()"
      ]
    },
    {
      "cell_type": "code",
      "execution_count": null,
      "metadata": {},
      "outputs": [
        {
          "data": {
            "text/plain": [
              "0.24280230326295585"
            ]
          },
          "execution_count": 83,
          "metadata": {},
          "output_type": "execute_result"
        }
      ],
      "source": [
        "precission"
      ]
    },
    {
      "cell_type": "markdown",
      "metadata": {},
      "source": [
        "**Вывод:**\n",
        "Одноуровневая показала к-во выше чем двухуровневая.  "
      ]
    },
    {
      "cell_type": "code",
      "execution_count": null,
      "metadata": {},
      "outputs": [],
      "source": []
    },
    {
      "cell_type": "markdown",
      "metadata": {
        "id": "9FLlIq15C4Ju"
      },
      "source": [
        "### Финальный проект\n",
        "\n",
        "Мы уже прошли всю необходимуб теорию для финального проекта. Проект осуществляется на данных из вебинара (данные считаны в начале ДЗ).\n",
        "Рекомендуем вам **начать делать проект сразу после этого домашнего задания**\n",
        "- Целевая метрика - precision@5. Порог для уcпешной сдачи проекта precision@5 > 25%\n",
        "- Будет public тестовый датасет, на котором вы сможете измерять метрику\n",
        "- Также будет private тестовый датасет для измерения финального качества\n",
        "- НЕ обязательно, но крайне желательно использовать 2-ух уровневые рекоммендательные системы в проекте\n",
        "- Вы сдаете код проекта в виде github репозитория и csv файл с рекомендациями "
      ]
    }
  ],
  "metadata": {
    "colab": {
      "name": "hw_webinar_6.ipynb",
      "provenance": []
    },
    "kernelspec": {
      "display_name": "Python 3",
      "language": "python",
      "name": "python3"
    },
    "language_info": {
      "codemirror_mode": {
        "name": "ipython",
        "version": 3
      },
      "file_extension": ".py",
      "mimetype": "text/x-python",
      "name": "python",
      "nbconvert_exporter": "python",
      "pygments_lexer": "ipython3",
      "version": "3.8.8"
    }
  },
  "nbformat": 4,
  "nbformat_minor": 0
}
