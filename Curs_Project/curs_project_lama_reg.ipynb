{
  "cells": [
    {
      "cell_type": "markdown",
      "metadata": {
        "id": "nMBdGcvjC4Ji"
      },
      "source": [
        "### Финальный проект\n",
        "\n",
        "Мы уже прошли всю необходимуб теорию для финального проекта. Проект осуществляется на данных из вебинара (данные считаны в начале ДЗ).\n",
        "Рекомендуем вам **начать делать проект сразу после этого домашнего задания**  \n",
        "- Целевая метрика - precision@5. Порог для уcпешной сдачи проекта precision@5 > 25%  \n",
        "- Будет public тестовый датасет, на котором вы сможете измерять метрику  \n",
        "- Также будет private тестовый датасет для измерения финального качества  \n",
        "- НЕ обязательно, но крайне желательно использовать 2-ух уровневые рекоммендательные системы в проекте  \n",
        "- Вы сдаете код проекта в виде github репозитория и csv файл с рекомендациями    \n"
      ]
    },
    {
      "cell_type": "markdown",
      "metadata": {
        "id": "3Jgaacz0C4Jl"
      },
      "source": [
        "Код для src, utils, metrics вы можете скачать из [этого](https://github.com/geangohn/recsys-tutorial) github репозитория"
      ]
    },
    {
      "cell_type": "markdown",
      "metadata": {},
      "source": [
        "https://towardsdatascience.com/lightautoml-preset-usage-tutorial-2cce7da6f936"
      ]
    },
    {
      "cell_type": "code",
      "execution_count": 1,
      "metadata": {
        "id": "5Aur99NsC4Jm"
      },
      "outputs": [],
      "source": [
        "import pandas as pd\n",
        "import numpy as np\n",
        "import matplotlib.pyplot as plt\n",
        "%matplotlib inline\n",
        "\n",
        "# Для работы с матрицами\n",
        "from scipy.sparse import csr_matrix\n",
        "\n",
        "# Матричная факторизация\n",
        "from implicit import als\n",
        "from sklearn.model_selection import train_test_split\n",
        "# Модель второго уровня\n",
        "from lightgbm import LGBMClassifier\n",
        "import lightgbm  as lgb \n",
        "import catboost as catb\n",
        "\n",
        "import os, sys\n",
        "module_path = os.path.abspath(os.path.join(os.pardir))\n",
        "if module_path not in sys.path:\n",
        "    sys.path.append(module_path)\n",
        "\n",
        "# Написанные нами функции\n",
        "from src.metrics import precision_at_k, recall_at_k\n",
        "from src.utils import prefilter_items, postfilter_items, popularity_recommendation, perpare_lvl2_1, perpare_lvl2, category_to_digit\n",
        "from src.recommenders import MainRecommender\n",
        "from tqdm import tqdm\n",
        "\n",
        "tqdm.pandas()\n",
        "# from random import random\n",
        "\n",
        "from lightautoml.automl.presets.tabular_presets import TabularAutoML, TabularUtilizedAutoML\n",
        "from lightautoml.tasks import Task\n",
        "from lightautoml.tasks.common_metric import mean_quantile_error"
      ]
    },
    {
      "cell_type": "code",
      "execution_count": 2,
      "metadata": {
        "colab": {
          "base_uri": "https://localhost:8080/",
          "height": 442
        },
        "id": "vso_erSdC4Jo",
        "outputId": "81cbc675-678b-4650-d076-de2e5e1eb4ad"
      },
      "outputs": [],
      "source": [
        "data = pd.read_csv('../raw_data/retail_train.csv')\n",
        "item_features = pd.read_csv('../raw_data/product.csv')\n",
        "user_features = pd.read_csv('../raw_data/hh_demographic.csv')\n",
        "\n",
        "# column processing\n",
        "item_features.columns = [col.lower() for col in item_features.columns]\n",
        "user_features.columns = [col.lower() for col in user_features.columns]\n",
        "\n",
        "item_features.rename(columns={'product_id': 'item_id'}, inplace=True)\n",
        "user_features.rename(columns={'household_key': 'user_id'}, inplace=True)"
      ]
    },
    {
      "cell_type": "code",
      "execution_count": 3,
      "metadata": {},
      "outputs": [],
      "source": [
        "N = 150 # к-во товаров получаемых из модели 1-го уровня.\n",
        "final_predict_count = 30 # К-во рекомендаций выдаваемых\n",
        "val_count = 5 # финальное к-во репомендаций товаров. На них будет осуществляться подсчет к-ва.\n",
        "top_items_count = 5000 #"
      ]
    },
    {
      "cell_type": "markdown",
      "metadata": {},
      "source": [
        "Обзор датасета."
      ]
    },
    {
      "cell_type": "code",
      "execution_count": 4,
      "metadata": {},
      "outputs": [
        {
          "data": {
            "text/html": [
              "<div>\n",
              "<style scoped>\n",
              "    .dataframe tbody tr th:only-of-type {\n",
              "        vertical-align: middle;\n",
              "    }\n",
              "\n",
              "    .dataframe tbody tr th {\n",
              "        vertical-align: top;\n",
              "    }\n",
              "\n",
              "    .dataframe thead th {\n",
              "        text-align: right;\n",
              "    }\n",
              "</style>\n",
              "<table border=\"1\" class=\"dataframe\">\n",
              "  <thead>\n",
              "    <tr style=\"text-align: right;\">\n",
              "      <th></th>\n",
              "      <th>user_id</th>\n",
              "      <th>basket_id</th>\n",
              "      <th>day</th>\n",
              "      <th>item_id</th>\n",
              "      <th>quantity</th>\n",
              "      <th>sales_value</th>\n",
              "      <th>store_id</th>\n",
              "      <th>retail_disc</th>\n",
              "      <th>trans_time</th>\n",
              "      <th>week_no</th>\n",
              "      <th>coupon_disc</th>\n",
              "      <th>coupon_match_disc</th>\n",
              "    </tr>\n",
              "  </thead>\n",
              "  <tbody>\n",
              "    <tr>\n",
              "      <th>0</th>\n",
              "      <td>2375</td>\n",
              "      <td>26984851472</td>\n",
              "      <td>1</td>\n",
              "      <td>1004906</td>\n",
              "      <td>1</td>\n",
              "      <td>1.39</td>\n",
              "      <td>364</td>\n",
              "      <td>-0.6</td>\n",
              "      <td>1631</td>\n",
              "      <td>1</td>\n",
              "      <td>0.0</td>\n",
              "      <td>0.0</td>\n",
              "    </tr>\n",
              "    <tr>\n",
              "      <th>1</th>\n",
              "      <td>2375</td>\n",
              "      <td>26984851472</td>\n",
              "      <td>1</td>\n",
              "      <td>1033142</td>\n",
              "      <td>1</td>\n",
              "      <td>0.82</td>\n",
              "      <td>364</td>\n",
              "      <td>0.0</td>\n",
              "      <td>1631</td>\n",
              "      <td>1</td>\n",
              "      <td>0.0</td>\n",
              "      <td>0.0</td>\n",
              "    </tr>\n",
              "    <tr>\n",
              "      <th>2</th>\n",
              "      <td>2375</td>\n",
              "      <td>26984851472</td>\n",
              "      <td>1</td>\n",
              "      <td>1036325</td>\n",
              "      <td>1</td>\n",
              "      <td>0.99</td>\n",
              "      <td>364</td>\n",
              "      <td>-0.3</td>\n",
              "      <td>1631</td>\n",
              "      <td>1</td>\n",
              "      <td>0.0</td>\n",
              "      <td>0.0</td>\n",
              "    </tr>\n",
              "  </tbody>\n",
              "</table>\n",
              "</div>"
            ],
            "text/plain": [
              "   user_id    basket_id  day  item_id  quantity  sales_value  store_id  \\\n",
              "0     2375  26984851472    1  1004906         1         1.39       364   \n",
              "1     2375  26984851472    1  1033142         1         0.82       364   \n",
              "2     2375  26984851472    1  1036325         1         0.99       364   \n",
              "\n",
              "   retail_disc  trans_time  week_no  coupon_disc  coupon_match_disc  \n",
              "0         -0.6        1631        1          0.0                0.0  \n",
              "1          0.0        1631        1          0.0                0.0  \n",
              "2         -0.3        1631        1          0.0                0.0  "
            ]
          },
          "execution_count": 4,
          "metadata": {},
          "output_type": "execute_result"
        }
      ],
      "source": [
        "data.head(3)"
      ]
    },
    {
      "cell_type": "code",
      "execution_count": 5,
      "metadata": {},
      "outputs": [
        {
          "data": {
            "text/html": [
              "<div>\n",
              "<style scoped>\n",
              "    .dataframe tbody tr th:only-of-type {\n",
              "        vertical-align: middle;\n",
              "    }\n",
              "\n",
              "    .dataframe tbody tr th {\n",
              "        vertical-align: top;\n",
              "    }\n",
              "\n",
              "    .dataframe thead th {\n",
              "        text-align: right;\n",
              "    }\n",
              "</style>\n",
              "<table border=\"1\" class=\"dataframe\">\n",
              "  <thead>\n",
              "    <tr style=\"text-align: right;\">\n",
              "      <th></th>\n",
              "      <th>item_id</th>\n",
              "      <th>manufacturer</th>\n",
              "      <th>department</th>\n",
              "      <th>brand</th>\n",
              "      <th>commodity_desc</th>\n",
              "      <th>sub_commodity_desc</th>\n",
              "      <th>curr_size_of_product</th>\n",
              "    </tr>\n",
              "  </thead>\n",
              "  <tbody>\n",
              "    <tr>\n",
              "      <th>0</th>\n",
              "      <td>25671</td>\n",
              "      <td>2</td>\n",
              "      <td>GROCERY</td>\n",
              "      <td>National</td>\n",
              "      <td>FRZN ICE</td>\n",
              "      <td>ICE - CRUSHED/CUBED</td>\n",
              "      <td>22 LB</td>\n",
              "    </tr>\n",
              "    <tr>\n",
              "      <th>1</th>\n",
              "      <td>26081</td>\n",
              "      <td>2</td>\n",
              "      <td>MISC. TRANS.</td>\n",
              "      <td>National</td>\n",
              "      <td>NO COMMODITY DESCRIPTION</td>\n",
              "      <td>NO SUBCOMMODITY DESCRIPTION</td>\n",
              "      <td></td>\n",
              "    </tr>\n",
              "    <tr>\n",
              "      <th>2</th>\n",
              "      <td>26093</td>\n",
              "      <td>69</td>\n",
              "      <td>PASTRY</td>\n",
              "      <td>Private</td>\n",
              "      <td>BREAD</td>\n",
              "      <td>BREAD:ITALIAN/FRENCH</td>\n",
              "      <td></td>\n",
              "    </tr>\n",
              "  </tbody>\n",
              "</table>\n",
              "</div>"
            ],
            "text/plain": [
              "   item_id  manufacturer    department     brand            commodity_desc  \\\n",
              "0    25671             2       GROCERY  National                  FRZN ICE   \n",
              "1    26081             2  MISC. TRANS.  National  NO COMMODITY DESCRIPTION   \n",
              "2    26093            69        PASTRY   Private                     BREAD   \n",
              "\n",
              "            sub_commodity_desc curr_size_of_product  \n",
              "0          ICE - CRUSHED/CUBED                22 LB  \n",
              "1  NO SUBCOMMODITY DESCRIPTION                       \n",
              "2         BREAD:ITALIAN/FRENCH                       "
            ]
          },
          "execution_count": 5,
          "metadata": {},
          "output_type": "execute_result"
        }
      ],
      "source": [
        "item_features.head(3)"
      ]
    },
    {
      "cell_type": "code",
      "execution_count": 6,
      "metadata": {},
      "outputs": [
        {
          "data": {
            "text/html": [
              "<div>\n",
              "<style scoped>\n",
              "    .dataframe tbody tr th:only-of-type {\n",
              "        vertical-align: middle;\n",
              "    }\n",
              "\n",
              "    .dataframe tbody tr th {\n",
              "        vertical-align: top;\n",
              "    }\n",
              "\n",
              "    .dataframe thead th {\n",
              "        text-align: right;\n",
              "    }\n",
              "</style>\n",
              "<table border=\"1\" class=\"dataframe\">\n",
              "  <thead>\n",
              "    <tr style=\"text-align: right;\">\n",
              "      <th></th>\n",
              "      <th>age_desc</th>\n",
              "      <th>marital_status_code</th>\n",
              "      <th>income_desc</th>\n",
              "      <th>homeowner_desc</th>\n",
              "      <th>hh_comp_desc</th>\n",
              "      <th>household_size_desc</th>\n",
              "      <th>kid_category_desc</th>\n",
              "      <th>user_id</th>\n",
              "    </tr>\n",
              "  </thead>\n",
              "  <tbody>\n",
              "    <tr>\n",
              "      <th>0</th>\n",
              "      <td>65+</td>\n",
              "      <td>A</td>\n",
              "      <td>35-49K</td>\n",
              "      <td>Homeowner</td>\n",
              "      <td>2 Adults No Kids</td>\n",
              "      <td>2</td>\n",
              "      <td>None/Unknown</td>\n",
              "      <td>1</td>\n",
              "    </tr>\n",
              "    <tr>\n",
              "      <th>1</th>\n",
              "      <td>45-54</td>\n",
              "      <td>A</td>\n",
              "      <td>50-74K</td>\n",
              "      <td>Homeowner</td>\n",
              "      <td>2 Adults No Kids</td>\n",
              "      <td>2</td>\n",
              "      <td>None/Unknown</td>\n",
              "      <td>7</td>\n",
              "    </tr>\n",
              "    <tr>\n",
              "      <th>2</th>\n",
              "      <td>25-34</td>\n",
              "      <td>U</td>\n",
              "      <td>25-34K</td>\n",
              "      <td>Unknown</td>\n",
              "      <td>2 Adults Kids</td>\n",
              "      <td>3</td>\n",
              "      <td>1</td>\n",
              "      <td>8</td>\n",
              "    </tr>\n",
              "  </tbody>\n",
              "</table>\n",
              "</div>"
            ],
            "text/plain": [
              "  age_desc marital_status_code income_desc homeowner_desc      hh_comp_desc  \\\n",
              "0      65+                   A      35-49K      Homeowner  2 Adults No Kids   \n",
              "1    45-54                   A      50-74K      Homeowner  2 Adults No Kids   \n",
              "2    25-34                   U      25-34K        Unknown     2 Adults Kids   \n",
              "\n",
              "  household_size_desc kid_category_desc  user_id  \n",
              "0                   2      None/Unknown        1  \n",
              "1                   2      None/Unknown        7  \n",
              "2                   3                 1        8  "
            ]
          },
          "execution_count": 6,
          "metadata": {},
          "output_type": "execute_result"
        }
      ],
      "source": [
        "user_features.head(3)"
      ]
    },
    {
      "cell_type": "markdown",
      "metadata": {},
      "source": [
        "Добавим номера дней недели."
      ]
    },
    {
      "cell_type": "code",
      "execution_count": 7,
      "metadata": {},
      "outputs": [],
      "source": [
        "week_day = {'week_day': []}\n",
        "# считаем номер недели. поле чего вычисляем записи с номеро дня. \n",
        "# определяем номер дня соответствуующий номеру последнему дню недели и после этого начинаем вычетать из него.\n",
        "# номера номера дней. \n",
        "max_week_no = data['week_no'].max()\n",
        "min_week_no = data['week_no'].min()\n",
        "\n",
        "week_days=[]\n",
        "for week_no in range(min_week_no,max_week_no + 1):\n",
        "    max_day_in_week = data.loc[(data['week_no']==week_no),'day'].max()\n",
        "    days = data.loc[(data['week_no']==week_no),'day']\n",
        "    for day in days:\n",
        "        week_days.append(day-max_day_in_week+7)\n",
        "\n",
        "data['week_day'] = week_days"
      ]
    },
    {
      "cell_type": "markdown",
      "metadata": {},
      "source": [
        "### Разделение датасета на тренировочную, тестовую и валидационную выборки."
      ]
    },
    {
      "cell_type": "code",
      "execution_count": 8,
      "metadata": {},
      "outputs": [
        {
          "data": {
            "text/html": [
              "<div>\n",
              "<style scoped>\n",
              "    .dataframe tbody tr th:only-of-type {\n",
              "        vertical-align: middle;\n",
              "    }\n",
              "\n",
              "    .dataframe tbody tr th {\n",
              "        vertical-align: top;\n",
              "    }\n",
              "\n",
              "    .dataframe thead th {\n",
              "        text-align: right;\n",
              "    }\n",
              "</style>\n",
              "<table border=\"1\" class=\"dataframe\">\n",
              "  <thead>\n",
              "    <tr style=\"text-align: right;\">\n",
              "      <th></th>\n",
              "      <th>user_id</th>\n",
              "      <th>basket_id</th>\n",
              "      <th>day</th>\n",
              "      <th>item_id</th>\n",
              "      <th>quantity</th>\n",
              "      <th>sales_value</th>\n",
              "      <th>store_id</th>\n",
              "      <th>retail_disc</th>\n",
              "      <th>trans_time</th>\n",
              "      <th>week_no</th>\n",
              "      <th>coupon_disc</th>\n",
              "      <th>coupon_match_disc</th>\n",
              "      <th>week_day</th>\n",
              "    </tr>\n",
              "  </thead>\n",
              "  <tbody>\n",
              "    <tr>\n",
              "      <th>0</th>\n",
              "      <td>2375</td>\n",
              "      <td>26984851472</td>\n",
              "      <td>1</td>\n",
              "      <td>1004906</td>\n",
              "      <td>1</td>\n",
              "      <td>1.39</td>\n",
              "      <td>364</td>\n",
              "      <td>-0.6</td>\n",
              "      <td>1631</td>\n",
              "      <td>1</td>\n",
              "      <td>0.0</td>\n",
              "      <td>0.0</td>\n",
              "      <td>3</td>\n",
              "    </tr>\n",
              "    <tr>\n",
              "      <th>1</th>\n",
              "      <td>2375</td>\n",
              "      <td>26984851472</td>\n",
              "      <td>1</td>\n",
              "      <td>1033142</td>\n",
              "      <td>1</td>\n",
              "      <td>0.82</td>\n",
              "      <td>364</td>\n",
              "      <td>0.0</td>\n",
              "      <td>1631</td>\n",
              "      <td>1</td>\n",
              "      <td>0.0</td>\n",
              "      <td>0.0</td>\n",
              "      <td>3</td>\n",
              "    </tr>\n",
              "  </tbody>\n",
              "</table>\n",
              "</div>"
            ],
            "text/plain": [
              "   user_id    basket_id  day  item_id  quantity  sales_value  store_id  \\\n",
              "0     2375  26984851472    1  1004906         1         1.39       364   \n",
              "1     2375  26984851472    1  1033142         1         0.82       364   \n",
              "\n",
              "   retail_disc  trans_time  week_no  coupon_disc  coupon_match_disc  week_day  \n",
              "0         -0.6        1631        1          0.0                0.0         3  \n",
              "1          0.0        1631        1          0.0                0.0         3  "
            ]
          },
          "execution_count": 8,
          "metadata": {},
          "output_type": "execute_result"
        }
      ],
      "source": [
        "# Cхема обучения и валидации!\n",
        "# -- давние покупки -- | -- 6 недель -- | -- 3 недель -- \n",
        "# подобрать размер 2-ого датасета (6 недель) --> learning curve (зависимость метрики recall@k от размера датасета)\n",
        "\n",
        "val_lvl_1_size_weeks = 6\n",
        "val_lvl_2_size_weeks = 3\n",
        "\n",
        "data_train_lvl_1 = data[data['week_no'] < data['week_no'].max() - (val_lvl_1_size_weeks + val_lvl_2_size_weeks)]\n",
        "data_val_lvl_1 = data[(data['week_no'] >= data['week_no'].max() - (val_lvl_1_size_weeks + val_lvl_2_size_weeks)) &\n",
        "                      (data['week_no'] < data['week_no'].max() - (val_lvl_2_size_weeks))]\n",
        "\n",
        "data_train_lvl_2 = data_val_lvl_1.copy()  # Для наглядности. Далее мы добавим изменения, и они будут отличаться\n",
        "data_val_lvl_2 = data[data['week_no'] >= data['week_no'].max() - val_lvl_2_size_weeks]\n",
        "\n",
        "data_train_lvl_1.head(2)"
      ]
    },
    {
      "cell_type": "markdown",
      "metadata": {},
      "source": [
        "### Предварительная фильтрация данных."
      ]
    },
    {
      "cell_type": "code",
      "execution_count": 9,
      "metadata": {
        "id": "zcnV3l4XC4Jp",
        "outputId": "d58f889c-0671-4bb9-b2b6-2dc2e8c24fce"
      },
      "outputs": [
        {
          "name": "stdout",
          "output_type": "stream",
          "text": [
            "Decreased # items from 83685 to 5001\n"
          ]
        }
      ],
      "source": [
        "n_items_before = data_train_lvl_1['item_id'].nunique()\n",
        "\n",
        "data_train_lvl_1 = prefilter_items(data_train_lvl_1, item_features=item_features, take_n_popular=top_items_count)\n",
        "\n",
        "n_items_after = data_train_lvl_1['item_id'].nunique()\n",
        "print('Decreased # items from {} to {}'.format(n_items_before, n_items_after))"
      ]
    },
    {
      "cell_type": "code",
      "execution_count": 10,
      "metadata": {},
      "outputs": [],
      "source": [
        "def get_new_values(old_df, new_df,feature):\n",
        "    old_values = old_df[feature].unique()\n",
        "    new_values = new_df[feature].unique()\n",
        "    appended_values = []\n",
        "\n",
        "    for value  in new_values: \n",
        "        if value not in old_values:\n",
        "            appended_values.append(value)\n",
        "        \n",
        "    appended_values = np.unique(appended_values)\n",
        "    return appended_values"
      ]
    },
    {
      "cell_type": "code",
      "execution_count": 11,
      "metadata": {},
      "outputs": [
        {
          "name": "stdout",
          "output_type": "stream",
          "text": [
            "Изначальное к-во: users: 2299, items: 5001\n",
            "1-й уровень  users: +70, items: +22772\n",
            "2-й уровень  users: +74, items: +19567\n"
          ]
        }
      ],
      "source": [
        "first_users_count = len(data_train_lvl_1['user_id'].unique()) \n",
        "first_items_count = len(data_train_lvl_1['item_id'].unique()) \n",
        "\n",
        "new_user_lvl_1 = get_new_values(data_train_lvl_1, data_train_lvl_2 ,'user_id')\n",
        "new_items_lvl_1 = get_new_values(data_train_lvl_1, data_train_lvl_2 ,'item_id')\n",
        "\n",
        "new_user_lvl_2 = get_new_values(data_train_lvl_1, data_val_lvl_2 ,'user_id')\n",
        "new_items_lvl_2 = get_new_values(data_train_lvl_1, data_val_lvl_2 ,'item_id')\n",
        "\n",
        "print(f'Изначальное к-во: users: {first_users_count}, items: {first_items_count}')\n",
        "print(f'1-й уровень  users: +{len(new_user_lvl_1)}, items: +{len(new_items_lvl_1)}')\n",
        "print(f'2-й уровень  users: +{len(new_user_lvl_2)}, items: +{len(new_items_lvl_2)}')"
      ]
    },
    {
      "cell_type": "markdown",
      "metadata": {},
      "source": [
        "### Добавление фитчей User-ов."
      ]
    },
    {
      "cell_type": "code",
      "execution_count": 12,
      "metadata": {},
      "outputs": [],
      "source": [
        "data_gr = data.groupby('basket_id').mean()"
      ]
    },
    {
      "cell_type": "code",
      "execution_count": 13,
      "metadata": {},
      "outputs": [],
      "source": [
        "# Среднее к-во покупаемых товаров.\n",
        "user_features['median_quantity'] = user_features['user_id'].apply(lambda x: \n",
        "                                data_gr.loc[(data_gr['user_id']==x),'quantity'].median())\n",
        "\n",
        "# Средний чек.                                \n",
        "user_features['mean_sales_value'] = user_features['user_id'].apply(lambda x: \n",
        "                                data_gr.loc[(data_gr['user_id']==x),'sales_value'].mean())"
      ]
    },
    {
      "cell_type": "code",
      "execution_count": 14,
      "metadata": {},
      "outputs": [],
      "source": [
        "#  Среднее к-во раз в неделю, которое user ходит в магазин.\n",
        "\n",
        "for i in [1,2,3,4,5,6,7]:\n",
        "    data_gr[f\"day_{i}\"] = np.where((data_gr['week_day'] == i),1,0)\n",
        "    \n",
        "week_count = data['week_no'].max()\n",
        "#-----------------------------------------------\n",
        "def mean_quantity_in_week(user_id):\n",
        "    days = 0\n",
        "    for i in [1,2,3,4,5,6,7]:\n",
        "       days += data_gr.loc[(data_gr['user_id']==user_id),f'day_{i}'].sum()\n",
        "    days /=week_count\n",
        "    return int(np.round(days))\n",
        "\n",
        "#-----------------------------------------------    \n",
        "user_features['mean_quantity_in_week'] = user_features['user_id'].apply(lambda x: mean_quantity_in_week(x))"
      ]
    },
    {
      "cell_type": "code",
      "execution_count": 15,
      "metadata": {},
      "outputs": [
        {
          "data": {
            "text/html": [
              "<div>\n",
              "<style scoped>\n",
              "    .dataframe tbody tr th:only-of-type {\n",
              "        vertical-align: middle;\n",
              "    }\n",
              "\n",
              "    .dataframe tbody tr th {\n",
              "        vertical-align: top;\n",
              "    }\n",
              "\n",
              "    .dataframe thead th {\n",
              "        text-align: right;\n",
              "    }\n",
              "</style>\n",
              "<table border=\"1\" class=\"dataframe\">\n",
              "  <thead>\n",
              "    <tr style=\"text-align: right;\">\n",
              "      <th></th>\n",
              "      <th>age_desc</th>\n",
              "      <th>marital_status_code</th>\n",
              "      <th>income_desc</th>\n",
              "      <th>homeowner_desc</th>\n",
              "      <th>hh_comp_desc</th>\n",
              "      <th>household_size_desc</th>\n",
              "      <th>kid_category_desc</th>\n",
              "      <th>user_id</th>\n",
              "      <th>median_quantity</th>\n",
              "      <th>mean_sales_value</th>\n",
              "      <th>mean_quantity_in_week</th>\n",
              "    </tr>\n",
              "  </thead>\n",
              "  <tbody>\n",
              "    <tr>\n",
              "      <th>0</th>\n",
              "      <td>65+</td>\n",
              "      <td>A</td>\n",
              "      <td>35-49K</td>\n",
              "      <td>Homeowner</td>\n",
              "      <td>2 Adults No Kids</td>\n",
              "      <td>2</td>\n",
              "      <td>None/Unknown</td>\n",
              "      <td>1</td>\n",
              "      <td>1.100000</td>\n",
              "      <td>2.726818</td>\n",
              "      <td>1</td>\n",
              "    </tr>\n",
              "    <tr>\n",
              "      <th>1</th>\n",
              "      <td>45-54</td>\n",
              "      <td>A</td>\n",
              "      <td>50-74K</td>\n",
              "      <td>Homeowner</td>\n",
              "      <td>2 Adults No Kids</td>\n",
              "      <td>2</td>\n",
              "      <td>None/Unknown</td>\n",
              "      <td>7</td>\n",
              "      <td>1.181818</td>\n",
              "      <td>2.989986</td>\n",
              "      <td>1</td>\n",
              "    </tr>\n",
              "  </tbody>\n",
              "</table>\n",
              "</div>"
            ],
            "text/plain": [
              "  age_desc marital_status_code income_desc homeowner_desc      hh_comp_desc  \\\n",
              "0      65+                   A      35-49K      Homeowner  2 Adults No Kids   \n",
              "1    45-54                   A      50-74K      Homeowner  2 Adults No Kids   \n",
              "\n",
              "  household_size_desc kid_category_desc  user_id  median_quantity  \\\n",
              "0                   2      None/Unknown        1         1.100000   \n",
              "1                   2      None/Unknown        7         1.181818   \n",
              "\n",
              "   mean_sales_value  mean_quantity_in_week  \n",
              "0          2.726818                      1  \n",
              "1          2.989986                      1  "
            ]
          },
          "execution_count": 15,
          "metadata": {},
          "output_type": "execute_result"
        }
      ],
      "source": [
        "user_features.head(2)"
      ]
    },
    {
      "cell_type": "markdown",
      "metadata": {},
      "source": [
        "### Приведение категориальных фитчей к числовому типу."
      ]
    },
    {
      "cell_type": "code",
      "execution_count": 16,
      "metadata": {},
      "outputs": [
        {
          "name": "stdout",
          "output_type": "stream",
          "text": [
            "income_desc\n",
            "['35-49K' '50-74K' '25-34K' '75-99K' 'Under 15K' '100-124K' '15-24K'\n",
            " '125-149K' '150-174K' '250K+' '175-199K' '200-249K']\n",
            "--------------------\n",
            "age_desc\n",
            "['65+' '45-54' '25-34' '35-44' '19-24' '55-64']\n",
            "--------------------\n",
            "homeowner_desc\n",
            "['Homeowner' 'Unknown' 'Renter' 'Probable Renter' 'Probable Owner']\n",
            "--------------------\n",
            "kid_category_desc\n",
            "['None/Unknown' '1' '2' '3+']\n",
            "--------------------\n",
            "household_size_desc\n",
            "['2' '3' '4' '1' '5+']\n",
            "--------------------\n",
            "hh_comp_desc\n",
            "['2 Adults No Kids' '2 Adults Kids' 'Single Female' 'Unknown'\n",
            " 'Single Male' '1 Adult Kids']\n",
            "--------------------\n"
          ]
        }
      ],
      "source": [
        "### Список категориальных фитчей ктороые мы будем разбирать.\n",
        "features=['income_desc','age_desc','homeowner_desc','kid_category_desc','household_size_desc','hh_comp_desc']\n",
        "for feature_name in features:\n",
        "    print(feature_name)\n",
        "    print(user_features[feature_name].unique())\n",
        "    print('-'*20)"
      ]
    },
    {
      "cell_type": "code",
      "execution_count": 17,
      "metadata": {},
      "outputs": [],
      "source": [
        "income_desc = {'35-49K':42, '50-74K':62, '25-34K':30, '75-99K':87, 'Under 15K':15, '100-124K':112,\n",
        "       '15-24K':20, '125-149K':137, '150-174K':162, '250K+':250, '175-199K':187, '200-249K':225}\n",
        "       \n",
        "user_features['income_desc'] = user_features['income_desc'].apply(lambda x: income_desc[x]) \n",
        "\n",
        "age_desc = {'65+':65, '45-54':50, '25-34':30, '35-44':40, '19-24':21, '55-64':60}\t\n",
        "\n",
        "user_features['age_desc'] = user_features['age_desc'].apply(lambda x: age_desc[x])"
      ]
    },
    {
      "cell_type": "code",
      "execution_count": 18,
      "metadata": {},
      "outputs": [],
      "source": [
        "household_size_desc = {np.nan: 0, '1':1, '2':2, '3':3, '4':4, '5+':5 }\n",
        "\n",
        "user_features['household_size_desc'] = user_features['household_size_desc'].apply(lambda x: household_size_desc[x])"
      ]
    },
    {
      "cell_type": "code",
      "execution_count": 19,
      "metadata": {},
      "outputs": [],
      "source": [
        "kid_category_desc = {'None/Unknown':0, np.nan: 0, '1':1, '2':2, '3+':3 }\n",
        "\n",
        "user_features['kid_category_desc'] = user_features['kid_category_desc'].apply(lambda x: kid_category_desc[x])"
      ]
    },
    {
      "cell_type": "code",
      "execution_count": 20,
      "metadata": {},
      "outputs": [],
      "source": [
        "user_features[['hh_comp_desc_female', 'hh_comp_desc_male', 'hh_comp_desc_Adults_Kids']] = 0\n",
        "user_features['hh_comp_desc_female'] = np.where((user_features['hh_comp_desc'] !='Single Male'), 1, 0)\n",
        "user_features['hh_comp_desc_male'] = np.where((user_features['hh_comp_desc'] !='Single Female'), 1, 0)\n",
        "user_features.loc[(user_features['hh_comp_desc']=='2 Adults Kids'), 'hh_comp_desc_Adults_Kids'] = 2\n",
        "user_features.loc[(user_features['hh_comp_desc']=='1 Adult Kids'), 'hh_comp_desc_Adults_Kids'] = 1\n",
        "user_features.loc[(user_features['hh_comp_desc'].isna()), ['hh_comp_desc_female','hh_comp_desc_male']] = 0\n",
        "user_features.loc[(user_features['hh_comp_desc']=='Unknown'), ['hh_comp_desc_female','hh_comp_desc_male']] = 0\n",
        "user_features.drop('hh_comp_desc', axis=1, inplace=True)"
      ]
    },
    {
      "cell_type": "code",
      "execution_count": 21,
      "metadata": {},
      "outputs": [
        {
          "data": {
            "text/html": [
              "<div>\n",
              "<style scoped>\n",
              "    .dataframe tbody tr th:only-of-type {\n",
              "        vertical-align: middle;\n",
              "    }\n",
              "\n",
              "    .dataframe tbody tr th {\n",
              "        vertical-align: top;\n",
              "    }\n",
              "\n",
              "    .dataframe thead th {\n",
              "        text-align: right;\n",
              "    }\n",
              "</style>\n",
              "<table border=\"1\" class=\"dataframe\">\n",
              "  <thead>\n",
              "    <tr style=\"text-align: right;\">\n",
              "      <th></th>\n",
              "      <th>age_desc</th>\n",
              "      <th>marital_status_code</th>\n",
              "      <th>income_desc</th>\n",
              "      <th>homeowner_desc</th>\n",
              "      <th>household_size_desc</th>\n",
              "      <th>kid_category_desc</th>\n",
              "      <th>user_id</th>\n",
              "      <th>median_quantity</th>\n",
              "      <th>mean_sales_value</th>\n",
              "      <th>mean_quantity_in_week</th>\n",
              "      <th>hh_comp_desc_female</th>\n",
              "      <th>hh_comp_desc_male</th>\n",
              "      <th>hh_comp_desc_Adults_Kids</th>\n",
              "    </tr>\n",
              "  </thead>\n",
              "  <tbody>\n",
              "    <tr>\n",
              "      <th>0</th>\n",
              "      <td>65</td>\n",
              "      <td>A</td>\n",
              "      <td>42</td>\n",
              "      <td>Homeowner</td>\n",
              "      <td>2</td>\n",
              "      <td>0</td>\n",
              "      <td>1</td>\n",
              "      <td>1.100000</td>\n",
              "      <td>2.726818</td>\n",
              "      <td>1</td>\n",
              "      <td>1</td>\n",
              "      <td>1</td>\n",
              "      <td>0</td>\n",
              "    </tr>\n",
              "    <tr>\n",
              "      <th>1</th>\n",
              "      <td>50</td>\n",
              "      <td>A</td>\n",
              "      <td>62</td>\n",
              "      <td>Homeowner</td>\n",
              "      <td>2</td>\n",
              "      <td>0</td>\n",
              "      <td>7</td>\n",
              "      <td>1.181818</td>\n",
              "      <td>2.989986</td>\n",
              "      <td>1</td>\n",
              "      <td>1</td>\n",
              "      <td>1</td>\n",
              "      <td>0</td>\n",
              "    </tr>\n",
              "  </tbody>\n",
              "</table>\n",
              "</div>"
            ],
            "text/plain": [
              "   age_desc marital_status_code  income_desc homeowner_desc  \\\n",
              "0        65                   A           42      Homeowner   \n",
              "1        50                   A           62      Homeowner   \n",
              "\n",
              "   household_size_desc  kid_category_desc  user_id  median_quantity  \\\n",
              "0                    2                  0        1         1.100000   \n",
              "1                    2                  0        7         1.181818   \n",
              "\n",
              "   mean_sales_value  mean_quantity_in_week  hh_comp_desc_female  \\\n",
              "0          2.726818                      1                    1   \n",
              "1          2.989986                      1                    1   \n",
              "\n",
              "   hh_comp_desc_male  hh_comp_desc_Adults_Kids  \n",
              "0                  1                         0  \n",
              "1                  1                         0  "
            ]
          },
          "execution_count": 21,
          "metadata": {},
          "output_type": "execute_result"
        }
      ],
      "source": [
        "user_features.head(2)"
      ]
    },
    {
      "cell_type": "code",
      "execution_count": 22,
      "metadata": {},
      "outputs": [
        {
          "data": {
            "text/html": [
              "<div>\n",
              "<style scoped>\n",
              "    .dataframe tbody tr th:only-of-type {\n",
              "        vertical-align: middle;\n",
              "    }\n",
              "\n",
              "    .dataframe tbody tr th {\n",
              "        vertical-align: top;\n",
              "    }\n",
              "\n",
              "    .dataframe thead th {\n",
              "        text-align: right;\n",
              "    }\n",
              "</style>\n",
              "<table border=\"1\" class=\"dataframe\">\n",
              "  <thead>\n",
              "    <tr style=\"text-align: right;\">\n",
              "      <th></th>\n",
              "      <th>item_id</th>\n",
              "      <th>manufacturer</th>\n",
              "      <th>department</th>\n",
              "      <th>brand</th>\n",
              "      <th>commodity_desc</th>\n",
              "      <th>sub_commodity_desc</th>\n",
              "      <th>curr_size_of_product</th>\n",
              "    </tr>\n",
              "  </thead>\n",
              "  <tbody>\n",
              "    <tr>\n",
              "      <th>0</th>\n",
              "      <td>25671</td>\n",
              "      <td>2</td>\n",
              "      <td>GROCERY</td>\n",
              "      <td>National</td>\n",
              "      <td>FRZN ICE</td>\n",
              "      <td>ICE - CRUSHED/CUBED</td>\n",
              "      <td>22 LB</td>\n",
              "    </tr>\n",
              "    <tr>\n",
              "      <th>1</th>\n",
              "      <td>26081</td>\n",
              "      <td>2</td>\n",
              "      <td>MISC. TRANS.</td>\n",
              "      <td>National</td>\n",
              "      <td>NO COMMODITY DESCRIPTION</td>\n",
              "      <td>NO SUBCOMMODITY DESCRIPTION</td>\n",
              "      <td></td>\n",
              "    </tr>\n",
              "  </tbody>\n",
              "</table>\n",
              "</div>"
            ],
            "text/plain": [
              "   item_id  manufacturer    department     brand            commodity_desc  \\\n",
              "0    25671             2       GROCERY  National                  FRZN ICE   \n",
              "1    26081             2  MISC. TRANS.  National  NO COMMODITY DESCRIPTION   \n",
              "\n",
              "            sub_commodity_desc curr_size_of_product  \n",
              "0          ICE - CRUSHED/CUBED                22 LB  \n",
              "1  NO SUBCOMMODITY DESCRIPTION                       "
            ]
          },
          "execution_count": 22,
          "metadata": {},
          "output_type": "execute_result"
        }
      ],
      "source": [
        "item_features.head(2)"
      ]
    },
    {
      "cell_type": "markdown",
      "metadata": {},
      "source": [
        "### Добавление фитчей Item-ов."
      ]
    },
    {
      "cell_type": "code",
      "execution_count": 23,
      "metadata": {},
      "outputs": [],
      "source": [
        "item_features_temp = item_features.merge(data, on='item_id', how='left')"
      ]
    },
    {
      "cell_type": "code",
      "execution_count": 24,
      "metadata": {},
      "outputs": [],
      "source": [
        "# Средняя стоимость товара в категории.\n",
        "\n",
        "item_price = item_features_temp.groupby(['item_id','commodity_desc'])['sales_value'].mean().reset_index()\n",
        "item_price.columns= ['item_id','commodity_desc','sales_value']\n",
        "commoditys_desc = item_price['commodity_desc'].unique()\n",
        "\n",
        "item_price['commodity_desc_mean_sale']=np.NaN\n",
        "\n",
        "for commodity_desc in commoditys_desc:\n",
        "    mean_value = item_price.loc[(item_price['commodity_desc']==commodity_desc),'sales_value'].mean()\n",
        "    item_price.loc[(item_price['commodity_desc']==commodity_desc),'commodity_desc_mean_sale'] = mean_value\n",
        "\n",
        "item_price.loc[(item_price['commodity_desc']=='NO COMMODITY DESCRIPTION'),'sales_value']\n",
        "\n",
        "item_features = item_features.merge(item_price[['item_id','commodity_desc_mean_sale']], on='item_id',how='left')"
      ]
    },
    {
      "cell_type": "code",
      "execution_count": 25,
      "metadata": {},
      "outputs": [],
      "source": [
        "# К-во покупок в неделю.\n",
        "quantity_count = item_features_temp.groupby(['item_id'])['quantity'].sum().reset_index()\n",
        "\n",
        "quantity_count.columns = ['item_id','quantity']\n",
        "\n",
        "quantity_in_week = item_features_temp.groupby(['item_id'])['week_no'].unique().reset_index()\n",
        "\n",
        "quantity_in_week.columns = ['item_id','weeks']\n",
        "\n",
        "quantity_in_week['weeks_count'] = quantity_in_week['weeks'].apply(lambda x: len(x))\n",
        "\n",
        "quantity_in_week['sale_in_week'] = quantity_count['quantity']/quantity_in_week['weeks_count']  \n",
        "\n",
        "item_features = item_features.merge(quantity_in_week[['item_id','sale_in_week']], on='item_id',how='left')"
      ]
    },
    {
      "cell_type": "code",
      "execution_count": 26,
      "metadata": {},
      "outputs": [
        {
          "name": "stderr",
          "output_type": "stream",
          "text": [
            "WARNING:root:OpenBLAS detected. Its highly recommend to set the environment variable 'export OPENBLAS_NUM_THREADS=1' to disable its internal multithreading\n",
            "100%|██████████| 15/15 [00:02<00:00,  5.27it/s]\n",
            "100%|██████████| 5001/5001 [00:00<00:00, 151553.15it/s]\n"
          ]
        }
      ],
      "source": [
        "recommender = MainRecommender(data_train_lvl_1)"
      ]
    },
    {
      "cell_type": "code",
      "execution_count": 27,
      "metadata": {},
      "outputs": [],
      "source": [
        "# def perpare_lvl2_1(val_data, train_data, recommender, item_features, user_features, N=50):\n",
        "#     # val_data = data_train_lvl_2.copy()\n",
        "#     # train_data = data_train_lvl_1.copy()\n",
        "\n",
        "#     users_warm = pd.DataFrame(val_data['user_id'].unique()) # Добавим туда еще фитчи user-ов и item-ов.\n",
        "#     users_warm.columns = ['user_id']\n",
        "#     # Пока только warm start\n",
        "#     users_warm = users_warm[users_warm['user_id'].isin(train_data['user_id'].unique())]\n",
        "\n",
        "#     users_cold = pd.DataFrame(val_data['user_id'].unique()) # Добавим туда еще фитчи user-ов и item-ов.\n",
        "#     users_cold.columns = ['user_id']\n",
        "#     # cold_start\n",
        "#     users_cold = users_cold[~users_cold['user_id'].isin(users_warm['user_id'].unique())]\n",
        "\n",
        "#     # Заполняем кандидатов, на основе предсказания модели 1-го уровня.\n",
        "#     users_cold['candidates'] = users_cold['user_id'].apply(lambda x: recommender.get_top_popular(N=N))\n",
        "#     s = users_cold.apply(lambda x: pd.Series(x['candidates']), axis=1).stack().reset_index(level=1, drop=True)\n",
        "#     s.name = 'item_id'\n",
        "\n",
        "#     # Это кандидаты. (т.е. предпологаемые покупки совершенные на основе предсказаний.)\n",
        "#     users_cold = users_cold.drop('candidates', axis=1).join(s)\n",
        "#     users_cold['drop'] = 1  # фиктивная переменная\n",
        "#     # Заполняем кандидатов, на основе предсказания модели 1-го уровня.\n",
        "#     users_warm['candidates'] = users_warm['user_id'].apply(lambda x: recommender.get_own_recommendations(x, N=N))\n",
        "#     # test_users = data\n",
        "#     s = users_warm.apply(lambda x: pd.Series(x['candidates']), axis=1).stack().reset_index(level=1, drop=True)\n",
        "#     s.name = 'item_id'\n",
        "\n",
        "#     # Это кандидаты. (т.е. предпологаемые покупки совершенные на основе предсказаний.)\n",
        "#     users_warm = users_warm.drop('candidates', axis=1).join(s)\n",
        "#     users_warm['drop'] = 1  # фиктивная переменная\n",
        "\n",
        "#     # Создадим таблицу с реальными покупками user-ов. \n",
        "#     targets = val_data[['user_id', 'item_id']].copy() # свойства \n",
        "#     targets['target'] = 1  # тут только покупки\n",
        "\n",
        "#     # Объединим предпологаемые покупки с реальными, совершенными user-ами.\n",
        "#     targets_cold = users_cold.merge(targets, on=['user_id', 'item_id'], how='left')\n",
        "\n",
        "#     # В результате, напротив товаров, в редсказании которых мы ошиблись, \n",
        "#     # будет стоять Nan. Заполним их  нулями.  \n",
        "#     targets_cold['target'].fillna(0, inplace= True)\n",
        "#     targets_cold.drop('drop', axis=1, inplace=True)\n",
        "#     # Добавим к нашему датасету фичи user-ов и item-ов.\n",
        "#     targets_cold = targets_cold.merge(item_features, on='item_id', how='left')\n",
        "#     targets_cold = targets_cold.merge(user_features, on='user_id', how='left')\n",
        "\n",
        "#     # Объединим предпологаемые покупки с реальными, совершенными user-ами.\n",
        "#     targets_warm = users_warm.merge(targets, on=['user_id', 'item_id'], how='left')\n",
        "\n",
        "#     # В результате, напротив товаров, в редсказании которых мы ошиблись, \n",
        "#     # будет стоять Nan. Заполним их  нулями.  \n",
        "#     targets_warm['target'].fillna(0, inplace= True)\n",
        "#     targets_warm.drop('drop', axis=1, inplace=True)\n",
        "#     # targets_warm['target'].mean() #Угадали примерно 17% покупок.\n",
        "\n",
        "#     # Добавим к нашему датасету фичи user-ов и item-ов.\n",
        "#     targets_warm = targets_warm.merge(item_features, on='item_id', how='left')\n",
        "#     targets_warm = targets_warm.merge(user_features, on='user_id', how='left')\n",
        "\n",
        "#     targets_lvl_2 = pd.concat([targets_warm, targets_cold], ignore_index=True)\n",
        "\n",
        "#     # X_ = targets_lvl_2.drop('target', axis=1)\n",
        "#     # y_ = targets_lvl_2[['target']]\n",
        "\n",
        "#     return targets_lvl_2"
      ]
    },
    {
      "cell_type": "code",
      "execution_count": 28,
      "metadata": {},
      "outputs": [],
      "source": [
        "train_data = perpare_lvl2_1(data_train_lvl_2, data_train_lvl_1, recommender,item_features, user_features, N=N)"
      ]
    },
    {
      "cell_type": "code",
      "execution_count": 29,
      "metadata": {},
      "outputs": [],
      "source": [
        "test_data = perpare_lvl2_1(data_val_lvl_2, data_train_lvl_1, recommender, item_features, user_features, N=N)"
      ]
    },
    {
      "cell_type": "code",
      "execution_count": 30,
      "metadata": {},
      "outputs": [
        {
          "data": {
            "text/html": [
              "<div>\n",
              "<style scoped>\n",
              "    .dataframe tbody tr th:only-of-type {\n",
              "        vertical-align: middle;\n",
              "    }\n",
              "\n",
              "    .dataframe tbody tr th {\n",
              "        vertical-align: top;\n",
              "    }\n",
              "\n",
              "    .dataframe thead th {\n",
              "        text-align: right;\n",
              "    }\n",
              "</style>\n",
              "<table border=\"1\" class=\"dataframe\">\n",
              "  <thead>\n",
              "    <tr style=\"text-align: right;\">\n",
              "      <th></th>\n",
              "      <th>user_id</th>\n",
              "      <th>item_id</th>\n",
              "      <th>target</th>\n",
              "      <th>manufacturer</th>\n",
              "      <th>department</th>\n",
              "      <th>brand</th>\n",
              "      <th>commodity_desc</th>\n",
              "      <th>sub_commodity_desc</th>\n",
              "      <th>curr_size_of_product</th>\n",
              "      <th>commodity_desc_mean_sale</th>\n",
              "      <th>...</th>\n",
              "      <th>income_desc</th>\n",
              "      <th>homeowner_desc</th>\n",
              "      <th>household_size_desc</th>\n",
              "      <th>kid_category_desc</th>\n",
              "      <th>median_quantity</th>\n",
              "      <th>mean_sales_value</th>\n",
              "      <th>mean_quantity_in_week</th>\n",
              "      <th>hh_comp_desc_female</th>\n",
              "      <th>hh_comp_desc_male</th>\n",
              "      <th>hh_comp_desc_Adults_Kids</th>\n",
              "    </tr>\n",
              "  </thead>\n",
              "  <tbody>\n",
              "    <tr>\n",
              "      <th>0</th>\n",
              "      <td>2070</td>\n",
              "      <td>5569471.0</td>\n",
              "      <td>0.0</td>\n",
              "      <td>1208.0</td>\n",
              "      <td>GROCERY</td>\n",
              "      <td>National</td>\n",
              "      <td>SOFT DRINKS</td>\n",
              "      <td>SOFT DRINKS 12/18&amp;15PK CAN CAR</td>\n",
              "      <td>12 OZ</td>\n",
              "      <td>2.705525</td>\n",
              "      <td>...</td>\n",
              "      <td>62.0</td>\n",
              "      <td>Unknown</td>\n",
              "      <td>1.0</td>\n",
              "      <td>0.0</td>\n",
              "      <td>1.0</td>\n",
              "      <td>2.413486</td>\n",
              "      <td>6.0</td>\n",
              "      <td>0.0</td>\n",
              "      <td>0.0</td>\n",
              "      <td>0.0</td>\n",
              "    </tr>\n",
              "    <tr>\n",
              "      <th>1</th>\n",
              "      <td>2070</td>\n",
              "      <td>1022003.0</td>\n",
              "      <td>0.0</td>\n",
              "      <td>1251.0</td>\n",
              "      <td>GROCERY</td>\n",
              "      <td>National</td>\n",
              "      <td>SOUP</td>\n",
              "      <td>CONDENSED SOUP</td>\n",
              "      <td>10.5OZ</td>\n",
              "      <td>2.202742</td>\n",
              "      <td>...</td>\n",
              "      <td>62.0</td>\n",
              "      <td>Unknown</td>\n",
              "      <td>1.0</td>\n",
              "      <td>0.0</td>\n",
              "      <td>1.0</td>\n",
              "      <td>2.413486</td>\n",
              "      <td>6.0</td>\n",
              "      <td>0.0</td>\n",
              "      <td>0.0</td>\n",
              "      <td>0.0</td>\n",
              "    </tr>\n",
              "  </tbody>\n",
              "</table>\n",
              "<p>2 rows × 23 columns</p>\n",
              "</div>"
            ],
            "text/plain": [
              "   user_id    item_id  target  manufacturer department     brand  \\\n",
              "0     2070  5569471.0     0.0        1208.0    GROCERY  National   \n",
              "1     2070  1022003.0     0.0        1251.0    GROCERY  National   \n",
              "\n",
              "  commodity_desc              sub_commodity_desc curr_size_of_product  \\\n",
              "0    SOFT DRINKS  SOFT DRINKS 12/18&15PK CAN CAR                12 OZ   \n",
              "1           SOUP                  CONDENSED SOUP               10.5OZ   \n",
              "\n",
              "   commodity_desc_mean_sale  ...  income_desc  homeowner_desc  \\\n",
              "0                  2.705525  ...         62.0         Unknown   \n",
              "1                  2.202742  ...         62.0         Unknown   \n",
              "\n",
              "  household_size_desc  kid_category_desc median_quantity  mean_sales_value  \\\n",
              "0                 1.0                0.0             1.0          2.413486   \n",
              "1                 1.0                0.0             1.0          2.413486   \n",
              "\n",
              "   mean_quantity_in_week  hh_comp_desc_female  hh_comp_desc_male  \\\n",
              "0                    6.0                  0.0                0.0   \n",
              "1                    6.0                  0.0                0.0   \n",
              "\n",
              "   hh_comp_desc_Adults_Kids  \n",
              "0                       0.0  \n",
              "1                       0.0  \n",
              "\n",
              "[2 rows x 23 columns]"
            ]
          },
          "execution_count": 30,
          "metadata": {},
          "output_type": "execute_result"
        }
      ],
      "source": [
        "train_data.head(2)"
      ]
    },
    {
      "cell_type": "code",
      "execution_count": 31,
      "metadata": {},
      "outputs": [],
      "source": [
        "# Получим список катероиальных и числовых признаков.\n",
        "categorical = []\n",
        "numerical = []\n",
        "for col, value in train_data.iteritems():\n",
        "    if value.dtype == 'object':\n",
        "        categorical.append(col)\n",
        "    else:\n",
        "        numerical.append(col)"
      ]
    },
    {
      "cell_type": "code",
      "execution_count": 32,
      "metadata": {},
      "outputs": [
        {
          "name": "stdout",
          "output_type": "stream",
          "text": [
            "['department', 'brand', 'commodity_desc', 'sub_commodity_desc', 'curr_size_of_product', 'marital_status_code', 'homeowner_desc']\n"
          ]
        }
      ],
      "source": [
        "print(categorical)"
      ]
    },
    {
      "cell_type": "code",
      "execution_count": 33,
      "metadata": {},
      "outputs": [
        {
          "name": "stdout",
          "output_type": "stream",
          "text": [
            "['user_id', 'item_id', 'target', 'manufacturer', 'commodity_desc_mean_sale', 'sale_in_week', 'age_desc', 'income_desc', 'household_size_desc', 'kid_category_desc', 'median_quantity', 'mean_sales_value', 'mean_quantity_in_week', 'hh_comp_desc_female', 'hh_comp_desc_male', 'hh_comp_desc_Adults_Kids']\n"
          ]
        }
      ],
      "source": [
        "print(numerical)"
      ]
    },
    {
      "cell_type": "markdown",
      "metadata": {},
      "source": [
        "### Уберем признаки содержащие большое к-во категорий"
      ]
    },
    {
      "cell_type": "code",
      "execution_count": 34,
      "metadata": {},
      "outputs": [
        {
          "name": "stdout",
          "output_type": "stream",
          "text": [
            "department: 21\n",
            "brand: 3\n",
            "commodity_desc: 200\n",
            "sub_commodity_desc: 746\n",
            "curr_size_of_product: 657\n",
            "marital_status_code: 4\n",
            "homeowner_desc: 6\n"
          ]
        }
      ],
      "source": [
        "for feature in categorical:\n",
        " print(f'{feature}: {len(train_data[feature].unique())}')"
      ]
    },
    {
      "cell_type": "code",
      "execution_count": 35,
      "metadata": {},
      "outputs": [],
      "source": [
        "features = ['commodity_desc', 'sub_commodity_desc', 'curr_size_of_product']\n",
        "train_data = train_data.drop(features, axis=1)\n",
        "test_data = test_data.drop(features, axis=1)"
      ]
    },
    {
      "cell_type": "code",
      "execution_count": 36,
      "metadata": {},
      "outputs": [
        {
          "name": "stdout",
          "output_type": "stream",
          "text": [
            "['GROCERY' 'MISC. TRANS.' 'PRODUCE' 'PASTRY' 'MEAT-PCKGD' 'MEAT'\n",
            " 'KIOSK-GAS' 'NUTRITION' 'SALAD BAR' 'DRUG GM' 'DELI' 'FLORAL' nan\n",
            " 'MISC SALES TRAN' 'GARDEN CENTER' 'SEAFOOD' 'CHEF SHOPPE' 'SEAFOOD-PCKGD'\n",
            " 'TRAVEL & LEISUR' 'COUP/STR & MFG' 'FROZEN GROCERY']\n"
          ]
        }
      ],
      "source": [
        "print(train_data['department'].unique())"
      ]
    },
    {
      "cell_type": "code",
      "execution_count": 37,
      "metadata": {},
      "outputs": [],
      "source": [
        "features = [ 'department',\n",
        "            'brand',\n",
        "            #'commodity_desc',\n",
        "            #'sub_commodity_desc',\n",
        "            #'curr_size_of_product',\n",
        "            'marital_status_code',\n",
        "            'homeowner_desc',\n",
        "            # 'hh_comp_desc',\n",
        "            # 'household_size_desc',\n",
        "            # 'kid_category_desc'\n",
        "           ]"
      ]
    },
    {
      "cell_type": "code",
      "execution_count": 38,
      "metadata": {},
      "outputs": [],
      "source": [
        "train_data = category_to_digit(train_data, features)"
      ]
    },
    {
      "cell_type": "code",
      "execution_count": 39,
      "metadata": {},
      "outputs": [],
      "source": [
        "test_data = category_to_digit(test_data, features)"
      ]
    },
    {
      "cell_type": "code",
      "execution_count": 40,
      "metadata": {},
      "outputs": [],
      "source": [
        "# y_train.mean()"
      ]
    },
    {
      "cell_type": "code",
      "execution_count": 41,
      "metadata": {},
      "outputs": [],
      "source": [
        "# y_test.mean()"
      ]
    },
    {
      "cell_type": "markdown",
      "metadata": {},
      "source": [
        "### Обучение модели. "
      ]
    },
    {
      "cell_type": "code",
      "execution_count": 42,
      "metadata": {},
      "outputs": [],
      "source": [
        "# X_train, X_val, y_train, y_val = train_test_split(X_train, y_train,\n",
        "#                                                   test_size=0.2,\n",
        "#                                                   random_state=27,\n",
        "#                                                  )"
      ]
    },
    {
      "cell_type": "code",
      "execution_count": 43,
      "metadata": {},
      "outputs": [],
      "source": [
        "TASK = Task('reg', loss='mse', metric='mse', greater_is_better=True)\n",
        "TIMEOUT = 300000\n",
        "N_THREADS = 4\n",
        "N_FOLDS = 5\n",
        "RANDOM_STATE = 27\n",
        "TARGET_NAME = 'target'\n",
        "TEST_SIZE=0.2"
      ]
    },
    {
      "cell_type": "code",
      "execution_count": 44,
      "metadata": {},
      "outputs": [],
      "source": [
        "roles = {'target': TARGET_NAME, 'drop': ['user_id', 'item_id']}"
      ]
    },
    {
      "cell_type": "code",
      "execution_count": 45,
      "metadata": {},
      "outputs": [],
      "source": [
        "automl_model = TabularAutoML(task=TASK,\n",
        "                            timeout=TIMEOUT,\n",
        "                            cpu_limit = N_THREADS,\n",
        "                            # gpu_ids='all',\n",
        "                            reader_params = {'n_jobs': N_THREADS, 'cv': N_FOLDS, 'random_state': RANDOM_STATE},\n",
        "                             \n",
        "                            general_params={'use_algos': [ ['lgb_tuned', 'cb_tuned', 'cb', 'lgb'] ]},\n",
        "                             \n",
        "                            tuning_params={'max_tuning_iter': 10},\n",
        "                      )"
      ]
    },
    {
      "cell_type": "code",
      "execution_count": 46,
      "metadata": {},
      "outputs": [
        {
          "name": "stderr",
          "output_type": "stream",
          "text": [
            "INFO:optuna.storages._in_memory:A new study created in memory with name: no-name-ba8c31e9-ebca-4e69-9eee-b14eaaebe31e\n",
            "INFO:optuna.study.study:Trial 0 finished with value: 0.13824886748602253 and parameters: {'feature_fraction': 0.6872700594236812, 'num_leaves': 244}. Best is trial 0 with value: 0.13824886748602253.\n",
            "INFO:optuna.study.study:Trial 1 finished with value: 0.13810733202433903 and parameters: {'feature_fraction': 0.8659969709057025, 'num_leaves': 159}. Best is trial 0 with value: 0.13824886748602253.\n",
            "INFO:optuna.study.study:Trial 2 finished with value: 0.13908203828552484 and parameters: {'feature_fraction': 0.5780093202212182, 'num_leaves': 53}. Best is trial 2 with value: 0.13908203828552484.\n",
            "INFO:optuna.study.study:Trial 3 finished with value: 0.1382597491855744 and parameters: {'feature_fraction': 0.5290418060840998, 'num_leaves': 223}. Best is trial 2 with value: 0.13908203828552484.\n",
            "INFO:optuna.study.study:Trial 4 finished with value: 0.13748892965173334 and parameters: {'feature_fraction': 0.8005575058716043, 'num_leaves': 185}. Best is trial 2 with value: 0.13908203828552484.\n",
            "INFO:optuna.study.study:Trial 5 finished with value: 0.13852428929719413 and parameters: {'feature_fraction': 0.5102922471479012, 'num_leaves': 248}. Best is trial 2 with value: 0.13908203828552484.\n",
            "INFO:optuna.study.study:Trial 6 finished with value: 0.13863152007087662 and parameters: {'feature_fraction': 0.9162213204002109, 'num_leaves': 66}. Best is trial 2 with value: 0.13908203828552484.\n",
            "INFO:optuna.study.study:Trial 7 finished with value: 0.13900540381828713 and parameters: {'feature_fraction': 0.5909124836035503, 'num_leaves': 60}. Best is trial 2 with value: 0.13908203828552484.\n",
            "INFO:optuna.study.study:Trial 8 finished with value: 0.1390203593022511 and parameters: {'feature_fraction': 0.6521211214797689, 'num_leaves': 141}. Best is trial 2 with value: 0.13908203828552484.\n",
            "INFO:optuna.study.study:Trial 9 finished with value: 0.13884688533048156 and parameters: {'feature_fraction': 0.7159725093210578, 'num_leaves': 85}. Best is trial 2 with value: 0.13908203828552484.\n",
            "INFO:optuna.storages._in_memory:A new study created in memory with name: no-name-0786738e-93ec-4eea-8e70-28756001c641\n",
            "INFO:optuna.study.study:Trial 0 finished with value: 0.14088110191382364 and parameters: {'max_depth': 4, 'nan_mode': 'Max'}. Best is trial 0 with value: 0.14088110191382364.\n",
            "INFO:optuna.study.study:Trial 1 finished with value: 0.1405036135204945 and parameters: {'max_depth': 5, 'nan_mode': 'Max'}. Best is trial 0 with value: 0.14088110191382364.\n",
            "INFO:optuna.study.study:Trial 2 finished with value: 0.1415749171371955 and parameters: {'max_depth': 3, 'nan_mode': 'Max'}. Best is trial 2 with value: 0.1415749171371955.\n",
            "INFO:optuna.study.study:Trial 3 finished with value: 0.13964694536389335 and parameters: {'max_depth': 6, 'nan_mode': 'Min'}. Best is trial 2 with value: 0.1415749171371955.\n",
            "INFO:optuna.study.study:Trial 4 finished with value: 0.1390021432874901 and parameters: {'max_depth': 7, 'nan_mode': 'Max'}. Best is trial 2 with value: 0.1415749171371955.\n",
            "INFO:optuna.study.study:Trial 5 finished with value: 0.14155683798045748 and parameters: {'max_depth': 3, 'nan_mode': 'Min'}. Best is trial 2 with value: 0.1415749171371955.\n",
            "INFO:optuna.study.study:Trial 6 finished with value: 0.14050420308085027 and parameters: {'max_depth': 5, 'nan_mode': 'Min'}. Best is trial 2 with value: 0.1415749171371955.\n",
            "INFO:optuna.study.study:Trial 7 finished with value: 0.14155683798045748 and parameters: {'max_depth': 3, 'nan_mode': 'Min'}. Best is trial 2 with value: 0.1415749171371955.\n",
            "INFO:optuna.study.study:Trial 8 finished with value: 0.1405036135204945 and parameters: {'max_depth': 5, 'nan_mode': 'Max'}. Best is trial 2 with value: 0.1415749171371955.\n",
            "INFO:optuna.study.study:Trial 9 finished with value: 0.1405036135204945 and parameters: {'max_depth': 5, 'nan_mode': 'Max'}. Best is trial 2 with value: 0.1415749171371955.\n"
          ]
        }
      ],
      "source": [
        "train_preds = automl_model.fit_predict(train_data, roles = roles)"
      ]
    },
    {
      "cell_type": "code",
      "execution_count": 47,
      "metadata": {},
      "outputs": [],
      "source": [
        "train_preds = train_preds.data[:, 0]"
      ]
    },
    {
      "cell_type": "code",
      "execution_count": 48,
      "metadata": {},
      "outputs": [],
      "source": [
        "# model_catb = catb.CatBoostClassifier(silent=True, \n",
        "#                                     random_state=27,\n",
        "#                                     # eval_metric='F1',\n",
        "#                                      early_stopping_rounds=20,\n",
        "#                                      use_best_model=True,\n",
        "#                                      num_boost_round=10000\n",
        "#                                     )"
      ]
    },
    {
      "cell_type": "code",
      "execution_count": 49,
      "metadata": {},
      "outputs": [],
      "source": [
        "# model_catb.fit(X_train, y_train, eval_set=(X_val, y_val))"
      ]
    },
    {
      "cell_type": "markdown",
      "metadata": {},
      "source": [
        "###  Предсказание "
      ]
    },
    {
      "cell_type": "code",
      "execution_count": 50,
      "metadata": {},
      "outputs": [],
      "source": [
        "def get_items(x_data, items, user_id, item_name, N=5, overall_top_purchases=None):\n",
        "    items_list = []\n",
        " \n",
        "    for item in items:\n",
        "        flag = (x_data.loc[((x_data['user_id']==user_id) & (x_data['item_id']==item)),item_name].mean())\n",
        "        \n",
        "        if (flag > 0.3):\n",
        "            items_list.append(item)\n",
        "\n",
        "    if not(overall_top_purchases is None):\n",
        "\n",
        "        if len(items_list) < N:\n",
        "            items_list.extend(overall_top_purchases[:N])\n",
        "        items_list = items_list[:N]\n",
        "    return items_list"
      ]
    },
    {
      "cell_type": "code",
      "execution_count": 51,
      "metadata": {},
      "outputs": [],
      "source": [
        "def get_final_recomendations(x_data, y_data, preds):\n",
        "    x_data = x_data.copy()\n",
        "    x_data['predict'] = preds\n",
        "    x_data['actual'] = y_data['target'].values\n",
        "\n",
        "    result = x_data.sort_values('predict', ascending=False).groupby('user_id')['item_id'].unique().reset_index()\n",
        "\n",
        "    overall_top_purchases = x_data.groupby('item_id')['item_id'].count()\n",
        "    overall_top_purchases = overall_top_purchases.sort_values(ascending=False).index.values\n",
        "\n",
        "    result_df= {'user_id':[], 'actual':[], 'predict':[]}\n",
        "\n",
        "    for res in tqdm(result.iterrows()):\n",
        "        user_id = res[1]['user_id']\n",
        "        item_ids = res[1]['item_id']\n",
        "        actual = get_items(x_data, item_ids, user_id, 'actual', N=final_predict_count)\n",
        "        if len(actual)>0:\n",
        "            result_df['user_id'].append(user_id)\n",
        "            predict_items= get_items(x_data, item_ids, user_id, 'predict', N=final_predict_count, overall_top_purchases = overall_top_purchases)\n",
        "            result_df['predict'].append(postfilter_items(predict_items, item_features, N=val_count)) # Бизнес-ограничения. ^_^\n",
        "            result_df['actual'].append(actual)\n",
        "    return pd.DataFrame(result_df) "
      ]
    },
    {
      "cell_type": "code",
      "execution_count": 52,
      "metadata": {},
      "outputs": [],
      "source": [
        "X_train = train_data.drop('target', axis=1)\n",
        "y_train = train_data[['target']]"
      ]
    },
    {
      "cell_type": "code",
      "execution_count": 53,
      "metadata": {},
      "outputs": [],
      "source": [
        "# train_preds = model_catb.predict_proba(X_train)[:,1]"
      ]
    },
    {
      "cell_type": "code",
      "execution_count": 54,
      "metadata": {},
      "outputs": [
        {
          "name": "stderr",
          "output_type": "stream",
          "text": [
            "2154it [02:15, 15.91it/s]\n"
          ]
        },
        {
          "data": {
            "text/html": [
              "<div>\n",
              "<style scoped>\n",
              "    .dataframe tbody tr th:only-of-type {\n",
              "        vertical-align: middle;\n",
              "    }\n",
              "\n",
              "    .dataframe tbody tr th {\n",
              "        vertical-align: top;\n",
              "    }\n",
              "\n",
              "    .dataframe thead th {\n",
              "        text-align: right;\n",
              "    }\n",
              "</style>\n",
              "<table border=\"1\" class=\"dataframe\">\n",
              "  <thead>\n",
              "    <tr style=\"text-align: right;\">\n",
              "      <th></th>\n",
              "      <th>user_id</th>\n",
              "      <th>actual</th>\n",
              "      <th>predict</th>\n",
              "    </tr>\n",
              "  </thead>\n",
              "  <tbody>\n",
              "    <tr>\n",
              "      <th>0</th>\n",
              "      <td>1</td>\n",
              "      <td>[1082185.0, 995242.0, 820165.0, 840361.0, 9655...</td>\n",
              "      <td>[1082185.0, 820165.0, 866227.0, 961554.0, 7025...</td>\n",
              "    </tr>\n",
              "    <tr>\n",
              "      <th>1</th>\n",
              "      <td>2</td>\n",
              "      <td>[1106523.0, 1133018.0, 899624.0, 916122.0, 838...</td>\n",
              "      <td>[1106523.0, 1108094.0, 900072.0, 6534178.0, 98...</td>\n",
              "    </tr>\n",
              "    <tr>\n",
              "      <th>2</th>\n",
              "      <td>4</td>\n",
              "      <td>[962229.0, 6773204.0]</td>\n",
              "      <td>[962229.0, 1082185.0, 995242.0, 981760.0, 9237...</td>\n",
              "    </tr>\n",
              "  </tbody>\n",
              "</table>\n",
              "</div>"
            ],
            "text/plain": [
              "   user_id                                             actual  \\\n",
              "0        1  [1082185.0, 995242.0, 820165.0, 840361.0, 9655...   \n",
              "1        2  [1106523.0, 1133018.0, 899624.0, 916122.0, 838...   \n",
              "2        4                              [962229.0, 6773204.0]   \n",
              "\n",
              "                                             predict  \n",
              "0  [1082185.0, 820165.0, 866227.0, 961554.0, 7025...  \n",
              "1  [1106523.0, 1108094.0, 900072.0, 6534178.0, 98...  \n",
              "2  [962229.0, 1082185.0, 995242.0, 981760.0, 9237...  "
            ]
          },
          "execution_count": 54,
          "metadata": {},
          "output_type": "execute_result"
        }
      ],
      "source": [
        "result_train = get_final_recomendations(X_train, y_train, train_preds)\n",
        "\n",
        "result_train.head(3)"
      ]
    },
    {
      "cell_type": "code",
      "execution_count": 55,
      "metadata": {},
      "outputs": [
        {
          "name": "stdout",
          "output_type": "stream",
          "text": [
            "Train precision: 0.314\n"
          ]
        }
      ],
      "source": [
        "precision_train = result_train.apply(lambda row: precision_at_k(row['predict'], row['actual']), axis=1).mean()\n",
        "print(f'Train precision: {precision_train:.03}')"
      ]
    },
    {
      "cell_type": "code",
      "execution_count": 56,
      "metadata": {},
      "outputs": [],
      "source": [
        "X_test = test_data.drop('target', axis=1)\n",
        "y_test = test_data[['target']]"
      ]
    },
    {
      "cell_type": "code",
      "execution_count": 57,
      "metadata": {},
      "outputs": [],
      "source": [
        "test_preds = automl_model.predict(test_data).data[:,0]"
      ]
    },
    {
      "cell_type": "code",
      "execution_count": 58,
      "metadata": {},
      "outputs": [
        {
          "name": "stderr",
          "output_type": "stream",
          "text": [
            "2042it [02:11, 15.55it/s]\n"
          ]
        },
        {
          "data": {
            "text/html": [
              "<div>\n",
              "<style scoped>\n",
              "    .dataframe tbody tr th:only-of-type {\n",
              "        vertical-align: middle;\n",
              "    }\n",
              "\n",
              "    .dataframe tbody tr th {\n",
              "        vertical-align: top;\n",
              "    }\n",
              "\n",
              "    .dataframe thead th {\n",
              "        text-align: right;\n",
              "    }\n",
              "</style>\n",
              "<table border=\"1\" class=\"dataframe\">\n",
              "  <thead>\n",
              "    <tr style=\"text-align: right;\">\n",
              "      <th></th>\n",
              "      <th>user_id</th>\n",
              "      <th>actual</th>\n",
              "      <th>predict</th>\n",
              "    </tr>\n",
              "  </thead>\n",
              "  <tbody>\n",
              "    <tr>\n",
              "      <th>0</th>\n",
              "      <td>1</td>\n",
              "      <td>[1082185.0, 995242.0, 961554.0, 8293439.0, 940...</td>\n",
              "      <td>[1082185.0, 820165.0, 840361.0, 898121.0, 9615...</td>\n",
              "    </tr>\n",
              "    <tr>\n",
              "      <th>1</th>\n",
              "      <td>3</td>\n",
              "      <td>[6463658.0, 1053690.0, 9526563.0]</td>\n",
              "      <td>[951590.0, 1053690.0, 938700.0, 6534178.0, 995...</td>\n",
              "    </tr>\n",
              "    <tr>\n",
              "      <th>2</th>\n",
              "      <td>6</td>\n",
              "      <td>[995242.0, 1119051.0, 5569230.0, 840361.0, 558...</td>\n",
              "      <td>[1082185.0, 1029743.0, 878715.0, 1119051.0, 10...</td>\n",
              "    </tr>\n",
              "  </tbody>\n",
              "</table>\n",
              "</div>"
            ],
            "text/plain": [
              "   user_id                                             actual  \\\n",
              "0        1  [1082185.0, 995242.0, 961554.0, 8293439.0, 940...   \n",
              "1        3                  [6463658.0, 1053690.0, 9526563.0]   \n",
              "2        6  [995242.0, 1119051.0, 5569230.0, 840361.0, 558...   \n",
              "\n",
              "                                             predict  \n",
              "0  [1082185.0, 820165.0, 840361.0, 898121.0, 9615...  \n",
              "1  [951590.0, 1053690.0, 938700.0, 6534178.0, 995...  \n",
              "2  [1082185.0, 1029743.0, 878715.0, 1119051.0, 10...  "
            ]
          },
          "execution_count": 58,
          "metadata": {},
          "output_type": "execute_result"
        }
      ],
      "source": [
        "result_test = get_final_recomendations(X_test, y_test, test_preds)\n",
        "\n",
        "result_test.head(3)"
      ]
    },
    {
      "cell_type": "code",
      "execution_count": 59,
      "metadata": {},
      "outputs": [
        {
          "name": "stdout",
          "output_type": "stream",
          "text": [
            "Test precision: 0.268\n"
          ]
        }
      ],
      "source": [
        "precision_test = result_test.apply(lambda row: precision_at_k(row['predict'], row['actual']), axis=1).mean()\n",
        "print(f'Test precision: {precision_test:.03}')"
      ]
    },
    {
      "cell_type": "markdown",
      "metadata": {},
      "source": [
        "### Сохранение результатов. "
      ]
    },
    {
      "cell_type": "code",
      "execution_count": 60,
      "metadata": {},
      "outputs": [],
      "source": [
        "result_test.to_csv('finally_prediction_lama_regression.csv', index=False)"
      ]
    },
    {
      "cell_type": "code",
      "execution_count": 61,
      "metadata": {},
      "outputs": [],
      "source": [
        "import pickle\n",
        "\n",
        "with open('automl_model_regression.pickle', 'wb') as f:\n",
        "    pickle.dump(automl_model, f, protocol=pickle.HIGHEST_PROTOCOL)"
      ]
    }
  ],
  "metadata": {
    "colab": {
      "name": "hw_webinar_6.ipynb",
      "provenance": []
    },
    "kernelspec": {
      "display_name": "Python 3",
      "language": "python",
      "name": "python3"
    },
    "language_info": {
      "codemirror_mode": {
        "name": "ipython",
        "version": 3
      },
      "file_extension": ".py",
      "mimetype": "text/x-python",
      "name": "python",
      "nbconvert_exporter": "python",
      "pygments_lexer": "ipython3",
      "version": "3.8.0"
    }
  },
  "nbformat": 4,
  "nbformat_minor": 0
}
