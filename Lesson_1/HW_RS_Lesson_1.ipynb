{
 "cells": [
  {
   "cell_type": "markdown",
   "metadata": {},
   "source": [
    "# Вебинар 1. Введение, примеры задач, бизнес- и ML-метрики "
   ]
  },
  {
   "cell_type": "markdown",
   "metadata": {},
   "source": [
    "## Задание. \n",
    "\n",
    "1. hit rate at k\n",
    "2. money_precision_at_k\n",
    "3. recall_at_k\n",
    "4. money_recall_at_k\n",
    "5. *average_precision для ранжирования по примеру с картинки лекции\n",
    "6. map@k\n",
    "7. *NDCG@k - для оценок пользователей (1-3) по учебному примеру из лекции\n",
    "8. Mean Reciprocal Rank"
   ]
  },
  {
   "cell_type": "code",
   "execution_count": 48,
   "metadata": {},
   "outputs": [],
   "source": [
    "import numpy as np\n",
    "import pandas as pd\n",
    "\n",
    "recommended_list = [143, 156, 1134, 991, 27, 1543, 3345, 533, 11, 43]\n",
    "bought_list = [521, 32, 143, 991]\n",
    "\n",
    "prices_recommended = [100, 90, 10, 450, 50, 37, 99, 120, 34, 100]\n",
    "prices_bought = [110, 190, 100, 450]"
   ]
  },
  {
   "cell_type": "markdown",
   "metadata": {},
   "source": [
    "### 1. hit_rate@K"
   ]
  },
  {
   "cell_type": "code",
   "execution_count": 49,
   "metadata": {},
   "outputs": [],
   "source": [
    "def hit_rate_at_k(recommended_list, bought_list, k=5):\n",
    "    \n",
    "    bought_list = np.array(bought_list)\n",
    "    recommended_list = np.array(recommended_list)[:k]\n",
    "    \n",
    "    flags = np.isin(bought_list, recommended_list)\n",
    "   \n",
    "    hit_rate = (flags.sum() > 0) * 1\n",
    "    \n",
    "    return hit_rate"
   ]
  },
  {
   "cell_type": "code",
   "execution_count": 50,
   "metadata": {},
   "outputs": [
    {
     "data": {
      "text/plain": [
       "1"
      ]
     },
     "execution_count": 50,
     "metadata": {},
     "output_type": "execute_result"
    }
   ],
   "source": [
    "hit_rate_at_k(recommended_list, bought_list)"
   ]
  },
  {
   "cell_type": "markdown",
   "metadata": {},
   "source": [
    "### 2. money_precision@k"
   ]
  },
  {
   "cell_type": "code",
   "execution_count": 51,
   "metadata": {},
   "outputs": [],
   "source": [
    "recommended_list = [143, 156, 1134, 991, 27, 1543, 3345, 533, 11, 43]\n",
    "bought_list = [521, 32, 143, 991] \n",
    "            #  [0, 0, 100, 450] \n",
    "\n",
    "prices_recommended = [100, 90, 10, 450, 50, 37, 99, 120, 34, 100]\n",
    "prices_bought = [110, 190, 100, 450]"
   ]
  },
  {
   "cell_type": "code",
   "execution_count": 52,
   "metadata": {},
   "outputs": [
    {
     "data": {
      "text/plain": [
       "0.5045871559633027"
      ]
     },
     "execution_count": 52,
     "metadata": {},
     "output_type": "execute_result"
    }
   ],
   "source": [
    "money_precision = (1*100 + 0*90 + 0*10 + 1*450+ 0*50 + 0*37 + 0*99 + 0*120 + 0*34 + 0 * 100)/(100+ 90+ 10+ 450+ 50+ 37+ 99+ 120+ 34+ 100)\n",
    "money_precision"
   ]
  },
  {
   "cell_type": "code",
   "execution_count": 53,
   "metadata": {},
   "outputs": [
    {
     "data": {
      "text/plain": [
       "0.7857142857142857"
      ]
     },
     "execution_count": 53,
     "metadata": {},
     "output_type": "execute_result"
    }
   ],
   "source": [
    "money_precision_at_5 = (1*100 + 0*90 + 0*10 + 1*450+ 0*50)/(100+ 90+ 10+ 450+ 50)\n",
    "money_precision_at_5"
   ]
  },
  {
   "cell_type": "code",
   "execution_count": 54,
   "metadata": {},
   "outputs": [],
   "source": [
    "def money_precision_at_k(recommended_list, bought_list, prices_recommended, k=5):\n",
    "        \n",
    "    bought_list = np.array(bought_list)\n",
    "    recommended_list = np.array(recommended_list)[:k]\n",
    "    prices_recommended = np.array(prices_recommended)[:k]\n",
    "\n",
    "    flags = np.array(np.isin(recommended_list, bought_list), dtype=np.int32)\n",
    "    \n",
    "    result = flags * prices_recommended\n",
    "    m_precision = result.sum() / prices_recommended.sum()\n",
    "    \n",
    "    return m_precision"
   ]
  },
  {
   "cell_type": "code",
   "execution_count": 55,
   "metadata": {},
   "outputs": [
    {
     "data": {
      "text/plain": [
       "0.7857142857142857"
      ]
     },
     "execution_count": 55,
     "metadata": {},
     "output_type": "execute_result"
    }
   ],
   "source": [
    "money_precision_at_k(recommended_list, bought_list, prices_recommended, k=5)"
   ]
  },
  {
   "cell_type": "markdown",
   "metadata": {},
   "source": [
    "### 3. recall@k"
   ]
  },
  {
   "cell_type": "code",
   "execution_count": 56,
   "metadata": {},
   "outputs": [
    {
     "data": {
      "text/plain": [
       "0.5"
      ]
     },
     "execution_count": 56,
     "metadata": {},
     "output_type": "execute_result"
    }
   ],
   "source": [
    "recall_at_5 = (1 + 0 + 0 + 1 + 0)/(4) \n",
    "recall_at_5"
   ]
  },
  {
   "cell_type": "code",
   "execution_count": 57,
   "metadata": {},
   "outputs": [],
   "source": [
    "def recall_at_k(recommended_list, bought_list, k=5):\n",
    "    \n",
    "    bought_list = np.array(bought_list)\n",
    "    recommended_list = np.array(recommended_list)[:k]\n",
    "    \n",
    "    flags = np.isin(bought_list, recommended_list) \n",
    "    \n",
    "    recall = flags.sum() / len(bought_list)\n",
    "    \n",
    "    return recall"
   ]
  },
  {
   "cell_type": "code",
   "execution_count": 58,
   "metadata": {},
   "outputs": [
    {
     "data": {
      "text/plain": [
       "0.5"
      ]
     },
     "execution_count": 58,
     "metadata": {},
     "output_type": "execute_result"
    }
   ],
   "source": [
    "recall_at_k(recommended_list, bought_list, k=5)"
   ]
  },
  {
   "cell_type": "markdown",
   "metadata": {},
   "source": [
    "### 4. money_recall@k"
   ]
  },
  {
   "cell_type": "code",
   "execution_count": 59,
   "metadata": {},
   "outputs": [
    {
     "data": {
      "text/plain": [
       "0.6470588235294118"
      ]
     },
     "execution_count": 59,
     "metadata": {},
     "output_type": "execute_result"
    }
   ],
   "source": [
    "money_recall_at_k = (1*100 + 0*90 + 0*10 + 1*450+ 0*50)/(110 + 190 + 100 + 450)\n",
    "money_recall_at_k"
   ]
  },
  {
   "cell_type": "code",
   "execution_count": 60,
   "metadata": {},
   "outputs": [],
   "source": [
    "def money_recall_at_k(recommended_list, bought_list, prices_recommended, prices_bought, k=5):\n",
    "    \n",
    "    bought_list = np.array(bought_list)\n",
    "    recommended_list = np.array(recommended_list)[:k]\n",
    "    prices_recommended = np.array(prices_recommended)[:k]\n",
    "    prices_bought = np.array(prices_bought)\n",
    "    \n",
    "    flags = np.array(np.isin(recommended_list, bought_list), dtype=np.int32)\n",
    "    result = flags * prices_recommended\n",
    "    recall = result.sum() / prices_bought.sum()\n",
    "    \n",
    "    return recall"
   ]
  },
  {
   "cell_type": "code",
   "execution_count": 61,
   "metadata": {},
   "outputs": [
    {
     "data": {
      "text/plain": [
       "0.6470588235294118"
      ]
     },
     "execution_count": 61,
     "metadata": {},
     "output_type": "execute_result"
    }
   ],
   "source": [
    "money_recall_at_k(recommended_list, bought_list, prices_recommended, prices_bought, k=4)"
   ]
  },
  {
   "cell_type": "markdown",
   "metadata": {},
   "source": [
    "### 5. *average_precision (для ранжирования по примеру с картинки лекции)"
   ]
  },
  {
   "cell_type": "code",
   "execution_count": 62,
   "metadata": {},
   "outputs": [],
   "source": [
    "def precision_at_k(recommended_list, bought_list, k=5):\n",
    "        \n",
    "    bought_list = np.array(bought_list)\n",
    "    recommended_list = np.array(recommended_list)[:k]\n",
    "\n",
    "    flags = np.array(np.isin(recommended_list, bought_list), dtype=np.int32)\n",
    "\n",
    "    m_precision = flags.sum() / len(recommended_list)\n",
    "    \n",
    "    return m_precision"
   ]
  },
  {
   "cell_type": "code",
   "execution_count": 63,
   "metadata": {},
   "outputs": [],
   "source": [
    "def ap_k(recommended_list, bought_list, k=5):\n",
    "    \n",
    "    bought_list = np.array(bought_list)\n",
    "    recommended_list = np.array(recommended_list)\n",
    "    \n",
    "    flags = np.isin(recommended_list, bought_list)\n",
    "    \n",
    "    if sum(flags) == 0:\n",
    "        return 0\n",
    "\n",
    "    sum_ = 0\n",
    "    for i in range(0, k-1):\n",
    "        if flags[i] == True:\n",
    "            p_k = precision_at_k(recommended_list, bought_list, k=i+1)\n",
    "            sum_ += p_k\n",
    "            \n",
    "    result = sum_ / sum(flags)\n",
    "    \n",
    "    return result"
   ]
  },
  {
   "cell_type": "code",
   "execution_count": 64,
   "metadata": {},
   "outputs": [
    {
     "data": {
      "text/plain": [
       "0.75"
      ]
     },
     "execution_count": 64,
     "metadata": {},
     "output_type": "execute_result"
    }
   ],
   "source": [
    "ap_k(recommended_list, bought_list, k=5)"
   ]
  },
  {
   "cell_type": "markdown",
   "metadata": {},
   "source": [
    "### Для примера из урока"
   ]
  },
  {
   "cell_type": "markdown",
   "metadata": {},
   "source": [
    "<img src=\"ap_k.png\">"
   ]
  },
  {
   "cell_type": "code",
   "execution_count": 65,
   "metadata": {},
   "outputs": [
    {
     "data": {
      "text/plain": [
       "0.7708333333333333"
      ]
     },
     "execution_count": 65,
     "metadata": {},
     "output_type": "execute_result"
    }
   ],
   "source": [
    "# Посчитаем сначала вручную.\n",
    "ap_4 = 1/4*(1/1+2/3+3/4+4/6)\n",
    "ap_4"
   ]
  },
  {
   "cell_type": "code",
   "execution_count": 66,
   "metadata": {},
   "outputs": [
    {
     "data": {
      "text/plain": [
       "0.7708333333333333"
      ]
     },
     "execution_count": 66,
     "metadata": {},
     "output_type": "execute_result"
    }
   ],
   "source": [
    "ap_recommended_list = [143, 156, 521, 32, 27, 991, 3345, 533, 11, 43]\n",
    "ap_bought_list = [521, 32, 143, 991]\n",
    "\n",
    "ap_k(ap_recommended_list, ap_bought_list, k=8)"
   ]
  },
  {
   "cell_type": "markdown",
   "metadata": {},
   "source": [
    "### 6. MAP@k (Mean Average Precision@k)  \n",
    "\n",
    "$MAP@k = \\frac{1}{|U|} \\sum_u{AP_k}$\n",
    "  \n",
    "|U| - кол-во юзеров"
   ]
  },
  {
   "cell_type": "code",
   "execution_count": 67,
   "metadata": {},
   "outputs": [],
   "source": [
    "def map_k(recommendeds, boughts, k=5):\n",
    "    items_count = len(recommendeds)\n",
    "    ap_k_list = []\n",
    "    for i in range(items_count):\n",
    "        ap_k_list.append(ap_k(recommendeds[i], boughts[i], k))\n",
    "    \n",
    "    ap_k_list = np.array(ap_k_list)\n",
    "    result = ap_k_list.sum()/items_count\n",
    "    return result"
   ]
  },
  {
   "cell_type": "markdown",
   "metadata": {},
   "source": [
    "Чтобы не усложнять задачу. Просто возьмем список с рекомендациями (recommended_list и bought_list) и, продублирую несколько раз.  "
   ]
  },
  {
   "cell_type": "code",
   "execution_count": 68,
   "metadata": {},
   "outputs": [
    {
     "data": {
      "text/plain": [
       "0.75"
      ]
     },
     "execution_count": 68,
     "metadata": {},
     "output_type": "execute_result"
    }
   ],
   "source": [
    "recommendeds = [recommended_list,recommended_list,recommended_list] \n",
    "boughts = [bought_list,bought_list,bought_list]\n",
    "\n",
    "map_k(recommendeds, boughts, k=5)"
   ]
  },
  {
   "cell_type": "markdown",
   "metadata": {},
   "source": [
    "### 7. *NDCG@k - для оценок пользователей (1-3) по учебному примеру из лекции"
   ]
  },
  {
   "cell_type": "code",
   "execution_count": 69,
   "metadata": {},
   "outputs": [
    {
     "name": "stdout",
     "output_type": "stream",
     "text": [
      "DCG_5: 0.34426950408889634\n",
      "ideal_DCG_5: 0.939123344503979\n",
      "------------------------------\n",
      "NDCG_k: 0.36658603590642364\n"
     ]
    }
   ],
   "source": [
    "DCG_5 =1/5*(1+ 0/np.log(2)+ 0/np.log(3) + 1/np.log(4)+ 0/np.log(5))  \n",
    "\n",
    "ideal_DCG_5 =1/5*(1 + 1/np.log(2) + 1/np.log(3) + 1/np.log(4)+ 1/np.log(5))\n",
    "\n",
    "print(f'DCG_5: {DCG_5}')\n",
    "print(f'ideal_DCG_5: {ideal_DCG_5}')\n",
    "print('-'*30)\n",
    "print(f'NDCG_k: {DCG_5/ideal_DCG_5}')"
   ]
  },
  {
   "cell_type": "code",
   "execution_count": 70,
   "metadata": {},
   "outputs": [],
   "source": [
    "def NDCG_k(recommended_list, bought_list, k=5):\n",
    "        \n",
    "    bought_list = np.array(bought_list)\n",
    "    recommended_list = np.array(recommended_list)[:k]\n",
    "    \n",
    "    flags = np.isin(recommended_list, bought_list) \n",
    "    \n",
    "    if sum(flags) == 0:\n",
    "        return 0\n",
    "\n",
    "    dcg = 1 if flags[0] == True else 0 \n",
    "    idcg = 1\n",
    "\n",
    "    for i in range(1, k):\n",
    "        if flags[i] == True:\n",
    "            dcg += 1/np.log(i+1)\n",
    "        idcg += 1/np.log(i+1)\n",
    "\n",
    "    result = (dcg / idcg)\n",
    "    \n",
    "    return result    "
   ]
  },
  {
   "cell_type": "code",
   "execution_count": 71,
   "metadata": {},
   "outputs": [
    {
     "data": {
      "text/plain": [
       "0.3665860359064237"
      ]
     },
     "execution_count": 71,
     "metadata": {},
     "output_type": "execute_result"
    }
   ],
   "source": [
    "NDCG_k(recommended_list, bought_list, k=5)"
   ]
  },
  {
   "cell_type": "markdown",
   "metadata": {},
   "source": [
    "### Для примера из урока."
   ]
  },
  {
   "cell_type": "markdown",
   "metadata": {},
   "source": [
    "В примере использованы 3-и уровня релевантности. \n",
    "\n",
    "1. Не релевантно,\n",
    "2. В целом релевантно,\n",
    "3. Полное совпадение.\n",
    "\n",
    "<img src='comulative_gain.png'>\n",
    "\n",
    "<img src='Discounted_comulative_gain.png'>"
   ]
  },
  {
   "cell_type": "markdown",
   "metadata": {},
   "source": [
    "Здесь не вполне понятно как оценивать все 3-и уровня релевантности.  Необходим какой-то более сложный пример чем  просто номера товаров.\n",
    "\n",
    "1. Вообще не угадал\n",
    "2. Например угадал категорию товара но, не угадал марку.\n",
    "3. Все совпало."
   ]
  },
  {
   "cell_type": "code",
   "execution_count": 73,
   "metadata": {},
   "outputs": [
    {
     "name": "stdout",
     "output_type": "stream",
     "text": [
      "DCG_3: 1.847275324566052\n",
      "ideal_DCG_3: 4.074281787960283\n",
      "------------------------------\n",
      "NDCG_3: 0.45339900888172435\n"
     ]
    }
   ],
   "source": [
    "DCG_3 =1/3*(3+ 0/np.log(2)+ 2/np.log(3) + 1/np.log(4))  \n",
    "\n",
    "ideal_DCG_3 =1/3*(3 + 3/np.log(2) + 3/np.log(3) + 3/np.log(4))\n",
    "\n",
    "print(f'DCG_3: {DCG_3}')\n",
    "print(f'ideal_DCG_3: {ideal_DCG_3}')\n",
    "print('-'*30)\n",
    "print(f'NDCG_3: {DCG_3/ideal_DCG_3}')"
   ]
  },
  {
   "cell_type": "markdown",
   "metadata": {},
   "source": [
    "### 8. Mean Reciprocal Rank"
   ]
  },
  {
   "cell_type": "markdown",
   "metadata": {},
   "source": [
    "$$MRR= \\frac{1}{5}\\cdot\\big(\\frac{1}{3}+\\frac{1}{4}\\big) = 0.1166$$"
   ]
  },
  {
   "cell_type": "code",
   "execution_count": 74,
   "metadata": {},
   "outputs": [
    {
     "data": {
      "text/plain": [
       "0.11666666666666665"
      ]
     },
     "execution_count": 74,
     "metadata": {},
     "output_type": "execute_result"
    }
   ],
   "source": [
    "Mrr= 1/5*(1/3+1/4)\n",
    "Mrr"
   ]
  },
  {
   "cell_type": "code",
   "execution_count": 75,
   "metadata": {},
   "outputs": [],
   "source": [
    "def reciprocal_rank(recommended_list, bought_list, k=5): # здесь еще к-во добавить нужно\n",
    "    bought_list = np.array(bought_list)\n",
    "    recommended_list = np.array(recommended_list)[:k]\n",
    "    ranks=0.\n",
    "    \n",
    "    for item_rec in recommended_list:\n",
    "        for i, item_bought in enumerate(bought_list):\n",
    "            if item_rec == item_bought:\n",
    "                ranks += 1 / (i+1)\n",
    "                # print(i+1)\n",
    "\n",
    "    return ranks / len(recommended_list)"
   ]
  },
  {
   "cell_type": "code",
   "execution_count": 76,
   "metadata": {},
   "outputs": [
    {
     "data": {
      "text/plain": [
       "0.11666666666666665"
      ]
     },
     "execution_count": 76,
     "metadata": {},
     "output_type": "execute_result"
    }
   ],
   "source": [
    "reciprocal_rank(recommended_list, bought_list, k=5)"
   ]
  }
 ],
 "metadata": {
  "interpreter": {
   "hash": "8c7764575684a68c18a95b3bc8da49e78282d15ddb506d512fd9ba34c47f1c7b"
  },
  "kernelspec": {
   "display_name": "Python 3 (ipykernel)",
   "language": "python",
   "name": "python3"
  },
  "language_info": {
   "codemirror_mode": {
    "name": "ipython",
    "version": 3
   },
   "file_extension": ".py",
   "mimetype": "text/x-python",
   "name": "python",
   "nbconvert_exporter": "python",
   "pygments_lexer": "ipython3",
   "version": "3.8.8"
  }
 },
 "nbformat": 4,
 "nbformat_minor": 2
}
